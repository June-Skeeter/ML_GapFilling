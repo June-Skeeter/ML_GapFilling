{
 "cells": [
  {
   "cell_type": "code",
   "execution_count": 18,
   "metadata": {
    "collapsed": true
   },
   "outputs": [],
   "source": [
    "import time\n",
    "import math\n",
    "import numpy as np\n",
    "import pandas as pd\n",
    "import matplotlib.pyplot as plt\n",
    "from itertools import combinations\n",
    "from functools import partial\n",
    "from multiprocessing import Pool\n",
    "from sklearn.preprocessing import StandardScaler\n",
    "from sklearn import metrics\n",
    "from sklearn.model_selection import RepeatedKFold\n",
    "import warnings\n",
    "warnings.filterwarnings('ignore')\n",
    "from sklearn.model_selection import train_test_split\n",
    "\n",
    "%matplotlib inline\n",
    "%config IPCompleter.greedy=True\n",
    "plt.rcParams[\"figure.figsize\"] = (14, 8)"
   ]
  },
  {
   "cell_type": "code",
   "execution_count": 19,
   "metadata": {},
   "outputs": [
    {
     "name": "stdout",
     "output_type": "stream",
     "text": [
      "    N  T  MSE  STD\n",
      "0  83  3  0.0  0.0\n",
      "1  71  2  0.0  0.0\n",
      "2  26  3  0.0  0.0\n",
      "3  10  4  0.0  0.0\n",
      "4  20  2  0.0  0.0\n",
      "{'reps': 9, 'N_Max': 100, 'T_Max': 5, 'epochs': 10, 'Searches': 5, 'proc': 3, 'Y': 'ch4_flux'}\n"
     ]
    },
    {
     "data": {
      "text/plain": [
       "<matplotlib.collections.PathCollection at 0x7f7689063828>"
      ]
     },
     "execution_count": 19,
     "metadata": {},
     "output_type": "execute_result"
    },
    {
     "data": {
      "image/png": "[encoded data removed]",
      "text/plain": [
       "<matplotlib.figure.Figure at 0x7f7688e7e6d8>"
      ]
     },
     "metadata": {},
     "output_type": "display_data"
    }
   ],
   "source": [
    "class Params:\n",
    "    def __init__(self,Func,samp_size,Y):\n",
    "        if Func == 'Quick':            \n",
    "            epochs = 1000\n",
    "            reps = 10\n",
    "            N_Max = 150\n",
    "            T_Max = 6\n",
    "        elif Func == 'Full':\n",
    "            epochs = 1000\n",
    "            reps = 100\n",
    "            N_Max = 200\n",
    "            T_Max = 12\n",
    "        else:\n",
    "            epochs = 10\n",
    "            reps = 9\n",
    "            N_Max = 100\n",
    "            T_Max = 5\n",
    "        N = np.array(np.random.rand(samp_size)*(N_Max-1)+1,dtype='int32')\n",
    "        T = np.array(np.random.rand(samp_size)*T_Max,dtype='int32')\n",
    "        d = {'N':N,'T':T}\n",
    "        self.Runs = pd.DataFrame(data=d)\n",
    "        self.params = {}\n",
    "        self.params['T_Max'] = T_Max\n",
    "        self.params['N_Max'] = N_Max\n",
    "        self.params['reps'] = reps\n",
    "        self.params['epochs'] = epochs\n",
    "        self.params['Y'] = Y\n",
    "        self.params['proc']=3\n",
    "        self.params['Searches']=5\n",
    "\n",
    "rpms = Params('Full',30,'ch4_flux')\n",
    "# rpms = Params('Test',5,'ch4_flux')\n",
    "Runs,params = rpms.Runs,rpms.params\n",
    "Runs['MSE'] = 0.0\n",
    "Runs['STD'] = 0.0\n",
    "print(Runs)\n",
    "print(params)\n",
    "plt.figure()\n",
    "plt.scatter(Runs[\"N\"],Runs['T'],s=100,c=Runs['MSE'])"
   ]
  },
  {
   "cell_type": "code",
   "execution_count": 20,
   "metadata": {
    "collapsed": true
   },
   "outputs": [],
   "source": [
    "class ReadStandardTime:\n",
    "    def __init__(self,Path):\n",
    "        self.Master = pd.read_csv(Path,delimiter = ',',header = 0,na_values = -9999)\n",
    "        self.Master = self.Master.set_index(pd.DatetimeIndex(pd.to_datetime(self.Master['datetime'])))\n",
    "        self.Master['DOY'] = self.Master.index.dayofyear*1.0\n",
    "        self.Master['HR'] = self.Master.index.hour*1.0\n",
    "        \n",
    "    def Scale(self,y_var,X_vars):\n",
    "        self.y_var = y_var\n",
    "        self.Data = self.Master[np.isfinite(self.Master[y_var])]\n",
    "        self.Data = self.Data.interpolate().bfill()\n",
    "        self.Data = self.Data.interpolate().ffill()\n",
    "        self.y = self.Data[y_var].values\n",
    "        YStandard = StandardScaler()\n",
    "        self.YScaled = YStandard.fit(self.y.reshape(-1, 1))\n",
    "        Yscale = self.YScaled.transform(self.y.reshape(-1, 1))\n",
    "        self.y = np.ndarray.flatten(Yscale)\n",
    "        self.Ytru = self.YScaled.inverse_transform(self.y.reshape(-1,1))\n",
    "        X = self.Data[X_vars]\n",
    "        self.input_shape = len(X_vars)\n",
    "        XStandard = StandardScaler()\n",
    "        self.XScaled= XStandard.fit(X)\n",
    "        self.X = self.XScaled.transform(X)\n",
    "        Filling = self.Master[X_vars]\n",
    "        Filling = Filling.interpolate().bfill()\n",
    "        Filling = Filling.interpolate().ffill()\n",
    "        XStandard = StandardScaler()\n",
    "        self.XFillScaled= XStandard.fit(Filling)\n",
    "        self.X_fill = self.XScaled.transform(Filling)\n",
    "        \n",
    "    def TimeShape(self,rolls):\n",
    "        X1 = self.X\n",
    "        Xf = self.X_fill\n",
    "        self.X_time = np.zeros(shape = (X1.shape[0],rolls+1,X1.shape[1]))\n",
    "        self.X_time[:,0,:] = X1\n",
    "        self.X_ftime = np.zeros(shape = (Xf.shape[0],rolls+1,Xf.shape[1]))\n",
    "        self.X_ftime[:,0,:] = Xf\n",
    "        if rolls > 0:\n",
    "            for roll in range(0,rolls):\n",
    "                X2 = np.roll(X1,(roll+1),axis=0)\n",
    "                X2f = np.roll(Xf,(roll+1),axis=0)\n",
    "                self.X_time[:,roll+1,:] = X2\n",
    "                self.X_ftime[:,roll+1,:] = Xf\n",
    "        self.X_time = self.X_time[rolls+1:,:,:]\n",
    "        self.X_ftime = self.X_ftime[rolls+1:,:,:]\n",
    "        self.y_time = self.y[rolls+1:]\n",
    "        self.y_ftime = self.y[rolls+1:]\n",
    "        self.TimeSteps = rolls+1\n",
    "        \n",
    "    def Fill(self,Y_Pred):\n",
    "        Y_fill = self.YScaled.inverse_transform(Y_Pred.reshape(-1,1))\n",
    "        nanz = np.zeros(shape=(self.TimeSteps,1))\n",
    "        nanz[:,:] = np.nan\n",
    "        Y_Pred = np.concatenate((nanz,Y_fill),axis=0).reshape(-1,1)\n",
    "        self.Master['TempFIll'] = Y_Pred\n",
    "        self.Master[self.y_var+'_Filled'] = self.Master[self.y_var].fillna(self.Master['TempFIll'])"
   ]
  },
  {
   "cell_type": "code",
   "execution_count": 21,
   "metadata": {
    "collapsed": true
   },
   "outputs": [],
   "source": [
    "def LSTM_Model(Neurons,batch_size,time_steps,inputs,lr=1e-4,Memory=.9):\n",
    "    import keras\n",
    "    from keras.models import Sequential\n",
    "    from keras.layers import Dense\n",
    "    from keras.layers import LSTM\n",
    "    from keras.wrappers.scikit_learn import KerasRegressor\n",
    "    from keras.callbacks import EarlyStopping,ModelCheckpoint,LearningRateScheduler\n",
    "#     from keras import backend as K\n",
    "    import tensorflow as tf\n",
    "    config = tf.ConfigProto()\n",
    "    config.gpu_options.per_process_gpu_memory_fraction = Memory\n",
    "    session = tf.Session(config=config)\n",
    "    model = Sequential()\n",
    "    model.add(LSTM(Neurons, input_shape=(time_steps,inputs),stateful = False))\n",
    "    model.add(Dense(1))\n",
    "    NUM_GPU = 1 # or the number of GPUs available on your machine\n",
    "    \n",
    "    adam = keras.optimizers.Adam(lr = lr)\n",
    "    gpu_list = []\n",
    "    for i in range(NUM_GPU): gpu_list.append('gpu(%d)' % i)\n",
    "    model.compile(loss='mean_squared_error', optimizer='adam')#,context=gpu_list) # - Add if using MXNET\n",
    "    return(model)\n",
    "\n",
    "def Train_Steps(epochs,Neurons,X_train,X_test,X_val,y_train,y_test,y_val,i,Memory=None):\n",
    "    \n",
    "    np.random.seed(i)\n",
    "    from keras import backend as K\n",
    "#     epochs = 100\n",
    "    Scorez=[]\n",
    "    lr = 1e-3\n",
    "    Mod = LSTM_Model(Neurons,X_train.shape[0],X_train.shape[1],X_train.shape[2],lr=lr,Memory=Memory)\n",
    "    killscore=0\n",
    "    killmax = 10\n",
    "    e = 0\n",
    "    udate = 3\n",
    "    while killscore < killmax and e < epochs:\n",
    "        Mod.fit(X_train,y_train,batch_size=X_train.shape[0], nb_epoch=1,shuffle=True,verbose=0)\n",
    "        old_weights = Mod.get_weights()\n",
    "        Y = Mod.predict(X_test,batch_size =X_test.shape[0])\n",
    "        score = metrics.mean_squared_error(y_test,Y)\n",
    "        Scorez.append(score)\n",
    "        if e == 0:\n",
    "            score_min=score\n",
    "            min_weights=old_weights\n",
    "        elif score < score_min:\n",
    "            score_min = score\n",
    "            min_weights=old_weights\n",
    "            killscore = 0\n",
    "        else:\n",
    "            killscore +=1\n",
    "        if killscore == math.floor(killmax/2):\n",
    "            K.set_value(Mod.optimizer.lr, 0.5 * K.get_value(Mod.optimizer.lr))\n",
    "        Mod.reset_states()\n",
    "        e +=1\n",
    "    Mod.set_weights(min_weights)\n",
    "    Yval = Mod.predict(X_val,batch_size = X_val.shape[0])\n",
    "    MSE = (metrics.mean_squared_error(y_val,Yval))\n",
    "    Scorez=np.asanyarray(Scorez)\n",
    "    return(MSE)\n",
    "           "
   ]
  },
  {
   "cell_type": "code",
   "execution_count": 22,
   "metadata": {},
   "outputs": [
    {
     "name": "stderr",
     "output_type": "stream",
     "text": [
      "Using TensorFlow backend.\n",
      "Using TensorFlow backend.\n",
      "Using TensorFlow backend.\n"
     ]
    },
    {
     "name": "stdout",
     "output_type": "stream",
     "text": [
      "[ 0.41982933  0.63312026  0.71354062  0.59439207  0.6707797   0.96584613\n",
      "  0.94971497  0.88212344  0.98911675]\n",
      "[ 0.54618408  1.38482901  0.73470944  0.57192737  0.99387256  0.97655873\n",
      "  1.21111305  0.86703271  0.76204022]\n",
      "[ 0.62338109  0.93247904  0.79262309  0.69174405  0.80733727  1.04434933\n",
      "  1.2416507   1.1109342   1.04044205]\n",
      "[ 0.68498535  0.72182619  1.01761943  1.1039453   1.42582779  0.84711782\n",
      "  1.96495216  0.93953351  0.85754309]\n",
      "[ 0.74386756  1.59760643  0.84566803  0.80055974  0.94929139  1.11583755\n",
      "  1.30540387  0.93567762  0.78713582]\n",
      "    N  T       MSE       STD\n",
      "0  83  3  0.757607  0.187107\n",
      "1  71  2  0.894252  0.263836\n",
      "2  26  3  0.920549  0.194090\n",
      "3  10  4  1.062595  0.381845\n",
      "4  20  2  1.009005  0.267563\n",
      "64.24580764770508\n"
     ]
    }
   ],
   "source": [
    "def TTV_Split(i,Memory,X,y,params):\n",
    "    X_train,X_test,y_train,y_test=train_test_split(X,y, test_size=0.1, random_state=i)\n",
    "    X_train,X_val,y_train,y_val=train_test_split(X_train,y_train, test_size=0.11, random_state=i)\n",
    "    return(Train_Steps(params['epochs'],params['N'],X_train,X_test,X_val,y_train,y_test,y_val,i=i,Memory=Memory))\n",
    "\n",
    "# Model = ['Temp_2_5_1','u*','air_pressure','Table_1']#,'NR_Wm2_Avg','AirTC_Avg','RH','DOY']\n",
    "\n",
    "Model = [\"DOY\",\"H\",\"air_pressure\",\"wind_speed\",\"wind_dir\",\"u*\",\"Hz\",\"AirTC_Avg\",\"RH_Samp\",\"Rain_mm_Tot\",\"NR_Wm2_Avg\",\n",
    "         \"PPFD_Avg\",\"Temp_2_5_1\",\"Temp_15_1\",\"Temp_5_1\",\"Temp_2_5_2\",\"Temp_15_2\",\"Temp_5_2\",\"Depth_1\",\"Active_Layer_1\",\n",
    "         \"Table_1\",\"Depth_2\",\"Active_Layer_2\"]\n",
    "\n",
    "\n",
    "\n",
    "Time = time.time()\n",
    "\n",
    "Path = 'FI_Data.csv' \n",
    "def RunReps(Model,Runs,params,pool = None):\n",
    "    RST = ReadStandardTime(Path)\n",
    "    offset = 5/params['proc']\n",
    "    Memory = (math.floor(100/params['proc'])- offset) * .01\n",
    "    MSE = []\n",
    "    RST.Scale(params['Y'],Model)\n",
    "    RST.TimeShape(params['T'])\n",
    "    y = RST.y_time*1.0\n",
    "    X = RST.X_time*1.0\n",
    "    MSE = []\n",
    "    if __name__=='__main__'and params['proc'] != 1:\n",
    "        for i,mse in enumerate(pool.imap(partial(TTV_Split,Memory=Memory,X=X,y=y,params=params),range(params['reps']))):\n",
    "            MSE.append(mse)\n",
    "    else:\n",
    "        for i in range(params['reps']):\n",
    "            mse = TTV_Split(i,Memory,X,y,params)\n",
    "            MSE.append(mse)\n",
    "    MSE = np.asanyarray(MSE)\n",
    "    return(MSE)\n",
    "    \n",
    "\n",
    "if __name__=='__main__'and params['proc'] != 1:\n",
    "    pool = Pool(processes=params['proc'],maxtasksperchild=50)\n",
    "else:pool=None\n",
    "    \n",
    "\n",
    "for i in Runs.index:\n",
    "    params['T']=Runs['T'].iloc[i]\n",
    "    params['N']=Runs['N'].iloc[i]\n",
    "    MSE = RunReps(Model,Runs,params,pool)#RunFunc(i,processes=processes,Modz=Model,reps=reps,epochs=epochs,params=Runs)\n",
    "    print(MSE)\n",
    "    Runs['MSE'][i]=MSE.mean()\n",
    "    Runs['STD'][i]=MSE.std()\n",
    "\n",
    "print(Runs)\n",
    "  \n",
    "print(time.time()-Time)\n",
    "        "
   ]
  },
  {
   "cell_type": "code",
   "execution_count": 23,
   "metadata": {
    "scrolled": false
   },
   "outputs": [
    {
     "data": {
      "image/png": "[encoded data removed]",
      "text/plain": [
       "<matplotlib.figure.Figure at 0x7f76c896c128>"
      ]
     },
     "metadata": {},
     "output_type": "display_data"
    }
   ],
   "source": [
    "from scipy.stats import norm\n",
    "\n",
    "plt.rcParams[\"figure.figsize\"] = (14, 8)\n",
    "def probability_of_improvement(mu_x, sigma_x, opt_value, kappa=0.5):\n",
    "    gamma_x = (mu_x - opt_value - kappa) / sigma_x\n",
    "    return norm.cdf(gamma_x)\n",
    "\n",
    "\n",
    "def expected_improvement(mu_x, sigma_x, opt_value, kappa=0.5):\n",
    "    gamma_x = (mu_x - opt_value - kappa) / sigma_x\n",
    "    return sigma_x * (gamma_x * norm.cdf(gamma_x) + norm.pdf(gamma_x))\n",
    "\n",
    "\n",
    "def upper_confidence_bound(mu_x, sigma_x, opt_value, kappa=-1.0):\n",
    "    return mu_x + kappa * sigma_x\n",
    "\n",
    "from sklearn.gaussian_process import GaussianProcessRegressor\n",
    "from sklearn.gaussian_process.kernels import Matern, WhiteKernel\n",
    "\n",
    "kernel = Matern(length_scale = [50,3],length_scale_bounds=\"fixed\")\n",
    "gp = GaussianProcessRegressor(kernel=kernel, alpha=Runs['STD'].values, random_state=0,normalize_y=False)\n",
    "gp.fit(Runs[['N','T']].values, Runs['MSE'].values)\n",
    "\n",
    "\n",
    "N = [n for n in range(params['N_Max'])]\n",
    "T = [t for t in range(params['T_Max'])]\n",
    "A = [T[i] for j in range(len(N))for i in range(len(T))]\n",
    "B = [N[i] for j in range(len(T))for i in range(len(N))]\n",
    "T = np.asanyarray(A)\n",
    "N = np.asanyarray(B)\n",
    "\n",
    "X = np.zeros(shape=(T.shape[0],2))\n",
    "X[:,0] = N\n",
    "X[:,1] = T\n",
    "y_pred,sigma = gp.predict(X,return_std=True)\n",
    "\n",
    "plt.figure()\n",
    "plt.scatter(X[:,0],X[:,1],c=y_pred)\n",
    "plt.legend()\n",
    "Runs2 = Runs.copy()\n",
    "\n"
   ]
  },
  {
   "cell_type": "code",
   "execution_count": 24,
   "metadata": {},
   "outputs": [
    {
     "name": "stdout",
     "output_type": "stream",
     "text": [
      "[ 81.14540958   2.90984015]\n",
      "81 3\n",
      "[ 0.7438299   1.6009937   0.84857319  0.80125295  0.94656599  1.11606041\n",
      "  1.30380943  0.93494255  0.78659352]\n",
      "[ 84.78608256   3.00001974]\n",
      "85 3\n",
      "[ 0.74475957  1.60033886  0.84816201  0.80341277  0.94941428  1.11654043\n",
      "  1.3012134   0.93599318  0.78662353]\n",
      "[ 82.99873798   1.1475473 ]\n",
      "83 1\n",
      "[ 0.74260208  1.60091905  0.8479935   0.80123349  0.94912222  1.11531342\n",
      "  1.30325264  0.93356949  0.78713582]\n",
      "[ 82.99874436   4.80073135]\n",
      "83 5\n",
      "[ 0.74345893  1.60050076  0.84816201  0.80334373  0.94963449  1.11678665\n",
      "  1.30065159  0.93599318  0.78404351]\n",
      "[ 68.51947884   1.68764484]\n",
      "69 2\n",
      "[ 0.74189629  1.6036772   0.8438035   0.80326903  0.94808132  1.11539232\n",
      "  1.30107144  0.93382092  0.78701623]\n",
      "        MSE   N       STD  T\n",
      "0  1.062595  10  0.381845  4\n",
      "1  1.009005  20  0.267563  2\n",
      "2  0.920549  26  0.194090  3\n",
      "3  1.008670  69  0.268714  2\n",
      "4  0.894252  71  0.263836  2\n",
      "5  1.009180  81  0.268098  3\n",
      "6  1.009016  83  0.268082  1\n",
      "7  0.757607  83  0.187107  3\n",
      "8  1.009175  83  0.267641  5\n",
      "9  1.009606  85  0.267275  3\n"
     ]
    }
   ],
   "source": [
    "from scipy.optimize import minimize\n",
    "acq = upper_confidence_bound\n",
    "def query(xi, yi, gp):\n",
    "    best_value = np.inf\n",
    "\n",
    "    for N in np.linspace(1,params['N_Max']):\n",
    "        for T in np.linspace(0,params['T_Max']):\n",
    "            def obj(x):\n",
    "                x=x.reshape(1,-1)\n",
    "                mu_x, sigma_x = gp.predict(x, return_std=True)\n",
    "#                 print(np.min(yi),np.max(yi))\n",
    "                return acq(mu_x, sigma_x, np.min(yi))\n",
    "            x0 = np.asanyarray([N,T]).reshape(1,2)\n",
    "            res = minimize(obj, x0, bounds=((1, params['N_Max']),(0,params['T_Max'])))\n",
    "\n",
    "            if res.fun < best_value:\n",
    "                best_value = res.fun\n",
    "                query_point = res.x\n",
    "    query_point = query_point\n",
    "    return query_point\n",
    "\n",
    "for i in range(params['Searches']):\n",
    "    kernel = Matern(length_scale_bounds=\"fixed\") \n",
    "    gp = GaussianProcessRegressor(kernel=kernel, alpha=Runs['STD'].values, random_state=1,normalize_y=True)\n",
    "    gp.fit(Runs[['N','T']].values, Runs['MSE'].values)\n",
    "    \n",
    "    next_x = query(Runs[['N','T']].values, Runs['MSE'].values, gp)\n",
    "    print(next_x)\n",
    "    N = int(np.round(next_x[0],0))\n",
    "    T = int(np.round(next_x[1],0))\n",
    "    o = 0\n",
    "    while len(Runs.loc[(Runs['N']==N) & (Runs['T']==T)].index) != 0:\n",
    "        print('Adjust!')\n",
    "        o +=1\n",
    "        N += int(o*np.cos(o*np.pi))\n",
    "    print(N,T)\n",
    "    d = {'N':N,'T':T,'MSE':0,'STD':0}\n",
    "    idx = Runs.index[-1] + 1\n",
    "    D2 = pd.DataFrame(data=d,index=[idx])\n",
    "    Runs = Runs.append(D2)\n",
    "    \n",
    "    MSE = RunReps(Model,Runs,params,pool)#RunFunc(i,processes=processes,Modz=Model,reps=reps,epochs=epochs,params=Runs)\n",
    "    print(MSE)\n",
    "    Runs['MSE'][idx]=MSE.mean()\n",
    "    Runs['STD'][idx]=MSE.std()\n",
    "    \n",
    "    Runs = Runs.sort_values(by = ['N','T']).reset_index(drop=True)\n",
    "    \n",
    "#     x = Runs[['N','T']].values\n",
    "#     y = Runs['MSE'].values\n",
    "#     s = Runs['STD'].values\n",
    "    \n",
    "print(Runs)\n",
    "\n",
    "if __name__=='__main__'and params['proc'] != 1:\n",
    "    pool.close()"
   ]
  },
  {
   "cell_type": "code",
   "execution_count": 25,
   "metadata": {},
   "outputs": [
    {
     "name": "stdout",
     "output_type": "stream",
     "text": [
      "        MSE   N       STD  T\n",
      "7  0.757607  83  0.187107  3\n"
     ]
    },
    {
     "data": {
      "text/plain": [
       "<matplotlib.colorbar.Colorbar at 0x7f7688467da0>"
      ]
     },
     "execution_count": 25,
     "metadata": {},
     "output_type": "execute_result"
    },
    {
     "data": {
      "image/png": "[encoded data removed]",
      "text/plain": [
       "<matplotlib.figure.Figure at 0x7f7689044f98>"
      ]
     },
     "metadata": {},
     "output_type": "display_data"
    }
   ],
   "source": [
    "print(Runs[Runs['MSE'] == Runs['MSE'].min()])\n",
    "plt.figure()\n",
    "plt.scatter(Runs[\"N\"],Runs['T'],s=1/Runs['STD']*100,c=Runs['MSE'])\n",
    "plt.colorbar()\n",
    "# plt.legend()"
   ]
  },
  {
   "cell_type": "code",
   "execution_count": null,
   "metadata": {
    "collapsed": true
   },
   "outputs": [],
   "source": []
  },
  {
   "cell_type": "code",
   "execution_count": null,
   "metadata": {
    "collapsed": true
   },
   "outputs": [],
   "source": []
  }
 ],
 "metadata": {
  "kernelspec": {
   "display_name": "Python 3",
   "language": "python",
   "name": "python3"
  },
  "language_info": {
   "codemirror_mode": {
    "name": "ipython",
    "version": 3
   },
   "file_extension": ".py",
   "mimetype": "text/x-python",
   "name": "python",
   "nbconvert_exporter": "python",
   "pygments_lexer": "ipython3",
   "version": "3.5.2"
  }
 },
 "nbformat": 4,
 "nbformat_minor": 2
}
