{
 "cells": [
  {
   "cell_type": "code",
   "execution_count": 1,
   "metadata": {
    "collapsed": true
   },
   "outputs": [],
   "source": [
    "import time\n",
    "import math\n",
    "import numpy as np\n",
    "import pandas as pd\n",
    "import matplotlib.pyplot as plt\n",
    "from itertools import combinations\n",
    "from functools import partial\n",
    "from multiprocessing import Pool\n",
    "from sklearn.preprocessing import StandardScaler\n",
    "from sklearn import metrics\n",
    "from sklearn.model_selection import RepeatedKFold\n",
    "import warnings\n",
    "warnings.filterwarnings('ignore')\n",
    "from sklearn.model_selection import train_test_split\n",
    "\n",
    "%matplotlib inline\n",
    "%config IPCompleter.greedy=True\n",
    "plt.rcParams[\"figure.figsize\"] = (14, 8)"
   ]
  },
  {
   "cell_type": "code",
   "execution_count": 5,
   "metadata": {},
   "outputs": [
    {
     "name": "stdout",
     "output_type": "stream",
     "text": [
      "    N  T  MSE  STD\n",
      "0  13  2  0.0  0.0\n",
      "1  19  3  0.0  0.0\n",
      "2  75  0  0.0  0.0\n",
      "3  59  0  0.0  0.0\n",
      "4  69  3  0.0  0.0\n",
      "{'epochs': 10, 'T_Max': 5, 'N_Max': 100, 'Searches': 2, 'reps': 9, 'proc': 3, 'Y': 'Fch4'}\n"
     ]
    },
    {
     "data": {
      "text/plain": [
       "<matplotlib.collections.PathCollection at 0x7ff86de3e668>"
      ]
     },
     "execution_count": 5,
     "metadata": {},
     "output_type": "execute_result"
    },
    {
     "data": {
      "image/png": "[encoded data removed]",
      "text/plain": [
       "<matplotlib.figure.Figure at 0x7ff87019e6d8>"
      ]
     },
     "metadata": {},
     "output_type": "display_data"
    }
   ],
   "source": [
    "class Params:\n",
    "    def __init__(self,Func,Y):\n",
    "        if Func == 'Full':\n",
    "            epochs = 1000\n",
    "            reps = 50\n",
    "            N_Max = 200\n",
    "            T_Max = 12\n",
    "            samp_size = 20\n",
    "            Searches = 10\n",
    "        else:\n",
    "            epochs = 10\n",
    "            reps = 9\n",
    "            N_Max = 100\n",
    "            T_Max = 5\n",
    "            samp_size = 5\n",
    "            Searches = 2\n",
    "        N = np.array(np.random.rand(samp_size)*(N_Max-1)+1,dtype='int32')\n",
    "        T = np.array(np.random.rand(samp_size)*T_Max,dtype='int32')\n",
    "        d = {'N':N,'T':T}\n",
    "        self.Runs = pd.DataFrame(data=d)\n",
    "        self.params = {}\n",
    "        self.params['T_Max'] = T_Max\n",
    "        self.params['N_Max'] = N_Max\n",
    "        self.params['reps'] = reps\n",
    "        self.params['epochs'] = epochs\n",
    "        self.params['Y'] = Y\n",
    "        self.params['proc']=3\n",
    "        self.params['Searches']=Searches\n",
    "\n",
    "rpms = Params('Test','Fch4')\n",
    "# rpms = Params('Test',5,'ch4_flux')\n",
    "Runs,params = rpms.Runs,rpms.params\n",
    "Runs['MSE'] = 0.0\n",
    "Runs['STD'] = 0.0\n",
    "print(Runs)\n",
    "print(params)\n",
    "plt.figure()\n",
    "plt.scatter(Runs[\"N\"],Runs['T'],s=100,c=Runs['MSE'])"
   ]
  },
  {
   "cell_type": "code",
   "execution_count": 6,
   "metadata": {
    "collapsed": true
   },
   "outputs": [],
   "source": [
    "class ReadStandardTime:\n",
    "    def __init__(self,Path):\n",
    "        self.Master = pd.read_csv(Path,delimiter = ',',header = 0,na_values = -9999)\n",
    "        self.Master = self.Master.set_index(pd.DatetimeIndex(pd.to_datetime(self.Master['datetime'])))\n",
    "        self.Master['DOY'] = self.Master.index.dayofyear*1.0\n",
    "        self.Master['HR'] = self.Master.index.hour*1.0\n",
    "        \n",
    "    def Scale(self,y_var,X_vars):\n",
    "        self.y_var = y_var\n",
    "        self.Data = self.Master[np.isfinite(self.Master[y_var])]\n",
    "        self.Data = self.Data.interpolate().bfill()\n",
    "        self.Data = self.Data.interpolate().ffill()\n",
    "        self.y = self.Data[y_var].values\n",
    "        YStandard = StandardScaler()\n",
    "        self.YScaled = YStandard.fit(self.y.reshape(-1, 1))\n",
    "        Yscale = self.YScaled.transform(self.y.reshape(-1, 1))\n",
    "        self.y = np.ndarray.flatten(Yscale)\n",
    "        self.Ytru = self.YScaled.inverse_transform(self.y.reshape(-1,1))\n",
    "        X = self.Data[X_vars]\n",
    "        self.input_shape = len(X_vars)\n",
    "        XStandard = StandardScaler()\n",
    "        self.XScaled= XStandard.fit(X)\n",
    "        self.X = self.XScaled.transform(X)\n",
    "        Filling = self.Master[X_vars]\n",
    "        Filling = Filling.interpolate().bfill()\n",
    "        Filling = Filling.interpolate().ffill()\n",
    "        XStandard = StandardScaler()\n",
    "        self.XFillScaled= XStandard.fit(Filling)\n",
    "        self.X_fill = self.XScaled.transform(Filling)\n",
    "        \n",
    "    def TimeShape(self,rolls):\n",
    "        X1 = self.X\n",
    "        Xf = self.X_fill\n",
    "        self.X_time = np.zeros(shape = (X1.shape[0],rolls+1,X1.shape[1]))\n",
    "        self.X_time[:,0,:] = X1\n",
    "        self.X_ftime = np.zeros(shape = (Xf.shape[0],rolls+1,Xf.shape[1]))\n",
    "        self.X_ftime[:,0,:] = Xf\n",
    "        if rolls > 0:\n",
    "            for roll in range(0,rolls):\n",
    "                X2 = np.roll(X1,(roll+1),axis=0)\n",
    "                X2f = np.roll(Xf,(roll+1),axis=0)\n",
    "                self.X_time[:,roll+1,:] = X2\n",
    "                self.X_ftime[:,roll+1,:] = Xf\n",
    "        self.X_time = self.X_time[rolls+1:,:,:]\n",
    "        self.X_ftime = self.X_ftime[rolls+1:,:,:]\n",
    "        self.y_time = self.y[rolls+1:]\n",
    "        self.y_ftime = self.y[rolls+1:]\n",
    "        self.TimeSteps = rolls+1\n",
    "        \n",
    "    def Fill(self,Y_Pred):\n",
    "        Y_fill = self.YScaled.inverse_transform(Y_Pred.reshape(-1,1))\n",
    "        nanz = np.zeros(shape=(self.TimeSteps,1))\n",
    "        nanz[:,:] = np.nan\n",
    "        Y_Pred = np.concatenate((nanz,Y_fill),axis=0).reshape(-1,1)\n",
    "        self.Master['TempFIll'] = Y_Pred\n",
    "        self.Master[self.y_var+'_Filled'] = self.Master[self.y_var].fillna(self.Master['TempFIll'])"
   ]
  },
  {
   "cell_type": "code",
   "execution_count": 7,
   "metadata": {
    "collapsed": true
   },
   "outputs": [],
   "source": [
    "def LSTM_Model(Neurons,batch_size,time_steps,inputs,lr=1e-4,Memory=.9):\n",
    "    import keras\n",
    "    from keras.models import Sequential\n",
    "    from keras.layers import Dense\n",
    "    from keras.layers import LSTM\n",
    "    from keras.wrappers.scikit_learn import KerasRegressor\n",
    "    from keras.callbacks import EarlyStopping,ModelCheckpoint,LearningRateScheduler\n",
    "#     from keras import backend as K\n",
    "    import tensorflow as tf\n",
    "    config = tf.ConfigProto()\n",
    "    config.gpu_options.per_process_gpu_memory_fraction = Memory\n",
    "    session = tf.Session(config=config)\n",
    "    model = Sequential()\n",
    "    model.add(LSTM(Neurons, input_shape=(time_steps,inputs),stateful = False))\n",
    "    model.add(Dense(1))\n",
    "    NUM_GPU = 1 # or the number of GPUs available on your machine\n",
    "    \n",
    "    adam = keras.optimizers.Adam(lr = lr)\n",
    "    gpu_list = []\n",
    "    for i in range(NUM_GPU): gpu_list.append('gpu(%d)' % i)\n",
    "    model.compile(loss='mean_squared_error', optimizer='adam')#,context=gpu_list) # - Add if using MXNET\n",
    "    return(model)\n",
    "\n",
    "def Train_Steps(epochs,Neurons,X_train,X_test,X_val,y_train,y_test,y_val,i,Memory=None):\n",
    "    \n",
    "    np.random.seed(i)\n",
    "    from keras import backend as K\n",
    "#     epochs = 100\n",
    "    Scorez=[]\n",
    "    lr = 1e-3\n",
    "    Mod = LSTM_Model(Neurons,X_train.shape[0],X_train.shape[1],X_train.shape[2],lr=lr,Memory=Memory)\n",
    "    killscore=0\n",
    "    killmax = 10\n",
    "    e = 0\n",
    "    udate = 3\n",
    "    while killscore < killmax and e < epochs:\n",
    "        Mod.fit(X_train,y_train,batch_size=X_train.shape[0], nb_epoch=1,shuffle=True,verbose=0)\n",
    "        old_weights = Mod.get_weights()\n",
    "        Y = Mod.predict(X_test,batch_size =X_test.shape[0])\n",
    "        score = metrics.mean_squared_error(y_test,Y)\n",
    "        Scorez.append(score)\n",
    "        if e == 0:\n",
    "            score_min=score\n",
    "            min_weights=old_weights\n",
    "        elif score < score_min:\n",
    "            score_min = score\n",
    "            min_weights=old_weights\n",
    "            killscore = 0\n",
    "        else:\n",
    "            killscore +=1\n",
    "        if killscore == math.floor(killmax/2):\n",
    "            K.set_value(Mod.optimizer.lr, 0.5 * K.get_value(Mod.optimizer.lr))\n",
    "        Mod.reset_states()\n",
    "        e +=1\n",
    "    Mod.set_weights(min_weights)\n",
    "    Yval = Mod.predict(X_val,batch_size = X_val.shape[0])\n",
    "    MSE = (metrics.mean_squared_error(y_val,Yval))\n",
    "    Scorez=np.asanyarray(Scorez)\n",
    "    return(MSE)\n",
    "           "
   ]
  },
  {
   "cell_type": "code",
   "execution_count": 8,
   "metadata": {},
   "outputs": [
    {
     "name": "stderr",
     "output_type": "stream",
     "text": [
      "Using TensorFlow backend.\n",
      "Using TensorFlow backend.\n",
      "Using TensorFlow backend.\n"
     ]
    },
    {
     "name": "stdout",
     "output_type": "stream",
     "text": [
      "Finisehd Run  0\n",
      " Stats: \n",
      "N      13.000000\n",
      "T       2.000000\n",
      "MSE     1.026780\n",
      "STD     0.121199\n",
      "Name: 0, dtype: float64\n",
      "Finisehd Run  1\n",
      " Stats: \n",
      "N      19.000000\n",
      "T       3.000000\n",
      "MSE     0.922924\n",
      "STD     0.207125\n",
      "Name: 1, dtype: float64\n",
      "Finisehd Run  2\n",
      " Stats: \n",
      "N      75.000000\n",
      "T       0.000000\n",
      "MSE     0.856855\n",
      "STD     0.115190\n",
      "Name: 2, dtype: float64\n",
      "Finisehd Run  3\n",
      " Stats: \n",
      "N      59.000000\n",
      "T       0.000000\n",
      "MSE     0.876257\n",
      "STD     0.087820\n",
      "Name: 3, dtype: float64\n",
      "Finisehd Run  4\n",
      " Stats: \n",
      "N      69.000000\n",
      "T       3.000000\n",
      "MSE     0.704019\n",
      "STD     0.090392\n",
      "Name: 4, dtype: float64\n",
      "    N  T       MSE       STD\n",
      "0  13  2  1.026780  0.121199\n",
      "1  19  3  0.922924  0.207125\n",
      "2  75  0  0.856855  0.115190\n",
      "3  59  0  0.876257  0.087820\n",
      "4  69  3  0.704019  0.090392\n",
      "58.74287271499634\n"
     ]
    }
   ],
   "source": [
    "def TTV_Split(i,Memory,X,y,params):\n",
    "    X_train,X_test,y_train,y_test=train_test_split(X,y, test_size=0.1, random_state=i)\n",
    "    X_train,X_val,y_train,y_val=train_test_split(X_train,y_train, test_size=0.11, random_state=i)\n",
    "    return(Train_Steps(params['epochs'],params['N'],X_train,X_test,X_val,y_train,y_test,y_val,i=i,Memory=Memory))\n",
    "\n",
    "# Model = ['Temp_2_5_1','u*','air_pressure','Table_1']#,'NR_Wm2_Avg','AirTC_Avg','RH','DOY']\n",
    "\n",
    "# Model = [\"DOY\",\"H\",\"air_pressure\",\"wind_speed\",\"wind_dir\",\"u*\",\"Hz\",\"AirTC_Avg\",\"RH_Samp\",\"Rain_mm_Tot\",\"NR_Wm2_Avg\",\n",
    "#          \"PPFD_Avg\",\"Temp_2_5_1\",\"Temp_15_1\",\"Temp_5_1\",\"Temp_2_5_2\",\"Temp_15_2\",\"Temp_5_2\",\"Depth_1\",\"Active_Layer_1\",\n",
    "#          \"Table_1\",\"Depth_2\",\"Active_Layer_2\"]\n",
    "\n",
    "\n",
    "Model = ['H','Wind Spd','air pressure','Ta','Rn','PPFD','Ts 2.5 cm','Ts 15 cm',\n",
    "         'VWC',' Active Layer','24H Rain','Wtr Tbl Trnd','ET']\n",
    "\n",
    "Time = time.time()\n",
    "\n",
    "Path = 'FilteredData2018-03-30.csv'#'FI_Data.csv' \n",
    "def RunReps(Model,Runs,params,pool = None):\n",
    "    RST = ReadStandardTime(Path)\n",
    "    offset = 5/params['proc']\n",
    "    Memory = (math.floor(100/params['proc'])- offset) * .01\n",
    "    MSE = []\n",
    "    RST.Scale(params['Y'],Model)\n",
    "    RST.TimeShape(params['T'])\n",
    "    y = RST.y_time*1.0\n",
    "    X = RST.X_time*1.0\n",
    "    MSE = []\n",
    "    if __name__=='__main__'and params['proc'] != 1:\n",
    "        for i,mse in enumerate(pool.imap(partial(TTV_Split,Memory=Memory,X=X,y=y,params=params),range(params['reps']))):\n",
    "            MSE.append(mse)\n",
    "    else:\n",
    "        for i in range(params['reps']):\n",
    "            mse = TTV_Split(i,Memory,X,y,params)\n",
    "            MSE.append(mse)\n",
    "    MSE = np.asanyarray(MSE)\n",
    "    return(MSE)\n",
    "    \n",
    "\n",
    "if __name__=='__main__'and params['proc'] != 1:\n",
    "    pool = Pool(processes=params['proc'],maxtasksperchild=75)\n",
    "else:pool=None\n",
    "    \n",
    "\n",
    "for i in Runs.index:\n",
    "    params['T']=Runs['T'].iloc[i]\n",
    "    params['N']=Runs['N'].iloc[i]\n",
    "    MSE = RunReps(Model,Runs,params,pool)#RunFunc(i,processes=processes,Modz=Model,reps=reps,epochs=epochs,params=Runs)\n",
    "    Runs['MSE'][i]=MSE.mean()\n",
    "    Runs['STD'][i]=MSE.std()\n",
    "    print('Finisehd Run ',str(i))\n",
    "    print(' Stats: ')\n",
    "    print(Runs.iloc[i])\n",
    "\n",
    "print(Runs)\n",
    "  \n",
    "print(time.time()-Time)\n",
    "        "
   ]
  },
  {
   "cell_type": "code",
   "execution_count": 9,
   "metadata": {
    "scrolled": false
   },
   "outputs": [
    {
     "data": {
      "image/png": "[encoded data removed]",
      "text/plain": [
       "<matplotlib.figure.Figure at 0x7ff86dc759e8>"
      ]
     },
     "metadata": {},
     "output_type": "display_data"
    }
   ],
   "source": [
    "from scipy.stats import norm\n",
    "\n",
    "plt.rcParams[\"figure.figsize\"] = (14, 8)\n",
    "def probability_of_improvement(mu_x, sigma_x, opt_value, kappa=0.5):\n",
    "    gamma_x = (mu_x - opt_value - kappa) / sigma_x\n",
    "    return norm.cdf(gamma_x)\n",
    "\n",
    "\n",
    "def expected_improvement(mu_x, sigma_x, opt_value, kappa=0.5):\n",
    "    gamma_x = (mu_x - opt_value - kappa) / sigma_x\n",
    "    return sigma_x * (gamma_x * norm.cdf(gamma_x) + norm.pdf(gamma_x))\n",
    "\n",
    "\n",
    "def upper_confidence_bound(mu_x, sigma_x, opt_value, kappa=-1.0):\n",
    "    return mu_x + kappa * sigma_x\n",
    "\n",
    "from sklearn.gaussian_process import GaussianProcessRegressor\n",
    "from sklearn.gaussian_process.kernels import Matern, WhiteKernel\n",
    "\n",
    "kernel = Matern(length_scale = [50,3],length_scale_bounds=\"fixed\")\n",
    "gp = GaussianProcessRegressor(kernel=kernel, alpha=Runs['STD'].values, random_state=0,normalize_y=False)\n",
    "gp.fit(Runs[['N','T']].values, Runs['MSE'].values)\n",
    "\n",
    "\n",
    "N = [n for n in range(params['N_Max'])]\n",
    "T = [t for t in range(params['T_Max'])]\n",
    "A = [T[i] for j in range(len(N))for i in range(len(T))]\n",
    "B = [N[i] for j in range(len(T))for i in range(len(N))]\n",
    "T = np.asanyarray(A)\n",
    "N = np.asanyarray(B)\n",
    "\n",
    "X = np.zeros(shape=(T.shape[0],2))\n",
    "X[:,0] = N\n",
    "X[:,1] = T\n",
    "y_pred,sigma = gp.predict(X,return_std=True)\n",
    "\n",
    "plt.figure()\n",
    "plt.scatter(X[:,0],X[:,1],c=y_pred)\n",
    "plt.legend()\n",
    "Runs2 = Runs.copy()"
   ]
  },
  {
   "cell_type": "code",
   "execution_count": 10,
   "metadata": {},
   "outputs": [
    {
     "name": "stdout",
     "output_type": "stream",
     "text": [
      "[ 70.6542532    2.17291423]\n",
      "71 2\n",
      "[ 0.69438887  0.75121781  0.79418271  0.87970658  0.6142485   0.56380445\n",
      "  0.72049336  0.6252269   0.69418542]\n",
      "[ 70.73459437   3.97086994]\n",
      "71 4\n",
      "[ 0.69379646  0.75182211  0.7922024   0.87962541  0.61573271  0.5656941\n",
      "  0.71952796  0.62197587  0.69413058]\n",
      "        MSE   N       STD  T\n",
      "0  1.026780  13  0.121199  2\n",
      "1  0.922924  19  0.207125  3\n",
      "2  0.876257  59  0.087820  0\n",
      "3  0.704019  69  0.090392  3\n",
      "4  0.704162  71  0.091658  2\n",
      "5  0.703834  71  0.091288  4\n",
      "6  0.856855  75  0.115190  0\n"
     ]
    }
   ],
   "source": [
    "from scipy.optimize import minimize\n",
    "acq = upper_confidence_bound\n",
    "def query(xi, yi, gp):\n",
    "    best_value = np.inf\n",
    "\n",
    "    for N in np.linspace(1,params['N_Max']):\n",
    "        for T in np.linspace(0,params['T_Max']):\n",
    "            def obj(x):\n",
    "                x=x.reshape(1,-1)\n",
    "                mu_x, sigma_x = gp.predict(x, return_std=True)\n",
    "#                 print(np.min(yi),np.max(yi))\n",
    "                return acq(mu_x, sigma_x, np.min(yi))\n",
    "            x0 = np.asanyarray([N,T]).reshape(1,2)\n",
    "            res = minimize(obj, x0, bounds=((1, params['N_Max']),(0,params['T_Max'])))\n",
    "\n",
    "            if res.fun < best_value:\n",
    "                best_value = res.fun\n",
    "                query_point = res.x\n",
    "    query_point = query_point\n",
    "    return query_point\n",
    "\n",
    "for i in range(params['Searches']):\n",
    "    kernel = Matern(length_scale_bounds=\"fixed\") \n",
    "    gp = GaussianProcessRegressor(kernel=kernel, alpha=Runs['STD'].values, random_state=1,normalize_y=True)\n",
    "    gp.fit(Runs[['N','T']].values, Runs['MSE'].values)\n",
    "    \n",
    "    next_x = query(Runs[['N','T']].values, Runs['MSE'].values, gp)\n",
    "    print(next_x)\n",
    "    N = int(np.round(next_x[0],0))\n",
    "    T = int(np.round(next_x[1],0))\n",
    "    o = 0\n",
    "    while len(Runs.loc[(Runs['N']==N) & (Runs['T']==T)].index) != 0:\n",
    "        print('Adjust!')\n",
    "        o +=1\n",
    "        N += int(o*np.cos(o*np.pi))\n",
    "    print(N,T)\n",
    "    d = {'N':N,'T':T,'MSE':0,'STD':0}\n",
    "    idx = Runs.index[-1] + 1\n",
    "    D2 = pd.DataFrame(data=d,index=[idx])\n",
    "    Runs = Runs.append(D2)\n",
    "    \n",
    "    MSE = RunReps(Model,Runs,params,pool)#RunFunc(i,processes=processes,Modz=Model,reps=reps,epochs=epochs,params=Runs)\n",
    "    print(MSE)\n",
    "    Runs['MSE'][idx]=MSE.mean()\n",
    "    Runs['STD'][idx]=MSE.std()\n",
    "    \n",
    "    Runs = Runs.sort_values(by = ['N','T']).reset_index(drop=True)\n",
    "    \n",
    "print(Runs)\n",
    "\n",
    "if __name__=='__main__'and params['proc'] != 1:\n",
    "    pool.close()"
   ]
  },
  {
   "cell_type": "code",
   "execution_count": 11,
   "metadata": {},
   "outputs": [
    {
     "name": "stdout",
     "output_type": "stream",
     "text": [
      "        MSE   N       STD  T\n",
      "5  0.703834  71  0.091288  4\n"
     ]
    },
    {
     "data": {
      "text/plain": [
       "<matplotlib.colorbar.Colorbar at 0x7ff86ddad9e8>"
      ]
     },
     "execution_count": 11,
     "metadata": {},
     "output_type": "execute_result"
    },
    {
     "data": {
      "image/png": "[encoded data removed]",
      "text/plain": [
       "<matplotlib.figure.Figure at 0x7ff86de8cfd0>"
      ]
     },
     "metadata": {},
     "output_type": "display_data"
    }
   ],
   "source": [
    "print(Runs[Runs['MSE'] == Runs['MSE'].min()])\n",
    "plt.figure()\n",
    "plt.scatter(Runs[\"N\"],Runs['T'],s=1/Runs['STD']*100,c=Runs['MSE'])\n",
    "plt.colorbar()\n",
    "# plt.legend()"
   ]
  },
  {
   "cell_type": "markdown",
   "metadata": {
    "collapsed": true
   },
   "source": [
    "CH4 Results: \n",
    "    \n",
    "      MSE     N     STD     T\n",
    "12  0.233444  23  0.031446  0\n",
    "\n",
    "CH4 Results:\n",
    "\n",
    "         MSE   N      STD  T\n",
    "10  0.061422  82  0.01039  2"
   ]
  },
  {
   "cell_type": "code",
   "execution_count": null,
   "metadata": {
    "collapsed": true
   },
   "outputs": [],
   "source": []
  }
 ],
 "metadata": {
  "kernelspec": {
   "display_name": "Python 3",
   "language": "python",
   "name": "python3"
  },
  "language_info": {
   "codemirror_mode": {
    "name": "ipython",
    "version": 3
   },
   "file_extension": ".py",
   "mimetype": "text/x-python",
   "name": "python",
   "nbconvert_exporter": "python",
   "pygments_lexer": "ipython3",
   "version": "3.5.2"
  }
 },
 "nbformat": 4,
 "nbformat_minor": 2
}
