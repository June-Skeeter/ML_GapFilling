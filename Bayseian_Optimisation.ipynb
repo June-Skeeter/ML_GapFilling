{
 "cells": [
  {
   "cell_type": "code",
   "execution_count": 1,
   "metadata": {
    "collapsed": true
   },
   "outputs": [],
   "source": [
    "import time\n",
    "import math\n",
    "import numpy as np\n",
    "import pandas as pd\n",
    "import matplotlib.pyplot as plt\n",
    "from itertools import combinations\n",
    "from functools import partial\n",
    "from multiprocessing import Pool\n",
    "from sklearn.preprocessing import StandardScaler\n",
    "from sklearn import metrics\n",
    "from sklearn.model_selection import RepeatedKFold\n",
    "import warnings\n",
    "warnings.filterwarnings('ignore')\n",
    "from sklearn.model_selection import train_test_split\n",
    "\n",
    "%matplotlib inline\n",
    "%config IPCompleter.greedy=True\n",
    "plt.rcParams[\"figure.figsize\"] = (14, 8)"
   ]
  },
  {
   "cell_type": "code",
   "execution_count": 2,
   "metadata": {},
   "outputs": [
    {
     "name": "stdout",
     "output_type": "stream",
     "text": [
      "    N  T  MSE  STD\n",
      "0  89  0  0.0  0.0\n",
      "1  61  0  0.0  0.0\n",
      "2  51  2  0.0  0.0\n",
      "3  19  4  0.0  0.0\n",
      "4  98  3  0.0  0.0\n",
      "{'Searches': 2, 'reps': 9, 'N_Max': 100, 'Y': 'ch4_flux', 'epochs': 10, 'T_Max': 5, 'proc': 3}\n"
     ]
    },
    {
     "data": {
      "text/plain": [
       "<matplotlib.collections.PathCollection at 0x7ff0ec134080>"
      ]
     },
     "execution_count": 2,
     "metadata": {},
     "output_type": "execute_result"
    },
    {
     "data": {
      "image/png": "[encoded data removed]",
      "text/plain": [
       "<matplotlib.figure.Figure at 0x7ff0ee434be0>"
      ]
     },
     "metadata": {},
     "output_type": "display_data"
    }
   ],
   "source": [
    "class Params:\n",
    "    def __init__(self,Func,Y):\n",
    "        if Func == 'Full':\n",
    "            epochs = 1000\n",
    "            reps = 100\n",
    "            N_Max = 200\n",
    "            T_Max = 12\n",
    "            samp_size = 20\n",
    "            Searches = 10\n",
    "        else:\n",
    "            epochs = 10\n",
    "            reps = 9\n",
    "            N_Max = 100\n",
    "            T_Max = 5\n",
    "            samp_size = 5\n",
    "            Searches = 2\n",
    "        N = np.array(np.random.rand(samp_size)*(N_Max-1)+1,dtype='int32')\n",
    "        T = np.array(np.random.rand(samp_size)*T_Max,dtype='int32')\n",
    "        d = {'N':N,'T':T}\n",
    "        self.Runs = pd.DataFrame(data=d)\n",
    "        self.params = {}\n",
    "        self.params['T_Max'] = T_Max\n",
    "        self.params['N_Max'] = N_Max\n",
    "        self.params['reps'] = reps\n",
    "        self.params['epochs'] = epochs\n",
    "        self.params['Y'] = Y\n",
    "        self.params['proc']=3\n",
    "        self.params['Searches']=Searches\n",
    "\n",
    "rpms = Params('quick','ch4_flux')\n",
    "# rpms = Params('Test',5,'ch4_flux')\n",
    "Runs,params = rpms.Runs,rpms.params\n",
    "Runs['MSE'] = 0.0\n",
    "Runs['STD'] = 0.0\n",
    "print(Runs)\n",
    "print(params)\n",
    "plt.figure()\n",
    "plt.scatter(Runs[\"N\"],Runs['T'],s=100,c=Runs['MSE'])"
   ]
  },
  {
   "cell_type": "code",
   "execution_count": 3,
   "metadata": {
    "collapsed": true
   },
   "outputs": [],
   "source": [
    "class ReadStandardTime:\n",
    "    def __init__(self,Path):\n",
    "        self.Master = pd.read_csv(Path,delimiter = ',',header = 0,na_values = -9999)\n",
    "        self.Master = self.Master.set_index(pd.DatetimeIndex(pd.to_datetime(self.Master['datetime'])))\n",
    "        self.Master['DOY'] = self.Master.index.dayofyear*1.0\n",
    "        self.Master['HR'] = self.Master.index.hour*1.0\n",
    "        \n",
    "    def Scale(self,y_var,X_vars):\n",
    "        self.y_var = y_var\n",
    "        self.Data = self.Master[np.isfinite(self.Master[y_var])]\n",
    "        self.Data = self.Data.interpolate().bfill()\n",
    "        self.Data = self.Data.interpolate().ffill()\n",
    "        self.y = self.Data[y_var].values\n",
    "        YStandard = StandardScaler()\n",
    "        self.YScaled = YStandard.fit(self.y.reshape(-1, 1))\n",
    "        Yscale = self.YScaled.transform(self.y.reshape(-1, 1))\n",
    "        self.y = np.ndarray.flatten(Yscale)\n",
    "        self.Ytru = self.YScaled.inverse_transform(self.y.reshape(-1,1))\n",
    "        X = self.Data[X_vars]\n",
    "        self.input_shape = len(X_vars)\n",
    "        XStandard = StandardScaler()\n",
    "        self.XScaled= XStandard.fit(X)\n",
    "        self.X = self.XScaled.transform(X)\n",
    "        Filling = self.Master[X_vars]\n",
    "        Filling = Filling.interpolate().bfill()\n",
    "        Filling = Filling.interpolate().ffill()\n",
    "        XStandard = StandardScaler()\n",
    "        self.XFillScaled= XStandard.fit(Filling)\n",
    "        self.X_fill = self.XScaled.transform(Filling)\n",
    "        \n",
    "    def TimeShape(self,rolls):\n",
    "        X1 = self.X\n",
    "        Xf = self.X_fill\n",
    "        self.X_time = np.zeros(shape = (X1.shape[0],rolls+1,X1.shape[1]))\n",
    "        self.X_time[:,0,:] = X1\n",
    "        self.X_ftime = np.zeros(shape = (Xf.shape[0],rolls+1,Xf.shape[1]))\n",
    "        self.X_ftime[:,0,:] = Xf\n",
    "        if rolls > 0:\n",
    "            for roll in range(0,rolls):\n",
    "                X2 = np.roll(X1,(roll+1),axis=0)\n",
    "                X2f = np.roll(Xf,(roll+1),axis=0)\n",
    "                self.X_time[:,roll+1,:] = X2\n",
    "                self.X_ftime[:,roll+1,:] = Xf\n",
    "        self.X_time = self.X_time[rolls+1:,:,:]\n",
    "        self.X_ftime = self.X_ftime[rolls+1:,:,:]\n",
    "        self.y_time = self.y[rolls+1:]\n",
    "        self.y_ftime = self.y[rolls+1:]\n",
    "        self.TimeSteps = rolls+1\n",
    "        \n",
    "    def Fill(self,Y_Pred):\n",
    "        Y_fill = self.YScaled.inverse_transform(Y_Pred.reshape(-1,1))\n",
    "        nanz = np.zeros(shape=(self.TimeSteps,1))\n",
    "        nanz[:,:] = np.nan\n",
    "        Y_Pred = np.concatenate((nanz,Y_fill),axis=0).reshape(-1,1)\n",
    "        self.Master['TempFIll'] = Y_Pred\n",
    "        self.Master[self.y_var+'_Filled'] = self.Master[self.y_var].fillna(self.Master['TempFIll'])"
   ]
  },
  {
   "cell_type": "code",
   "execution_count": 4,
   "metadata": {
    "collapsed": true
   },
   "outputs": [],
   "source": [
    "def LSTM_Model(Neurons,batch_size,time_steps,inputs,lr=1e-4,Memory=.9):\n",
    "    import keras\n",
    "    from keras.models import Sequential\n",
    "    from keras.layers import Dense\n",
    "    from keras.layers import LSTM\n",
    "    from keras.wrappers.scikit_learn import KerasRegressor\n",
    "    from keras.callbacks import EarlyStopping,ModelCheckpoint,LearningRateScheduler\n",
    "#     from keras import backend as K\n",
    "    import tensorflow as tf\n",
    "    config = tf.ConfigProto()\n",
    "    config.gpu_options.per_process_gpu_memory_fraction = Memory\n",
    "    session = tf.Session(config=config)\n",
    "    model = Sequential()\n",
    "    model.add(LSTM(Neurons, input_shape=(time_steps,inputs),stateful = False))\n",
    "    model.add(Dense(1))\n",
    "    NUM_GPU = 1 # or the number of GPUs available on your machine\n",
    "    \n",
    "    adam = keras.optimizers.Adam(lr = lr)\n",
    "    gpu_list = []\n",
    "    for i in range(NUM_GPU): gpu_list.append('gpu(%d)' % i)\n",
    "    model.compile(loss='mean_squared_error', optimizer='adam')#,context=gpu_list) # - Add if using MXNET\n",
    "    return(model)\n",
    "\n",
    "def Train_Steps(epochs,Neurons,X_train,X_test,X_val,y_train,y_test,y_val,i,Memory=None):\n",
    "    \n",
    "    np.random.seed(i)\n",
    "    from keras import backend as K\n",
    "#     epochs = 100\n",
    "    Scorez=[]\n",
    "    lr = 1e-3\n",
    "    Mod = LSTM_Model(Neurons,X_train.shape[0],X_train.shape[1],X_train.shape[2],lr=lr,Memory=Memory)\n",
    "    killscore=0\n",
    "    killmax = 10\n",
    "    e = 0\n",
    "    udate = 3\n",
    "    while killscore < killmax and e < epochs:\n",
    "        Mod.fit(X_train,y_train,batch_size=X_train.shape[0], nb_epoch=1,shuffle=True,verbose=0)\n",
    "        old_weights = Mod.get_weights()\n",
    "        Y = Mod.predict(X_test,batch_size =X_test.shape[0])\n",
    "        score = metrics.mean_squared_error(y_test,Y)\n",
    "        Scorez.append(score)\n",
    "        if e == 0:\n",
    "            score_min=score\n",
    "            min_weights=old_weights\n",
    "        elif score < score_min:\n",
    "            score_min = score\n",
    "            min_weights=old_weights\n",
    "            killscore = 0\n",
    "        else:\n",
    "            killscore +=1\n",
    "        if killscore == math.floor(killmax/2):\n",
    "            K.set_value(Mod.optimizer.lr, 0.5 * K.get_value(Mod.optimizer.lr))\n",
    "        Mod.reset_states()\n",
    "        e +=1\n",
    "    Mod.set_weights(min_weights)\n",
    "    Yval = Mod.predict(X_val,batch_size = X_val.shape[0])\n",
    "    MSE = (metrics.mean_squared_error(y_val,Yval))\n",
    "    Scorez=np.asanyarray(Scorez)\n",
    "    return(MSE)\n",
    "           "
   ]
  },
  {
   "cell_type": "code",
   "execution_count": 5,
   "metadata": {},
   "outputs": [
    {
     "name": "stderr",
     "output_type": "stream",
     "text": [
      "Using TensorFlow backend.\n",
      "Using TensorFlow backend.\n",
      "Using TensorFlow backend.\n"
     ]
    },
    {
     "name": "stdout",
     "output_type": "stream",
     "text": [
      "[ 0.62670914  0.75528459  0.80128243  0.83611655  0.72166738  0.78987788\n",
      "  1.34382148  0.8110613   0.60165773]\n",
      "[ 0.60918051  0.80708715  0.87196236  0.91487776  0.84650983  0.80465399\n",
      "  1.41581954  0.89744187  0.59306369]\n",
      "[ 0.68144581  1.32560668  0.75987859  0.63588985  0.924672    0.92396062\n",
      "  1.41935773  0.80771734  0.68857428]\n",
      "[ 0.69403462  0.74602971  0.83593316  1.05528227  1.5653375   0.76685871\n",
      "  1.46177347  0.84613174  0.84489467]\n",
      "[ 0.43822069  0.60133658  0.63207606  0.61905764  0.69126803  0.88729563\n",
      "  0.78602902  0.85150786  0.93888356]\n",
      "    N  T       MSE       STD\n",
      "0  89  0  0.809720  0.203832\n",
      "1  61  0  0.862289  0.224513\n",
      "2  51  2  0.907456  0.267068\n",
      "3  19  4  0.979586  0.301711\n",
      "4  98  3  0.716186  0.152624\n",
      "66.00775814056396\n"
     ]
    }
   ],
   "source": [
    "def TTV_Split(i,Memory,X,y,params):\n",
    "    X_train,X_test,y_train,y_test=train_test_split(X,y, test_size=0.1, random_state=i)\n",
    "    X_train,X_val,y_train,y_val=train_test_split(X_train,y_train, test_size=0.11, random_state=i)\n",
    "    return(Train_Steps(params['epochs'],params['N'],X_train,X_test,X_val,y_train,y_test,y_val,i=i,Memory=Memory))\n",
    "\n",
    "# Model = ['Temp_2_5_1','u*','air_pressure','Table_1']#,'NR_Wm2_Avg','AirTC_Avg','RH','DOY']\n",
    "\n",
    "Model = [\"DOY\",\"H\",\"air_pressure\",\"wind_speed\",\"wind_dir\",\"u*\",\"Hz\",\"AirTC_Avg\",\"RH_Samp\",\"Rain_mm_Tot\",\"NR_Wm2_Avg\",\n",
    "         \"PPFD_Avg\",\"Temp_2_5_1\",\"Temp_15_1\",\"Temp_5_1\",\"Temp_2_5_2\",\"Temp_15_2\",\"Temp_5_2\",\"Depth_1\",\"Active_Layer_1\",\n",
    "         \"Table_1\",\"Depth_2\",\"Active_Layer_2\"]\n",
    "\n",
    "\n",
    "\n",
    "Time = time.time()\n",
    "\n",
    "Path = 'FI_Data.csv' \n",
    "def RunReps(Model,Runs,params,pool = None):\n",
    "    RST = ReadStandardTime(Path)\n",
    "    offset = 5/params['proc']\n",
    "    Memory = (math.floor(100/params['proc'])- offset) * .01\n",
    "    MSE = []\n",
    "    RST.Scale(params['Y'],Model)\n",
    "    RST.TimeShape(params['T'])\n",
    "    y = RST.y_time*1.0\n",
    "    X = RST.X_time*1.0\n",
    "    MSE = []\n",
    "    if __name__=='__main__'and params['proc'] != 1:\n",
    "        for i,mse in enumerate(pool.imap(partial(TTV_Split,Memory=Memory,X=X,y=y,params=params),range(params['reps']))):\n",
    "            MSE.append(mse)\n",
    "    else:\n",
    "        for i in range(params['reps']):\n",
    "            mse = TTV_Split(i,Memory,X,y,params)\n",
    "            MSE.append(mse)\n",
    "    MSE = np.asanyarray(MSE)\n",
    "    return(MSE)\n",
    "    \n",
    "\n",
    "if __name__=='__main__'and params['proc'] != 1:\n",
    "    pool = Pool(processes=params['proc'],maxtasksperchild=75)\n",
    "else:pool=None\n",
    "    \n",
    "\n",
    "for i in Runs.index:\n",
    "    params['T']=Runs['T'].iloc[i]\n",
    "    params['N']=Runs['N'].iloc[i]\n",
    "    MSE = RunReps(Model,Runs,params,pool)#RunFunc(i,processes=processes,Modz=Model,reps=reps,epochs=epochs,params=Runs)\n",
    "    print(MSE)\n",
    "    Runs['MSE'][i]=MSE.mean()\n",
    "    Runs['STD'][i]=MSE.std()\n",
    "\n",
    "print(Runs)\n",
    "  \n",
    "print(time.time()-Time)\n",
    "        "
   ]
  },
  {
   "cell_type": "code",
   "execution_count": 6,
   "metadata": {
    "scrolled": false
   },
   "outputs": [
    {
     "data": {
      "image/png": "[encoded data removed]",
      "text/plain": [
       "<matplotlib.figure.Figure at 0x7ff0ec0fdc88>"
      ]
     },
     "metadata": {},
     "output_type": "display_data"
    }
   ],
   "source": [
    "from scipy.stats import norm\n",
    "\n",
    "plt.rcParams[\"figure.figsize\"] = (14, 8)\n",
    "def probability_of_improvement(mu_x, sigma_x, opt_value, kappa=0.5):\n",
    "    gamma_x = (mu_x - opt_value - kappa) / sigma_x\n",
    "    return norm.cdf(gamma_x)\n",
    "\n",
    "\n",
    "def expected_improvement(mu_x, sigma_x, opt_value, kappa=0.5):\n",
    "    gamma_x = (mu_x - opt_value - kappa) / sigma_x\n",
    "    return sigma_x * (gamma_x * norm.cdf(gamma_x) + norm.pdf(gamma_x))\n",
    "\n",
    "\n",
    "def upper_confidence_bound(mu_x, sigma_x, opt_value, kappa=-1.0):\n",
    "    return mu_x + kappa * sigma_x\n",
    "\n",
    "from sklearn.gaussian_process import GaussianProcessRegressor\n",
    "from sklearn.gaussian_process.kernels import Matern, WhiteKernel\n",
    "\n",
    "kernel = Matern(length_scale = [50,3],length_scale_bounds=\"fixed\")\n",
    "gp = GaussianProcessRegressor(kernel=kernel, alpha=Runs['STD'].values, random_state=0,normalize_y=False)\n",
    "gp.fit(Runs[['N','T']].values, Runs['MSE'].values)\n",
    "\n",
    "\n",
    "N = [n for n in range(params['N_Max'])]\n",
    "T = [t for t in range(params['T_Max'])]\n",
    "A = [T[i] for j in range(len(N))for i in range(len(T))]\n",
    "B = [N[i] for j in range(len(T))for i in range(len(N))]\n",
    "T = np.asanyarray(A)\n",
    "N = np.asanyarray(B)\n",
    "\n",
    "X = np.zeros(shape=(T.shape[0],2))\n",
    "X[:,0] = N\n",
    "X[:,1] = T\n",
    "y_pred,sigma = gp.predict(X,return_std=True)\n",
    "\n",
    "plt.figure()\n",
    "plt.scatter(X[:,0],X[:,1],c=y_pred)\n",
    "plt.legend()\n",
    "Runs2 = Runs.copy()"
   ]
  },
  {
   "cell_type": "code",
   "execution_count": 7,
   "metadata": {},
   "outputs": [
    {
     "name": "stdout",
     "output_type": "stream",
     "text": [
      "[ 96.09383877   2.35930696]\n",
      "96 2\n",
      "[ 0.43721523  0.60315854  0.63133558  0.61909315  0.68783947  0.89537804\n",
      "  0.77925479  0.84835492  0.93888357]\n",
      "[ 96.17778893   4.13660521]\n",
      "96 4\n",
      "[ 0.44493738  0.60181862  0.62117475  0.61856785  0.69135886  0.89403252\n",
      "  0.78934259  0.84565806  0.93888355]\n",
      "        MSE   N       STD  T\n",
      "0  0.979586  19  0.301711  4\n",
      "1  0.907456  51  0.267068  2\n",
      "2  0.862289  61  0.224513  0\n",
      "3  0.809720  89  0.203832  0\n",
      "4  0.715613  96  0.153180  2\n",
      "5  0.716197  96  0.152449  4\n",
      "6  0.716186  98  0.152624  3\n"
     ]
    }
   ],
   "source": [
    "from scipy.optimize import minimize\n",
    "acq = upper_confidence_bound\n",
    "def query(xi, yi, gp):\n",
    "    best_value = np.inf\n",
    "\n",
    "    for N in np.linspace(1,params['N_Max']):\n",
    "        for T in np.linspace(0,params['T_Max']):\n",
    "            def obj(x):\n",
    "                x=x.reshape(1,-1)\n",
    "                mu_x, sigma_x = gp.predict(x, return_std=True)\n",
    "#                 print(np.min(yi),np.max(yi))\n",
    "                return acq(mu_x, sigma_x, np.min(yi))\n",
    "            x0 = np.asanyarray([N,T]).reshape(1,2)\n",
    "            res = minimize(obj, x0, bounds=((1, params['N_Max']),(0,params['T_Max'])))\n",
    "\n",
    "            if res.fun < best_value:\n",
    "                best_value = res.fun\n",
    "                query_point = res.x\n",
    "    query_point = query_point\n",
    "    return query_point\n",
    "\n",
    "for i in range(params['Searches']):\n",
    "    kernel = Matern(length_scale_bounds=\"fixed\") \n",
    "    gp = GaussianProcessRegressor(kernel=kernel, alpha=Runs['STD'].values, random_state=1,normalize_y=True)\n",
    "    gp.fit(Runs[['N','T']].values, Runs['MSE'].values)\n",
    "    \n",
    "    next_x = query(Runs[['N','T']].values, Runs['MSE'].values, gp)\n",
    "    print(next_x)\n",
    "    N = int(np.round(next_x[0],0))\n",
    "    T = int(np.round(next_x[1],0))\n",
    "    o = 0\n",
    "    while len(Runs.loc[(Runs['N']==N) & (Runs['T']==T)].index) != 0:\n",
    "        print('Adjust!')\n",
    "        o +=1\n",
    "        N += int(o*np.cos(o*np.pi))\n",
    "    print(N,T)\n",
    "    d = {'N':N,'T':T,'MSE':0,'STD':0}\n",
    "    idx = Runs.index[-1] + 1\n",
    "    D2 = pd.DataFrame(data=d,index=[idx])\n",
    "    Runs = Runs.append(D2)\n",
    "    \n",
    "    MSE = RunReps(Model,Runs,params,pool)#RunFunc(i,processes=processes,Modz=Model,reps=reps,epochs=epochs,params=Runs)\n",
    "    print(MSE)\n",
    "    Runs['MSE'][idx]=MSE.mean()\n",
    "    Runs['STD'][idx]=MSE.std()\n",
    "    \n",
    "    Runs = Runs.sort_values(by = ['N','T']).reset_index(drop=True)\n",
    "    \n",
    "#     x = Runs[['N','T']].values\n",
    "#     y = Runs['MSE'].values\n",
    "#     s = Runs['STD'].values\n",
    "    \n",
    "print(Runs)\n",
    "\n",
    "if __name__=='__main__'and params['proc'] != 1:\n",
    "    pool.close()"
   ]
  },
  {
   "cell_type": "code",
   "execution_count": 8,
   "metadata": {},
   "outputs": [
    {
     "name": "stdout",
     "output_type": "stream",
     "text": [
      "        MSE   N      STD  T\n",
      "4  0.715613  96  0.15318  2\n"
     ]
    },
    {
     "data": {
      "text/plain": [
       "<matplotlib.colorbar.Colorbar at 0x7ff0ec071fd0>"
      ]
     },
     "execution_count": 8,
     "metadata": {},
     "output_type": "execute_result"
    },
    {
     "data": {
      "image/png": "[encoded data removed]",
      "text/plain": [
       "<matplotlib.figure.Figure at 0x7ff0ee41dcf8>"
      ]
     },
     "metadata": {},
     "output_type": "display_data"
    }
   ],
   "source": [
    "print(Runs[Runs['MSE'] == Runs['MSE'].min()])\n",
    "plt.figure()\n",
    "plt.scatter(Runs[\"N\"],Runs['T'],s=1/Runs['STD']*100,c=Runs['MSE'])\n",
    "plt.colorbar()\n",
    "# plt.legend()"
   ]
  },
  {
   "cell_type": "code",
   "execution_count": null,
   "metadata": {
    "collapsed": true
   },
   "outputs": [],
   "source": []
  },
  {
   "cell_type": "code",
   "execution_count": null,
   "metadata": {
    "collapsed": true
   },
   "outputs": [],
   "source": []
  }
 ],
 "metadata": {
  "kernelspec": {
   "display_name": "Python 3",
   "language": "python",
   "name": "python3"
  },
  "language_info": {
   "codemirror_mode": {
    "name": "ipython",
    "version": 3
   },
   "file_extension": ".py",
   "mimetype": "text/x-python",
   "name": "python",
   "nbconvert_exporter": "python",
   "pygments_lexer": "ipython3",
   "version": "3.5.2"
  }
 },
 "nbformat": 4,
 "nbformat_minor": 2
}
