{
 "cells": [
  {
   "cell_type": "code",
   "execution_count": 12,
   "metadata": {
    "collapsed": true
   },
   "outputs": [],
   "source": [
    "import time\n",
    "import math\n",
    "import numpy as np\n",
    "import pandas as pd\n",
    "import matplotlib.pyplot as plt\n",
    "from itertools import combinations\n",
    "from functools import partial\n",
    "from multiprocessing import Pool\n",
    "from sklearn.preprocessing import StandardScaler\n",
    "from sklearn import metrics\n",
    "from sklearn.model_selection import RepeatedKFold\n",
    "import warnings\n",
    "warnings.filterwarnings('ignore')\n",
    "from sklearn.model_selection import train_test_split\n",
    "\n",
    "%matplotlib inline\n",
    "%config IPCompleter.greedy=True\n",
    "plt.rcParams[\"figure.figsize\"] = (14, 8)"
   ]
  },
  {
   "cell_type": "code",
   "execution_count": 2,
   "metadata": {
    "collapsed": true
   },
   "outputs": [],
   "source": [
    "class ReadStandardTime:\n",
    "    def __init__(self,Path):\n",
    "        self.Master = pd.read_csv(Path,delimiter = ',',header = 0,na_values = -9999)\n",
    "        self.Master = self.Master.set_index(pd.DatetimeIndex(pd.to_datetime(self.Master['datetime'])))\n",
    "        self.Master['DOY'] = self.Master.index.dayofyear*1.0\n",
    "        self.Master['HR'] = self.Master.index.hour*1.0\n",
    "        \n",
    "    def Scale(self,y_var,X_vars):\n",
    "        self.y_var = y_var\n",
    "        self.Data = self.Master[np.isfinite(self.Master[y_var])]\n",
    "        self.Data = self.Data.interpolate().bfill()\n",
    "        self.Data = self.Data.interpolate().ffill()\n",
    "        self.y = self.Data[y_var].values\n",
    "        YStandard = StandardScaler()\n",
    "        self.YScaled = YStandard.fit(self.y.reshape(-1, 1))\n",
    "        Yscale = self.YScaled.transform(self.y.reshape(-1, 1))\n",
    "        self.y = np.ndarray.flatten(Yscale)\n",
    "        self.Ytru = self.YScaled.inverse_transform(self.y.reshape(-1,1))\n",
    "        X = self.Data[X_vars]\n",
    "        self.input_shape = len(X_vars)\n",
    "        XStandard = StandardScaler()\n",
    "        self.XScaled= XStandard.fit(X)\n",
    "        self.X = self.XScaled.transform(X)\n",
    "        Filling = self.Master[X_vars]\n",
    "        Filling = Filling.interpolate().bfill()\n",
    "        Filling = Filling.interpolate().ffill()\n",
    "        XStandard = StandardScaler()\n",
    "        self.XFillScaled= XStandard.fit(Filling)\n",
    "        self.X_fill = self.XScaled.transform(Filling)\n",
    "        \n",
    "    def TimeShape(self,rolls):\n",
    "        X1 = self.X\n",
    "        Xf = self.X_fill\n",
    "        self.X_time = np.zeros(shape = (X1.shape[0],rolls+1,X1.shape[1]))\n",
    "        self.X_time[:,0,:] = X1\n",
    "        self.X_ftime = np.zeros(shape = (Xf.shape[0],rolls+1,Xf.shape[1]))\n",
    "        self.X_ftime[:,0,:] = Xf\n",
    "        if rolls > 0:\n",
    "            for roll in range(0,rolls):\n",
    "                X2 = np.roll(X1,(roll+1),axis=0)\n",
    "                X2f = np.roll(Xf,(roll+1),axis=0)\n",
    "                self.X_time[:,roll+1,:] = X2\n",
    "                self.X_ftime[:,roll+1,:] = Xf\n",
    "        self.X_time = self.X_time[rolls+1:,:,:]\n",
    "        self.X_ftime = self.X_ftime[rolls+1:,:,:]\n",
    "        self.y_time = self.y[rolls+1:]\n",
    "        self.y_ftime = self.y[rolls+1:]\n",
    "        self.TimeSteps = rolls+1\n",
    "        \n",
    "    def Fill(self,Y_Pred):\n",
    "        Y_fill = self.YScaled.inverse_transform(Y_Pred.reshape(-1,1))\n",
    "        nanz = np.zeros(shape=(self.TimeSteps,1))\n",
    "        nanz[:,:] = np.nan\n",
    "        Y_Pred = np.concatenate((nanz,Y_fill),axis=0).reshape(-1,1)\n",
    "        self.Master['TempFIll'] = Y_Pred\n",
    "        self.Master[self.y_var+'_Filled'] = self.Master[self.y_var].fillna(self.Master['TempFIll'])"
   ]
  },
  {
   "cell_type": "code",
   "execution_count": 3,
   "metadata": {
    "collapsed": true
   },
   "outputs": [],
   "source": [
    "def LSTM_Model(Neurons,batch_size,time_steps,inputs,lr=1e-4,Memory=.9):\n",
    "    import keras\n",
    "    from keras.models import Sequential\n",
    "    from keras.layers import Dense\n",
    "    from keras.layers import LSTM\n",
    "    from keras.wrappers.scikit_learn import KerasRegressor\n",
    "    from keras.callbacks import EarlyStopping,ModelCheckpoint,LearningRateScheduler\n",
    "#     from keras import backend as K\n",
    "    import tensorflow as tf\n",
    "    config = tf.ConfigProto()\n",
    "    config.gpu_options.per_process_gpu_memory_fraction = Memory\n",
    "    session = tf.Session(config=config)\n",
    "    model = Sequential()\n",
    "    model.add(LSTM(Neurons, input_shape=(time_steps,inputs),stateful = False))\n",
    "    model.add(Dense(1))\n",
    "    NUM_GPU = 1 # or the number of GPUs available on your machine\n",
    "    \n",
    "    adam = keras.optimizers.Adam(lr = lr)\n",
    "    gpu_list = []\n",
    "    for i in range(NUM_GPU): gpu_list.append('gpu(%d)' % i)\n",
    "    model.compile(loss='mean_squared_error', optimizer='adam')#,context=gpu_list) # - Add if using MXNET\n",
    "    return(model)\n",
    "\n",
    "def Train_Steps(epochs,Neurons,X_train,X_test,X_val,y_train,y_test,y_val,rs,i=None,Memory=None):\n",
    "    \n",
    "    np.random.seed(i)\n",
    "    from keras import backend as K\n",
    "#     epochs = 100\n",
    "    Scorez=[]\n",
    "    lr = 1e-3\n",
    "    Mod = LSTM_Model(Neurons,X_train.shape[0],X_train.shape[1],X_train.shape[2],lr=lr,Memory=Memory)\n",
    "    killscore=0\n",
    "    killmax = 10\n",
    "    e = 0\n",
    "    udate = 3\n",
    "    np.random.seed(rs)\n",
    "    while killscore < killmax and e < epochs:\n",
    "#         print(e)\n",
    "        Mod.fit(X_train,y_train,batch_size=X_train.shape[0], nb_epoch=1,shuffle=True,verbose=0)\n",
    "        old_weights = Mod.get_weights()\n",
    "        Y = Mod.predict(X_test,batch_size =X_test.shape[0])\n",
    "        score = metrics.mean_squared_error(y_test,Y)\n",
    "        Scorez.append(score)\n",
    "        if e == 0:\n",
    "            score_min=score\n",
    "            min_weights=old_weights\n",
    "        elif score < score_min:\n",
    "            score_min = score\n",
    "            min_weights=old_weights\n",
    "            killscore = 0\n",
    "        else:\n",
    "            killscore +=1\n",
    "        if killscore == math.floor(killmax/2):\n",
    "            K.set_value(Mod.optimizer.lr, 0.5 * K.get_value(Mod.optimizer.lr))\n",
    "#             print(K.get_value(Mod.optimizer.lr))\n",
    "        Mod.reset_states()\n",
    "        e +=1\n",
    "#         print(e,killscore)\n",
    "    Mod.set_weights(min_weights)\n",
    "    Yval = Mod.predict(X_val,batch_size = X_val.shape[0])\n",
    "    MSE = (metrics.mean_squared_error(y_val,Yval))\n",
    "    Scorez=np.asanyarray(Scorez)\n",
    "    return(MSE,min_weights)\n",
    "           \n",
    "# def RunFunc(i,processes,Modz,reps,time_steps,Neurons,epochs):\n",
    "def RunFunc(i,processes,Modz,params):\n",
    "#     print(params.iloc[i])\n",
    "    time_steps = params['T']#.iloc[i]\n",
    "    Neurons = params['N']#.iloc[i]\n",
    "#     np.random.seed(i)\n",
    "    Path = 'QuickData_FI.csv' \n",
    "#     CH4_Model = ['Sedge','Temp','VWC','ustar','air_pressure','PPFD_Avg']\n",
    "    RST = ReadStandardTime(Path)\n",
    "    offset = 5/processes\n",
    "    Memory = (math.floor(100/processes)- offset) * .01\n",
    "    MSE = []\n",
    "\n",
    "#     Model=\n",
    "    RST.Scale('co2_flux',Modz[i])\n",
    "    RST.TimeShape(time_steps)\n",
    "    y = RST.y_time*1.0\n",
    "    X = RST.X_time*1.0\n",
    "    for r in range(params['reps']):\n",
    "        X_train,X_test,y_train,y_test=train_test_split(X,y, test_size=0.1, random_state=r)\n",
    "        X_train,X_val,y_train,y_val=train_test_split(X_train,y_train, test_size=0.11, random_state=r)\n",
    "        mse,w=Train_Steps(params['epochs'],Neurons,X_train,X_test,X_val,y_train,y_test,y_val,rs=i,i=r,Memory=Memory)\n",
    "        MSE.append(mse)\n",
    "    mse = np.asanyarray(MSE)\n",
    "    mse,std = mse.mean(),mse.std()\n",
    "    return(mse,std)"
   ]
  },
  {
   "cell_type": "code",
   "execution_count": 17,
   "metadata": {},
   "outputs": [
    {
     "name": "stdout",
     "output_type": "stream",
     "text": [
      "{'T': 1, 'N': 60, 'reps': 3, 'epochs': 10}\n"
     ]
    }
   ],
   "source": [
    "class Params:\n",
    "    def __init__(self,Func,samp_size):\n",
    "        if Func == 'Quick':            \n",
    "            epochs = 1000\n",
    "            reps = 10\n",
    "            N = 300\n",
    "            T = 6\n",
    "        elif Func == 'Full':\n",
    "            epochs = 2000\n",
    "            reps = 100\n",
    "            N = 200\n",
    "            T = 12\n",
    "        else:\n",
    "            epochs = 10\n",
    "            reps = 3\n",
    "            N = 60\n",
    "            T = 1\n",
    "        self.params = {}\n",
    "        self.params['T'] = T\n",
    "        self.params['N'] = N\n",
    "        self.params['reps'] = reps\n",
    "        self.params['epochs'] = epochs\n",
    "\n",
    "rpms = Params('temp',25)#'Quick Run')\n",
    "# Runs,reps,epochs = rpms.Runs,rpms.reps,rpms.epochs\n",
    "params=rpms.params\n",
    "print(params)"
   ]
  },
  {
   "cell_type": "code",
   "execution_count": 18,
   "metadata": {},
   "outputs": [
    {
     "name": "stdout",
     "output_type": "stream",
     "text": [
      "['Temp_2_5_1', 'Temp_2_5_2', 'u*', 'wind_speed', 'air_pressure']\n",
      "['Temp_2_5_1', 'Temp_2_5_2', 'u*', 'wind_speed', 'Table_1']\n",
      "['Temp_2_5_1', 'Temp_2_5_2', 'u*', 'air_pressure', 'Table_1']\n",
      "['Temp_2_5_1', 'Temp_2_5_2', 'wind_speed', 'air_pressure', 'Table_1']\n",
      "['Temp_2_5_1', 'u*', 'wind_speed', 'air_pressure', 'Table_1']\n",
      "['Temp_2_5_2', 'u*', 'wind_speed', 'air_pressure', 'Table_1']\n"
     ]
    }
   ],
   "source": [
    "def Combos(Model,L,factor=None):\n",
    "    Models=list()\n",
    "    for c in combinations(Model,L):\n",
    "        c = list(c)\n",
    "        if factor == None:\n",
    "            Models.append(c)\n",
    "        else:\n",
    "            if factor in c:\n",
    "                Models.append(c)\n",
    "    return(Models)\n",
    "\n",
    "Model = ['Temp_2_5_1','u*','air_pressure','Table_1']#,'NR_Wm2_Avg','AirTC_Avg','RH','DOY']\n",
    "Time = time.time()\n",
    "if __name__=='__main__':\n",
    "    processes=1\n",
    "    pool = Pool(processes=processes,maxtasksperchild=50)\n",
    "    Score = []\n",
    "    Models = []\n",
    "    L = len(Model)-1\n",
    "    Models = Combos(Model,L)\n",
    "    while L > len(0):\n",
    "#     for c in combinations(Model,L):\n",
    "#         Models.append(list(c))\n",
    "        for i in range(len(Models)):\n",
    "            res = RunFunc(i=i,processes=processes,Modz=Models,params=params)\n",
    "#     for i,res in enumerate(pool.imap(partial(RunFunc,processes=processes,Modz=Models,params=params),\n",
    "#                                      range(len(Models)))):\n",
    "        print(Models[i])\n",
    "        Score.append(res[0])\n",
    "        L-=1\n",
    "        if L >0:Models=Combos(Model,L,factor)\n",
    "    pool.close()"
   ]
  },
  {
   "cell_type": "code",
   "execution_count": 21,
   "metadata": {},
   "outputs": [
    {
     "name": "stdout",
     "output_type": "stream",
     "text": [
      "['Temp_2_5_1', 'wind_speed', 'air_pressure', 'Table_1']\n",
      "['Temp_2_5_1', 'u*', 'air_pressure', 'Table_1']\n"
     ]
    },
    {
     "data": {
      "image/png": "[encoded data removed]",
      "text/plain": [
       "<matplotlib.figure.Figure at 0x1b583830978>"
      ]
     },
     "metadata": {},
     "output_type": "display_data"
    },
    {
     "name": "stdout",
     "output_type": "stream",
     "text": [
      "wind_speed\n",
      "[['Temp_2_5_1', 'Temp_2_5_2', 'u*', 'wind_speed'], ['Temp_2_5_1', 'Temp_2_5_2', 'wind_speed', 'air_pressure'], ['Temp_2_5_1', 'Temp_2_5_2', 'wind_speed', 'Table_1'], ['Temp_2_5_1', 'u*', 'wind_speed', 'air_pressure'], ['Temp_2_5_1', 'u*', 'wind_speed', 'Table_1'], ['Temp_2_5_1', 'wind_speed', 'air_pressure', 'Table_1'], ['Temp_2_5_2', 'u*', 'wind_speed', 'air_pressure'], ['Temp_2_5_2', 'u*', 'wind_speed', 'Table_1'], ['Temp_2_5_2', 'wind_speed', 'air_pressure', 'Table_1'], ['u*', 'wind_speed', 'air_pressure', 'Table_1']]\n"
     ]
    }
   ],
   "source": [
    "\n",
    "\n",
    "Score = np.asanyarray(Score)\n",
    "X = np.arange(0,len(Models))\n",
    "Worst = Models[np.where(Score == Score.max())[0][0]]\n",
    "Best = Models[np.where(Score == Score.min())[0][0]]\n",
    "print(Best)\n",
    "print(Worst)\n",
    "plt.boxplot(Score)\n",
    "plt.show()\n",
    "for factor in Best:\n",
    "    if factor not in Worst:\n",
    "        print(factor)\n",
    "        Models = Combos(Model,L-1,factor)\n",
    "        print(Models)\n",
    "        "
   ]
  },
  {
   "cell_type": "code",
   "execution_count": null,
   "metadata": {
    "collapsed": true
   },
   "outputs": [],
   "source": []
  }
 ],
 "metadata": {
  "kernelspec": {
   "display_name": "Python 3",
   "language": "python",
   "name": "python3"
  },
  "language_info": {
   "codemirror_mode": {
    "name": "ipython",
    "version": 3
   },
   "file_extension": ".py",
   "mimetype": "text/x-python",
   "name": "python",
   "nbconvert_exporter": "python",
   "pygments_lexer": "ipython3",
   "version": "3.6.2"
  }
 },
 "nbformat": 4,
 "nbformat_minor": 2
}
