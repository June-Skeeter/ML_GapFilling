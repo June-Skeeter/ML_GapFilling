{
 "cells": [
  {
   "cell_type": "markdown",
   "metadata": {},
   "source": [
    "##  Optimze and a Dense Neural Network for gap filling and feature identification\n",
    "\n",
    "** With a few tweaks to RepRunner, an LSTM can be run instead"
   ]
  },
  {
   "cell_type": "code",
   "execution_count": 65,
   "metadata": {
    "collapsed": true
   },
   "outputs": [],
   "source": [
    "import time\n",
    "import math\n",
    "import numpy as np\n",
    "import pandas as pd\n",
    "import matplotlib.pyplot as plt\n",
    "from itertools import combinations\n",
    "from functools import partial\n",
    "from multiprocessing import Pool\n",
    "from sklearn.preprocessing import StandardScaler\n",
    "from sklearn import metrics\n",
    "from sklearn.model_selection import RepeatedKFold\n",
    "# import warnings\n",
    "# warnings.filterwarnings('ignore')\n",
    "from sklearn.model_selection import train_test_split\n",
    "\n",
    "## Personal Modules\n",
    "import ReadStandardTimeFill as RSTF\n",
    "# import LSTM_Train as LSTM\n",
    "import importlib\n",
    "# import LSTM\n",
    "import DenseNet as Dense\n",
    "# importlib.reload(LSTM)\n",
    "importlib.reload(Dense)\n",
    "importlib.reload(RSTF)\n",
    "\n",
    "%matplotlib inline\n",
    "%config IPCompleter.greedy=True\n",
    "\n",
    "from scipy.optimize import minimize, curve_fit\n",
    "from scipy.stats import norm\n",
    "from sklearn.gaussian_process import GaussianProcessRegressor\n",
    "from sklearn.gaussian_process.kernels import Matern, WhiteKernel, ConstantKernel\n",
    "from matplotlib import cm\n",
    "\n",
    "from scipy import stats\n",
    "from statsmodels.stats.multicomp import pairwise_tukeyhsd\n",
    "# pool.close()"
   ]
  },
  {
   "cell_type": "code",
   "execution_count": 66,
   "metadata": {
    "collapsed": true
   },
   "outputs": [],
   "source": [
    "def Curve(x,a,b,c):\n",
    "    return (a/(b+x)**c)\n",
    "\n",
    "def Combos(Model,L,factor=None):\n",
    "    Models=list()\n",
    "    for c in combinations(Model,L):\n",
    "        c = list(c)\n",
    "        if factor is None:\n",
    "            Models.append(c)\n",
    "        else:\n",
    "            for f in factor:\n",
    "                f = f.split('+')\n",
    "                if set(f).issubset(set(c)) and c not in Models:\n",
    "                    Models.append(c)\n",
    "    return(Models)\n",
    "\n",
    "def TTV_Split(iteration,Memory,X,y,params,X_fill):\n",
    "    X_train,X_test,y_train,y_test=train_test_split(X,y, test_size=0.1, random_state=iteration)\n",
    "    X_train,X_val,y_train,y_val=train_test_split(X_train,y_train, test_size=0.11, random_state=iteration)\n",
    "    return(Dense.Train_Steps(params['epochs'],params['N'],X_train,X_test,X_val,y_train,y_test,\n",
    "                            y_val,iteration,X_fill = X_fill,Memory=Memory),y_val)\n",
    "\n",
    "def RunReps(Model,params,pool = None,plot=False,FullReturn=False):\n",
    "    RST = RSTF.ReadStandardTimeFill(Path)\n",
    "    offset = 5/params['proc']\n",
    "    Memory = (math.floor(100/params['proc'])- offset) * .01\n",
    "    MSE = []\n",
    "    RST.Scale(params['Y'],Model)\n",
    "    if params['T'] >0:\n",
    "        RST.TimeShape(params['T'])\n",
    "    y = RST.y*1.0\n",
    "    X = RST.X*1.0\n",
    "    X_fill = RST.X_fill*1.0\n",
    "    MSE = []\n",
    "    R2 =[]\n",
    "    Y_fill = []\n",
    "    Yval = []\n",
    "    y_val= []\n",
    "    if __name__=='__main__'and params['proc'] != 1:\n",
    "        for i,results in enumerate(pool.imap(partial(TTV_Split,Memory=Memory,X=X,y=y,params=params,X_fill=X_fill),\n",
    "                                             range(params['K']))):\n",
    "            Y_fill.append(results[0][0])\n",
    "            Yval = RST.YScaled.inverse_transform(results[0][1].reshape(-1,1))\n",
    "            y_val = RST.YScaled.inverse_transform(results[1].reshape(-1,1))\n",
    "            MSE.append(metrics.mean_squared_error(Yval,y_val))\n",
    "            R2.append(metrics.r2_score(Yval,y_val))\n",
    "    else:\n",
    "        for i in range(params['K']):\n",
    "            results = TTV_Split(i,Memory,X,y,params,X_fill)\n",
    "            Y_fill.append(results[0][0])\n",
    "            Yval = RST.YScaled.inverse_transform(results[0][1].reshape(-1,1))\n",
    "            y_val = RST.YScaled.inverse_transform(results[1].reshape(-1,1))\n",
    "            MSE.append(metrics.mean_squared_error(y_val,Yval))\n",
    "            R2.append(metrics.r2_score(y_val,Yval))\n",
    "    Y_fill = np.asanyarray(Y_fill)\n",
    "    Y_fill = Y_fill.mean(axis=0) \n",
    "    FillVarName = FillVar.replace('f','F')\n",
    "    RST.Fill(Y_fill,FillVarName) \n",
    "    \n",
    "    return(MSE,R2,RST.Master['TempFill'])"
   ]
  },
  {
   "cell_type": "code",
   "execution_count": 67,
   "metadata": {},
   "outputs": [
    {
     "name": "stdout",
     "output_type": "stream",
     "text": [
      "{'proc': 1, 'K': 3, 'epochs': 100, 'Y': 'fch4'}\n"
     ]
    }
   ],
   "source": [
    "FillVar = 'fco2'\n",
    "FullModel = ['H','wind_speed','air_pressure','PPFD_Avg','AirTC_Avg',\n",
    "             'VPD','Temp','VWC','Sedge','Shrub','Grass','Sparse','Out_of_Basin']\n",
    "FullModel = ['PPFD_Avg','AirTC_Avg','Sedge','VWC','Grass']\n",
    "Runs,params = Dense.Params('Test',FillVar,MP=False)\n",
    "print(params)"
   ]
  },
  {
   "cell_type": "code",
   "execution_count": 68,
   "metadata": {
    "scrolled": false
   },
   "outputs": [
    {
     "name": "stdout",
     "output_type": "stream",
     "text": [
      "   N        MSE        R2\n",
      "0  4  86.459789  0.460356\n",
      "1  4  88.603099  0.263144\n",
      "2  4  88.215621  0.310097\n",
      "    N        MSE        R2\n",
      "3  16  49.773833  0.689333\n",
      "4  16  69.953227  0.418243\n",
      "5  16  66.257091  0.481827\n",
      "    N        MSE        R2\n",
      "6  36  49.871552  0.688723\n",
      "7  36  63.093191  0.475294\n",
      "8  36  63.023154  0.507119\n"
     ]
    }
   ],
   "source": [
    "Time = time.time()\n",
    "Path = 'Data_Footprints_2018-06-12.csv'\n",
    "\n",
    "if __name__=='__main__'and params['proc'] != 1:\n",
    "    pool = Pool(processes=params['proc'],maxtasksperchild=75)\n",
    "else:pool=None\n",
    "    \n",
    "def RunLoop(Runs):\n",
    "    for N in Runs['N'].unique():\n",
    "        params['T'] = 0\n",
    "        params['N']=N\n",
    "        Results = RunReps(FullModel,params,pool,plot=True)\n",
    "        MSE = Results[0]\n",
    "        R2 = Results[1]\n",
    "        Runs.loc[Runs['N']==N,'MSE']=MSE\n",
    "        Runs.loc[Runs['N']==N,'R2']=R2\n",
    "        print(Runs.loc[Runs['N']==N])\n",
    "    return(Runs)\n",
    "\n",
    "Runs = RunLoop(Runs)"
   ]
  },
  {
   "cell_type": "markdown",
   "metadata": {},
   "source": [
    "# The \"Optimum\" Sized Model"
   ]
  },
  {
   "cell_type": "code",
   "execution_count": 69,
   "metadata": {
    "scrolled": false
   },
   "outputs": [
    {
     "name": "stdout",
     "output_type": "stream",
     "text": [
      "          MSE        R2         SD        SE\n",
      "N                                           \n",
      "4   87.759503  0.344532   1.142137  0.659413\n",
      "16  61.994717  0.529801  10.743736  6.202899\n",
      "36  58.662632  0.557045   7.613380  4.395587\n"
     ]
    },
    {
     "name": "stderr",
     "output_type": "stream",
     "text": [
      "C:\\Anaconda3\\lib\\site-packages\\ipykernel_launcher.py:2: RuntimeWarning: invalid value encountered in power\n",
      "  \n"
     ]
    },
    {
     "data": {
      "image/png": "[encoded data removed]",
      "text/plain": [
       "<matplotlib.figure.Figure at 0x122aebd1a58>"
      ]
     },
     "metadata": {},
     "output_type": "display_data"
    },
    {
     "name": "stdout",
     "output_type": "stream",
     "text": [
      "5 63.05821879826477\n",
      "87.86710047721863\n"
     ]
    }
   ],
   "source": [
    "\n",
    "Group = Runs.groupby('N').mean()\n",
    "Group['SD'] = Runs[['N','MSE']].groupby('N').std()\n",
    "Group['SE'] = Runs[['N','MSE']].groupby('N').sem()\n",
    "\n",
    "print(Group)\n",
    "Min = Group.loc[Group['MSE']==Group['MSE'].min()]\n",
    "\n",
    "fig,ax = plt.subplots(figsize=(8,8))\n",
    "ax.scatter(Runs['N'],Runs['MSE'])\n",
    "popt, pcov = curve_fit(Curve, Runs['N'].values, Runs['MSE'].values)\n",
    "N = np.arange(Runs['N'].min(),Runs['N'].max())\n",
    "Fit = Curve(N,*popt)\n",
    "ax.plot(N,Fit,color='r')\n",
    "Max = (Min['MSE']+Min['SE']).values[0]\n",
    "ax.plot(N,N*0+Max,color = 'black')\n",
    "plt.grid()\n",
    "plt.show()\n",
    "try:\n",
    "    params['N']=N[Fit<Max].min()\n",
    "except:\n",
    "    params['N']=N[-1]\n",
    "    pass\n",
    "print(params['N'],Max)\n",
    "print(time.time()-Time)"
   ]
  },
  {
   "cell_type": "markdown",
   "metadata": {},
   "source": [
    "# Feature Identification"
   ]
  },
  {
   "cell_type": "code",
   "execution_count": 70,
   "metadata": {},
   "outputs": [
    {
     "name": "stdout",
     "output_type": "stream",
     "text": [
      "         MSE        R2  Level  Key                               Model\n",
      "0  62.385873  0.610615      5  5_0  PPFD_Avg+AirTC_Avg+Sedge+VWC+Grass\n",
      "1  80.975802  0.326576      5  5_0  PPFD_Avg+AirTC_Avg+Sedge+VWC+Grass\n",
      "2  87.568005  0.315162      5  5_0  PPFD_Avg+AirTC_Avg+Sedge+VWC+Grass\n"
     ]
    }
   ],
   "source": [
    "Scores = Runs[['MSE','R2']].reset_index(drop=True)\n",
    "Scores = (Scores.iloc[0:params['K']])*0\n",
    "Scores['Level'] = len(FullModel)\n",
    "Scores['Key'] = str(Scores['Level'][0])+'_0'\n",
    "Scores['Model'] = '+'.join(FullModel)\n",
    "\n",
    "Results = RunReps(FullModel,params,pool)\n",
    "\n",
    "MSE = Results[0]\n",
    "R2 = Results[1]\n",
    "# mean,std = np.asanyarray(MSE).mean(),np.asanyarray(MSE).std()\n",
    "# CI = std/params['K']**.5*stats.t.ppf(1-0.05, params['K']-1)\n",
    "Scores['MSE']=Results[0]#MSE#mean\n",
    "Scores['R2']=Results[1]#R2#.mean()\n",
    "\n",
    "ModelRuns = Results[2]\n",
    "ModelRuns = ModelRuns.to_frame()\n",
    "ModelRuns['Model: '+'+'.join(FullModel)]=ModelRuns['TempFill']\n",
    "ModelRuns=ModelRuns.drop('TempFill',axis=1)\n",
    "print(Scores)"
   ]
  },
  {
   "cell_type": "code",
   "execution_count": 71,
   "metadata": {
    "scrolled": false
   },
   "outputs": [
    {
     "name": "stdout",
     "output_type": "stream",
     "text": [
      "Level:  1\n"
     ]
    },
    {
     "name": "stderr",
     "output_type": "stream",
     "text": [
      "C:\\Anaconda3\\lib\\site-packages\\pandas\\core\\frame.py:6211: FutureWarning: Sorting because non-concatenation axis is not aligned. A future version\n",
      "of pandas will change to not sort by default.\n",
      "\n",
      "To accept the future behavior, pass 'sort=False'.\n",
      "\n",
      "To retain the current behavior and silence the warning, pass 'sort=True'.\n",
      "\n",
      "  sort=sort)\n"
     ]
    },
    {
     "name": "stdout",
     "output_type": "stream",
     "text": [
      "   Key  Level         MSE     Model        R2\n",
      "3  1_0      1  157.489279  PPFD_Avg  0.017020\n",
      "4  1_0      1  119.120478  PPFD_Avg  0.009351\n",
      "5  1_0      1  128.713889  PPFD_Avg -0.006625\n",
      "   Key  Level         MSE      Model        R2\n",
      "6  1_1      1  145.113162  AirTC_Avg  0.094267\n",
      "7  1_1      1  115.609881  AirTC_Avg  0.038546\n",
      "8  1_1      1  127.429910  AirTC_Avg  0.003417\n",
      "    Key  Level         MSE  Model        R2\n",
      "9   1_2      1  131.093964  Sedge  0.181769\n",
      "10  1_2      1  109.870464  Sedge  0.086277\n",
      "11  1_2      1  117.571343  Sedge  0.080517\n",
      "    Key  Level         MSE Model        R2\n",
      "12  1_3      1  136.925664   VWC  0.145370\n",
      "13  1_3      1  118.036469   VWC  0.018366\n",
      "14  1_3      1  117.898206   VWC  0.077961\n",
      "    Key  Level         MSE  Model        R2\n",
      "15  1_4      1  159.774494  Grass  0.002757\n",
      "16  1_4      1  114.683963  Grass  0.046246\n",
      "17  1_4      1  119.498176  Grass  0.065448\n",
      "['Sedge']\n",
      "Level:  2\n",
      "    Key  Level         MSE           Model        R2\n",
      "18  2_0      2  115.786763  PPFD_Avg+Sedge  0.277309\n",
      "19  2_0      2  112.939517  PPFD_Avg+Sedge  0.060754\n",
      "20  2_0      2  107.548140  PPFD_Avg+Sedge  0.158905\n",
      "    Key  Level         MSE            Model        R2\n",
      "21  2_1      2  131.389616  AirTC_Avg+Sedge  0.179923\n",
      "22  2_1      2  116.672049  AirTC_Avg+Sedge  0.029713\n",
      "23  2_1      2  108.662745  AirTC_Avg+Sedge  0.150188\n",
      "    Key  Level        MSE      Model        R2\n",
      "24  2_2      2  72.964113  Sedge+VWC  0.544590\n",
      "25  2_2      2  88.112734  Sedge+VWC  0.267222\n",
      "26  2_2      2  79.000107  Sedge+VWC  0.382169\n",
      "    Key  Level         MSE        Model        R2\n",
      "27  2_3      2  126.684935  Sedge+Grass  0.209288\n",
      "28  2_3      2  102.903944  Sedge+Grass  0.144213\n",
      "29  2_3      2  119.027817  Sedge+Grass  0.069126\n",
      "['Sedge+VWC']\n",
      "Level:  3\n",
      "    Key  Level        MSE               Model        R2\n",
      "30  3_0      3  82.407669  PPFD_Avg+Sedge+VWC  0.485647\n",
      "31  3_0      3  95.673505  PPFD_Avg+Sedge+VWC  0.204344\n",
      "32  3_0      3  78.493181  PPFD_Avg+Sedge+VWC  0.386133\n",
      "    Key  Level        MSE                Model        R2\n",
      "33  3_1      3  97.475113  AirTC_Avg+Sedge+VWC  0.391603\n",
      "34  3_1      3  93.759018  AirTC_Avg+Sedge+VWC  0.220266\n",
      "35  3_1      3  64.725719  AirTC_Avg+Sedge+VWC  0.493804\n",
      "    Key  Level        MSE            Model        R2\n",
      "36  3_2      3  75.664839  Sedge+VWC+Grass  0.527733\n",
      "37  3_2      3  82.884199  Sedge+VWC+Grass  0.310705\n",
      "38  3_2      3  77.993088  Sedge+VWC+Grass  0.390044\n",
      "['Sedge+VWC+Grass']\n",
      "Level:  4\n",
      "    Key  Level        MSE                     Model        R2\n",
      "39  4_0      4  72.944622  PPFD_Avg+Sedge+VWC+Grass  0.544711\n",
      "40  4_0      4  89.478875  PPFD_Avg+Sedge+VWC+Grass  0.255861\n",
      "41  4_0      4  86.217876  PPFD_Avg+Sedge+VWC+Grass  0.325721\n",
      "    Key  Level        MSE                      Model        R2\n",
      "42  4_1      4  65.518267  AirTC_Avg+Sedge+VWC+Grass  0.591063\n",
      "43  4_1      4  90.542415  AirTC_Avg+Sedge+VWC+Grass  0.247016\n",
      "44  4_1      4  80.939512  AirTC_Avg+Sedge+VWC+Grass  0.367001\n",
      "['AirTC_Avg+Sedge+VWC+Grass']\n"
     ]
    }
   ],
   "source": [
    "for i in range(1,len(FullModel)):\n",
    "    print('Level: ',i)\n",
    "    if i == 1:\n",
    "        Models = Combos(FullModel,i)\n",
    "    else:\n",
    "        Models = Combos(FullModel,i,factor = Best)\n",
    "    Values = []\n",
    "    Names = []\n",
    "    for i,model in enumerate(Models):\n",
    "        level = len(model)\n",
    "        key = str(level)+'_'+str(i)\n",
    "        Name = '+'.join(model)\n",
    "        NewRow = Scores.iloc[-1].copy()\n",
    "        NewRow['Model'] = 'Model: '+Name\n",
    "        Results = RunReps(model,params,pool)\n",
    "        MSE = Results[0]\n",
    "        R2 = Results[1]\n",
    "        d = {'Model':'+'.join(model),'MSE':MSE,'Key':key,'R2':R2,'Level':level}#,'Best':'N'\n",
    "        score = pd.DataFrame(index=[x for x in range(params['K'])],data=d)\n",
    "        Scores = Scores.append(score,ignore_index=True)\n",
    "        print(Scores.loc[Scores['Key']==key])\n",
    "        ModelRuns['Model: '+'+'.join(model)] = Results[2]    \n",
    "    Group = Scores.groupby('Key').agg({'Model': 'first', \n",
    "                                            'Level': 'first', \n",
    "                                            'MSE': 'mean', \n",
    "                                            'R2': 'mean'})#.reset_index()#mean()  \n",
    "    Group['SD'] = Scores[['Key','MSE']].groupby('Key').std()\n",
    "    Group['SE'] = Scores[['Key','MSE']].groupby('Key').sem()\n",
    "    Min = Group.loc[Group['Level']==level]\n",
    "    Best = Min.loc[Min['MSE'] == Min['MSE'].min(),'Model'].values\n",
    "    print(Best)\n",
    "    "
   ]
  },
  {
   "cell_type": "code",
   "execution_count": 72,
   "metadata": {
    "scrolled": false
   },
   "outputs": [
    {
     "name": "stdout",
     "output_type": "stream",
     "text": [
      "                                  Model  Level         MSE        R2  \\\n",
      "Key                                                                    \n",
      "1_2                               Sedge      1  119.511924  0.116188   \n",
      "2_2                           Sedge+VWC      2   80.025652  0.397994   \n",
      "3_2                     Sedge+VWC+Grass      3   78.847375  0.409494   \n",
      "4_1           AirTC_Avg+Sedge+VWC+Grass      4   79.000065  0.401694   \n",
      "5_0  PPFD_Avg+AirTC_Avg+Sedge+VWC+Grass      5   76.976560  0.417451   \n",
      "\n",
      "            SD        SE  \n",
      "Key                       \n",
      "1_2  10.744004  6.203054  \n",
      "2_2   7.626204  4.402991  \n",
      "3_2   3.684718  2.127373  \n",
      "4_1  12.624305  7.288646  \n",
      "5_0  13.058728  7.539460  \n",
      "       Model  Level        MSE        R2        SD        SE\n",
      "1  Sedge+VWC      2  80.025652  0.397994  7.626204  4.402991\n"
     ]
    },
    {
     "name": "stderr",
     "output_type": "stream",
     "text": [
      "C:\\Anaconda3\\lib\\site-packages\\ipykernel_launcher.py:12: SettingWithCopyWarning: \n",
      "A value is trying to be set on a copy of a slice from a DataFrame\n",
      "\n",
      "See the caveats in the documentation: http://pandas.pydata.org/pandas-docs/stable/indexing.html#indexing-view-versus-copy\n",
      "  if sys.path[0] == '':\n"
     ]
    },
    {
     "name": "stdout",
     "output_type": "stream",
     "text": [
      "   N        MSE        R2\n",
      "0  4  86.452627  0.460400\n",
      "1  4  88.613536  0.263058\n",
      "2  4  88.217729  0.310081\n",
      "    N        MSE        R2\n",
      "3  16  49.777405  0.689311\n",
      "4  16  69.111084  0.425247\n",
      "5  16  66.245086  0.481921\n",
      "    N        MSE        R2\n",
      "6  36  50.270100  0.686236\n",
      "7  36  63.116347  0.475101\n",
      "8  36  63.003052  0.507276\n",
      "          MSE        R2         SD        SE\n",
      "N                                           \n",
      "4   87.759503  0.344532   1.142137  0.659413\n",
      "16  61.994717  0.529801  10.743736  6.202899\n",
      "36  58.662632  0.557045   7.613380  4.395587\n",
      "5\n"
     ]
    },
    {
     "name": "stderr",
     "output_type": "stream",
     "text": [
      "C:\\Anaconda3\\lib\\site-packages\\ipykernel_launcher.py:22: RuntimeWarning: invalid value encountered in power\n"
     ]
    },
    {
     "data": {
      "image/png": "[encoded data removed]",
      "text/plain": [
       "<matplotlib.figure.Figure at 0x1230b9222b0>"
      ]
     },
     "metadata": {},
     "output_type": "display_data"
    },
    {
     "name": "stdout",
     "output_type": "stream",
     "text": [
      "5\n"
     ]
    }
   ],
   "source": [
    "Group = Scores.groupby('Key').agg({'Model': 'first', \n",
    "                                        'Level': 'first', \n",
    "                                        'MSE': 'mean', \n",
    "                                        'R2': 'mean'})#.reset_index()#mean()  \n",
    "Group['SD'] = Scores[['Key','MSE']].groupby('Key').std()\n",
    "Group['SE'] = Scores[['Key','MSE']].groupby('Key').sem()\n",
    "Min = Group.loc[Group['Level']==level]\n",
    "\n",
    "Levels = Group.groupby('Level').min()\n",
    "Sub=Group[Group['MSE'].isin(Levels['MSE'].values)]\n",
    "print(Sub)\n",
    "Sub.sort_values('Level',inplace=True)\n",
    "Sub = Sub.loc[Sub['Level']>=1]\n",
    "Sub.reset_index(inplace=True,drop=True)\n",
    "Min = Sub.loc[Sub['MSE']==Sub['MSE'].min()]\n",
    "Parsimony = (Sub.loc[Sub['MSE']<(Min['MSE'].values+Min['SE'].values)[0]])\n",
    "Parsimony = Parsimony.loc[Parsimony['Level']==Parsimony['Level'].min()]\n",
    "print(Parsimony)\n",
    "Best = Parsimony['Model'].values\n",
    "\n",
    "def Curve(x,a,b,c):\n",
    "    return (a/(b+x)**c)\n",
    "\n",
    "N = Runs['N']\n",
    "NRuns = Runs*0\n",
    "NRuns['N']=N\n",
    "\n",
    "model = Best[0].split('+')\n",
    "NRuns = RunLoop(NRuns)\n",
    "Group = Runs.groupby('N').mean()\n",
    "Group['SD'] = Runs[['N','MSE']].groupby('N').std()\n",
    "Group['SE'] = Runs[['N','MSE']].groupby('N').sem()\n",
    "\n",
    "print(Group)\n",
    "Min = Group.loc[Group['MSE']==Group['MSE'].min()]\n",
    "\n",
    "fig,ax = plt.subplots(figsize=(8,8))\n",
    "ax.scatter(Runs['N'],Runs['MSE'])\n",
    "popt, pcov = curve_fit(Curve, NRuns['N'].values, NRuns['MSE'].values)\n",
    "\n",
    "N = np.arange(NRuns['N'].min(),NRuns['N'].max())\n",
    "Fit = Curve(N,*popt)\n",
    "ax.plot(N,Fit,color='r')\n",
    "Max = (Min['MSE']+Min['SE']).values[0]\n",
    "ax.plot(N,N*0+Max,color = 'black')\n",
    "try:\n",
    "    params['N']=N[Fit<Max].min()\n",
    "except:\n",
    "    params['N']=N[-1]\n",
    "    pass\n",
    "print(params['N'])\n",
    "plt.grid()\n",
    "plt.show()\n",
    "print(params['N'])"
   ]
  },
  {
   "cell_type": "code",
   "execution_count": 73,
   "metadata": {},
   "outputs": [
    {
     "name": "stdout",
     "output_type": "stream",
     "text": [
      "['Sedge+VWC']\n",
      "5\n",
      "    Key  Level         MSE                               Model        R2\n",
      "0   5_0      5   62.385873  PPFD_Avg+AirTC_Avg+Sedge+VWC+Grass  0.610615\n",
      "1   5_0      5   80.975802  PPFD_Avg+AirTC_Avg+Sedge+VWC+Grass  0.326576\n",
      "2   5_0      5   87.568005  PPFD_Avg+AirTC_Avg+Sedge+VWC+Grass  0.315162\n",
      "3   1_0      1  157.489279                            PPFD_Avg  0.017020\n",
      "4   1_0      1  119.120478                            PPFD_Avg  0.009351\n",
      "5   1_0      1  128.713889                            PPFD_Avg -0.006625\n",
      "6   1_1      1  145.113162                           AirTC_Avg  0.094267\n",
      "7   1_1      1  115.609881                           AirTC_Avg  0.038546\n",
      "8   1_1      1  127.429910                           AirTC_Avg  0.003417\n",
      "9   1_2      1  131.093964                               Sedge  0.181769\n",
      "10  1_2      1  109.870464                               Sedge  0.086277\n",
      "11  1_2      1  117.571343                               Sedge  0.080517\n",
      "12  1_3      1  136.925664                                 VWC  0.145370\n",
      "13  1_3      1  118.036469                                 VWC  0.018366\n",
      "14  1_3      1  117.898206                                 VWC  0.077961\n",
      "15  1_4      1  159.774494                               Grass  0.002757\n",
      "16  1_4      1  114.683963                               Grass  0.046246\n",
      "17  1_4      1  119.498176                               Grass  0.065448\n",
      "18  2_0      2  115.786763                      PPFD_Avg+Sedge  0.277309\n",
      "19  2_0      2  112.939517                      PPFD_Avg+Sedge  0.060754\n",
      "20  2_0      2  107.548140                      PPFD_Avg+Sedge  0.158905\n",
      "21  2_1      2  131.389616                     AirTC_Avg+Sedge  0.179923\n",
      "22  2_1      2  116.672049                     AirTC_Avg+Sedge  0.029713\n",
      "23  2_1      2  108.662745                     AirTC_Avg+Sedge  0.150188\n",
      "24  2_2      2   72.964113                           Sedge+VWC  0.544590\n",
      "25  2_2      2   88.112734                           Sedge+VWC  0.267222\n",
      "26  2_2      2   79.000107                           Sedge+VWC  0.382169\n",
      "27  2_3      2  126.684935                         Sedge+Grass  0.209288\n",
      "28  2_3      2  102.903944                         Sedge+Grass  0.144213\n",
      "29  2_3      2  119.027817                         Sedge+Grass  0.069126\n",
      "30  3_0      3   82.407669                  PPFD_Avg+Sedge+VWC  0.485647\n",
      "31  3_0      3   95.673505                  PPFD_Avg+Sedge+VWC  0.204344\n",
      "32  3_0      3   78.493181                  PPFD_Avg+Sedge+VWC  0.386133\n",
      "33  3_1      3   97.475113                 AirTC_Avg+Sedge+VWC  0.391603\n",
      "34  3_1      3   93.759018                 AirTC_Avg+Sedge+VWC  0.220266\n",
      "35  3_1      3   64.725719                 AirTC_Avg+Sedge+VWC  0.493804\n",
      "36  3_2      3   75.664839                     Sedge+VWC+Grass  0.527733\n",
      "37  3_2      3   82.884199                     Sedge+VWC+Grass  0.310705\n",
      "38  3_2      3   77.993088                     Sedge+VWC+Grass  0.390044\n",
      "39  4_0      4   72.944622            PPFD_Avg+Sedge+VWC+Grass  0.544711\n",
      "40  4_0      4   89.478875            PPFD_Avg+Sedge+VWC+Grass  0.255861\n",
      "41  4_0      4   86.217876            PPFD_Avg+Sedge+VWC+Grass  0.325721\n",
      "42  4_1      4   65.518267           AirTC_Avg+Sedge+VWC+Grass  0.591063\n",
      "43  4_1      4   90.542415           AirTC_Avg+Sedge+VWC+Grass  0.247016\n",
      "44  4_1      4   80.939512           AirTC_Avg+Sedge+VWC+Grass  0.367001\n",
      "45  0_5      0   72.964429                           Sedge+VWC  0.544588\n",
      "46  0_5      0   88.105443                           Sedge+VWC  0.267283\n",
      "47  0_5      0   79.003475                           Sedge+VWC  0.382142\n",
      "48  0_5      0   72.964429                           Sedge+VWC  0.544588\n",
      "49  0_5      0   88.105443                           Sedge+VWC  0.267283\n",
      "50  0_5      0   79.003475                           Sedge+VWC  0.382142\n"
     ]
    },
    {
     "name": "stderr",
     "output_type": "stream",
     "text": [
      "C:\\Anaconda3\\lib\\site-packages\\pandas\\core\\frame.py:6211: FutureWarning: Sorting because non-concatenation axis is not aligned. A future version\n",
      "of pandas will change to not sort by default.\n",
      "\n",
      "To accept the future behavior, pass 'sort=False'.\n",
      "\n",
      "To retain the current behavior and silence the warning, pass 'sort=True'.\n",
      "\n",
      "  sort=sort)\n"
     ]
    }
   ],
   "source": [
    "level = 0#len(Best)\n",
    "print(Best)\n",
    "key = '0_'+str(params['N'])\n",
    "Name = '+'.join(Best)\n",
    "NewRow = Scores.iloc[-1].copy()\n",
    "NewRow['Model'] = 'BestModel: '+Name\n",
    "Results = RunReps(model,params,pool)\n",
    "MSE = Results[0]\n",
    "# for mse in MSE:\n",
    "#     Names.append(Name)\n",
    "#     Values.append(mse)\n",
    "# mean,std = MSE.mean(),MSE.std()\n",
    "# CI = std/params['K']**.5*stats.t.ppf(1-0.05, params['K']-1)\n",
    "R2 = Results[1]\n",
    "d = {'Model':'+'.join(model),'MSE':MSE,'Key':key,'R2':R2,'Level':level}#,'Best':'N'\n",
    "score = pd.DataFrame(index=[x for x in range(params['K'])],data=d)\n",
    "Scores = Scores.append(score,ignore_index=True)\n",
    "Scores = Scores.append(score,ignore_index=True)\n",
    "ModelRuns['BestModel: '+'+'.join(model)] = Results[2] \n",
    "print(params['N'])\n",
    "print(Scores)"
   ]
  },
  {
   "cell_type": "code",
   "execution_count": 74,
   "metadata": {},
   "outputs": [
    {
     "name": "stdout",
     "output_type": "stream",
     "text": [
      "665.9448220729828\n"
     ]
    }
   ],
   "source": [
    "Scores.to_csv('GapFillingSummary'+FillVar+'.csv')\n",
    "ModelRuns.to_csv('GapFilled'+FillVar+'.csv')\n",
    "\n",
    "if __name__=='__main__'and params['proc'] != 1:\n",
    "    pool.close()\n",
    "\n",
    "print(time.time()-Time)"
   ]
  }
 ],
 "metadata": {
  "kernelspec": {
   "display_name": "Python 3",
   "language": "python",
   "name": "python3"
  },
  "language_info": {
   "codemirror_mode": {
    "name": "ipython",
    "version": 3
   },
   "file_extension": ".py",
   "mimetype": "text/x-python",
   "name": "python",
   "nbconvert_exporter": "python",
   "pygments_lexer": "ipython3",
   "version": "3.6.2"
  }
 },
 "nbformat": 4,
 "nbformat_minor": 2
}
