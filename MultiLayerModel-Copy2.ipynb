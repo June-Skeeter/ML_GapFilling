{
 "cells": [
  {
   "cell_type": "code",
   "execution_count": 1,
   "metadata": {
    "collapsed": true
   },
   "outputs": [],
   "source": [
    "import time\n",
    "import math\n",
    "import numpy as np\n",
    "import pandas as pd\n",
    "import matplotlib.pyplot as plt\n",
    "from itertools import combinations\n",
    "from functools import partial\n",
    "from multiprocessing import Pool\n",
    "from sklearn.preprocessing import StandardScaler\n",
    "from sklearn import metrics\n",
    "from sklearn.model_selection import RepeatedKFold\n",
    "import warnings\n",
    "warnings.filterwarnings('ignore')\n",
    "from sklearn.model_selection import train_test_split\n",
    "\n",
    "## Personal Modules\n",
    "import ReadStandardTimeFill as RSTF\n",
    "# import LSTM_Train as LSTM\n",
    "import importlib\n",
    "import LSTM\n",
    "importlib.reload(LSTM)\n",
    "\n",
    "%matplotlib inline\n",
    "%config IPCompleter.greedy=True\n",
    "\n",
    "from scipy.optimize import minimize\n",
    "from scipy.stats import norm\n",
    "from sklearn.gaussian_process import GaussianProcessRegressor\n",
    "from sklearn.gaussian_process.kernels import Matern, WhiteKernel, ConstantKernel\n",
    "from matplotlib import cm\n",
    "\n",
    "\n",
    "def upper_confidence_bound(mu_x, sigma_x, opt_value, kappa=-1.0):\n",
    "    return mu_x + kappa * sigma_x\n",
    "\n",
    "\n",
    "# kernel = Matern()#length_scale = [1,1],length_scale_bounds=\"fixed\")\n",
    "# kernel = ConstantKernel(1e0, (1e-2, 1e2))*Matern(1e1, (1e-4, 1e4),nu = 2.5)\\\n",
    "# + WhiteKernel(noise_level=1e0, noise_level_bounds=(1e-2, 1e2))\n",
    "acq = upper_confidence_bound\n",
    "def query(xi, yi, gp):\n",
    "    best_value = np.inf\n",
    "\n",
    "    for N in np.linspace(1,params['N_Max']):\n",
    "        for T in np.linspace(0,params['T_Max']):\n",
    "            def obj(x):\n",
    "                x=x.reshape(1,-1)\n",
    "                mu_x, sigma_x = gp.predict(x, return_std=True)\n",
    "#                 print(np.min(yi),np.max(yi))\n",
    "                return acq(mu_x, sigma_x, np.min(yi))\n",
    "            x0 = np.asanyarray([N,T]).reshape(1,2)\n",
    "            res = minimize(obj, x0, bounds=((1, params['N_Max']),(0,params['T_Max'])))\n",
    "\n",
    "            if res.fun < best_value:\n",
    "                best_value = res.fun\n",
    "                query_point = res.x\n",
    "    query_point = query_point\n",
    "    return query_point\n",
    "\n"
   ]
  },
  {
   "cell_type": "code",
   "execution_count": 2,
   "metadata": {},
   "outputs": [
    {
     "name": "stdout",
     "output_type": "stream",
     "text": [
      "     N   T  MSE  STD\n",
      "0   21  44  0.0  0.0\n",
      "1   46  19  0.0  0.0\n",
      "2   83   8  0.0  0.0\n",
      "3   67  36  0.0  0.0\n",
      "4    7   3  0.0  0.0\n",
      "5   51   2  0.0  0.0\n",
      "6   86  41  0.0  0.0\n",
      "7    8  43  0.0  0.0\n",
      "8   63  27  0.0  0.0\n",
      "9   36  12  0.0  0.0\n",
      "10  10  41  0.0  0.0\n",
      "11  16  11  0.0  0.0\n",
      "12  72  44  0.0  0.0\n",
      "13  67   8  0.0  0.0\n",
      "14  68  19  0.0  0.0\n",
      "{'epochs': 600, 'T_Max': 48, 'reps': 15, 'N_Min': 2, 'N_Max': 100, 'Y': 'fco2', 'proc': 3, 'Searches': 8}\n"
     ]
    },
    {
     "data": {
      "text/plain": [
       "<matplotlib.collections.PathCollection at 0x7f8638b147f0>"
      ]
     },
     "execution_count": 2,
     "metadata": {},
     "output_type": "execute_result"
    },
    {
     "data": {
      "image/png": "[encoded data removed]",
      "text/plain": [
       "<matplotlib.figure.Figure at 0x7f863ac0c9e8>"
      ]
     },
     "metadata": {},
     "output_type": "display_data"
    }
   ],
   "source": [
    "FillVar = 'fco2'\n",
    "Runs,params = LSTM.Params('Full',FillVar,MP=True)# rpms.Runs,rpms.params\n",
    "Runs['MSE'] = 0.0\n",
    "Runs['STD'] = 0.0\n",
    "print(Runs)\n",
    "print(params)\n",
    "plt.figure(figsize = (4,4))\n",
    "plt.scatter(Runs[\"N\"],Runs['T'],s=100,c=Runs['MSE'])"
   ]
  },
  {
   "cell_type": "code",
   "execution_count": 3,
   "metadata": {
    "scrolled": false
   },
   "outputs": [
    {
     "name": "stderr",
     "output_type": "stream",
     "text": [
      "Using TensorFlow backend.\n",
      "Using TensorFlow backend.\n",
      "Using TensorFlow backend.\n"
     ]
    },
    {
     "name": "stdout",
     "output_type": "stream",
     "text": [
      "Finisehed Run  0\n",
      "Finisehed Run  1\n",
      "Finisehed Run  2\n",
      "Finisehed Run  3\n",
      "Finisehed Run  4\n",
      "Finisehed Run  5\n",
      "Finisehed Run  6\n",
      "Finisehed Run  7\n",
      "Finisehed Run  8\n",
      "Finisehed Run  9\n",
      "Finisehed Run  10\n",
      "Finisehed Run  11\n",
      "Finisehed Run  12\n",
      "Finisehed Run  13\n"
     ]
    },
    {
     "name": "stderr",
     "output_type": "stream",
     "text": [
      "Using TensorFlow backend.\n"
     ]
    },
    {
     "name": "stdout",
     "output_type": "stream",
     "text": [
      "Finisehed Run  14\n",
      "     N   T       MSE       STD\n",
      "0   21  44  0.246444  0.025740\n",
      "1   46  19  0.218735  0.026176\n",
      "2   83   8  0.189948  0.027619\n",
      "3   67  36  0.274908  0.165045\n",
      "4    7   3  0.227548  0.042489\n",
      "5   51   2  0.168563  0.021118\n",
      "6   86  41  0.207843  0.033304\n",
      "7    8  43  0.419234  0.066185\n",
      "8   63  27  0.209764  0.018246\n",
      "9   36  12  0.204438  0.032085\n",
      "10  10  41  0.332389  0.052277\n",
      "11  16  11  0.224626  0.033401\n",
      "12  72  44  0.220748  0.030826\n",
      "13  67   8  0.196308  0.030813\n",
      "14  68  19  0.212643  0.021040\n"
     ]
    },
    {
     "data": {
      "text/plain": [
       "<matplotlib.collections.PathCollection at 0x7f8638ac50b8>"
      ]
     },
     "execution_count": 3,
     "metadata": {},
     "output_type": "execute_result"
    },
    {
     "data": {
      "image/png": "[encoded data removed]",
      "text/plain": [
       "<matplotlib.figure.Figure at 0x7f863ac0c940>"
      ]
     },
     "metadata": {},
     "output_type": "display_data"
    },
    {
     "name": "stderr",
     "output_type": "stream",
     "text": [
      "Using TensorFlow backend.\n"
     ]
    }
   ],
   "source": [
    "def TTV_Split(i,Memory,X,y,params,X_fill):\n",
    "    X_train,X_test,y_train,y_test=train_test_split(X,y, test_size=0.1, random_state=i)\n",
    "    X_train,X_val,y_train,y_val=train_test_split(X_train,y_train, test_size=0.11, random_state=i)\n",
    "    return(LSTM.Train_Steps(params['epochs'],params['N'],X_train,X_test,X_val,y_train,y_test,\n",
    "                            y_val,i,X_fill = X_fill,Memory=Memory))\n",
    "\n",
    "\n",
    "AllVars = ['H','LE','Fco2','fco2','fch4','Wind Spd','air pressure','Ta','Rn','PPFD','Rain','Water Table','Ts 2.5 cm',\n",
    "         'Ts 15 cm','VWC','Active Layer','24H Rain','Wtr Tbl Trnd','ET']\n",
    "\n",
    "FullModel = ['Wind Spd','air pressure','Ta','PPFD','Ts 2.5 cm','Ts 15 cm',\n",
    "         'VWC','Active Layer','Rain','Water Table']\n",
    "\n",
    "# FullModel = ['Wind Spd','air pressure','Water Table','PPFD','Ts 2.5 cm']\n",
    "\n",
    "Time = time.time()\n",
    "Path = 'FilteredData2018-04-04.csv'\n",
    "\n",
    "def RunReps(Model,params,pool = None,plot=False,FullReturn=False):\n",
    "    RST = RSTF.ReadStandardTimeFill(Path)\n",
    "    offset = 5/params['proc']\n",
    "    Memory = (math.floor(100/params['proc'])- offset) * .01\n",
    "    MSE = []\n",
    "    RST.Scale(params['Y'],Model)\n",
    "    RST.TimeShape(params['T'])\n",
    "    y = RST.y_time.copy()#*1.0\n",
    "    X = RST.X_time.copy()#*1.0\n",
    "    X_fill = RST.X_ftime.copy()\n",
    "    MSE = []\n",
    "    STD = []\n",
    "    Y_fill = []\n",
    "    if __name__=='__main__'and params['proc'] != 1:\n",
    "        for i,results in enumerate(pool.imap(partial(TTV_Split,Memory=Memory,X=X,y=y,params=params,X_fill=X_fill),\n",
    "                                             range(params['reps']))):\n",
    "            mse = results[0]\n",
    "            y_fill = results[1]\n",
    "            Y_fill.append(y_fill)\n",
    "            MSE.append(mse)\n",
    "    else:\n",
    "        for i in range(params['reps']):\n",
    "            results = TTV_Split(i,Memory,X,y,params,X_fill)\n",
    "            mse = results[0]\n",
    "            MSE.append(mse)\n",
    "            y_fill = results[1]\n",
    "            Y_fill.append(y_fill)\n",
    "    MSE = np.asanyarray(MSE)\n",
    "    Y_fill = np.asanyarray(Y_fill)\n",
    "    Y_fill = Y_fill.mean(axis=0)\n",
    "    FillVarName = 'Fch4'\n",
    "    RST.Fill(Y_fill,FillVarName)\n",
    "    if plot == True:\n",
    "        plt.figure(figsize=(5,5))\n",
    "        plt.plot(RST.Master['Fch4'],color='red')\n",
    "#         plt.plot(RST.Master['fch4'],color='grey')\n",
    "        plt.plot(RST.Master['TempFill'],color='blue',alpha=.5)  # This works\n",
    "        \n",
    "        yl = plt.ylim()\n",
    "#         plt.xlim(yl[0],yl[1])\n",
    "        plt.grid()\n",
    "    if FullReturn == False:\n",
    "        return(MSE,RST.Master['TempFill'])\n",
    "    else:\n",
    "        return(MSE,RST.Master)\n",
    "\n",
    "if __name__=='__main__'and params['proc'] != 1:\n",
    "    pool = Pool(processes=params['proc'],maxtasksperchild=75)\n",
    "else:pool=None\n",
    "    \n",
    "for i in Runs.index:\n",
    "    params['T']=Runs['T'].iloc[i]\n",
    "    params['N']=Runs['N'].iloc[i]\n",
    "    Results = RunReps(FullModel,params,pool)\n",
    "    MSE = Results[0]\n",
    "    Runs['MSE'][i]=MSE.mean()\n",
    "    Runs['STD'][i]=MSE.std()\n",
    "    print('Finisehed Run ',str(i))\n",
    "\n",
    "print(Runs)\n",
    "plt.scatter(Runs['N'],Runs['T'],c=Runs['MSE'],s=Runs['STD']*1e4)"
   ]
  },
  {
   "cell_type": "code",
   "execution_count": 4,
   "metadata": {
    "scrolled": false
   },
   "outputs": [
    {
     "name": "stdout",
     "output_type": "stream",
     "text": [
      "[ 53.32219933   2.97882246]\n",
      "53 3\n"
     ]
    },
    {
     "name": "stderr",
     "output_type": "stream",
     "text": [
      "Using TensorFlow backend.\n"
     ]
    },
    {
     "name": "stdout",
     "output_type": "stream",
     "text": [
      "[ 50.79784864   4.55064483]\n",
      "51 5\n",
      "[ 48.81339676   3.42246045]\n",
      "49 3\n",
      "[ 52.96561917   0.20045111]\n",
      "53 0\n",
      "[  4.92459542e+01   3.37663884e-02]\n",
      "49 0\n",
      "[ 53.69317294   5.78272558]\n",
      "54 6\n",
      "[ 48.29379991   5.84379251]\n",
      "48 6\n",
      "[ 50.64038116   7.78748817]\n",
      "51 8\n",
      "         MSE   N       STD   T\n",
      "0   0.227548   7  0.042489   3\n",
      "1   0.419234   8  0.066185  43\n",
      "2   0.332389  10  0.052277  41\n",
      "3   0.224626  16  0.033401  11\n",
      "4   0.246444  21  0.025740  44\n",
      "5   0.204438  36  0.032085  12\n",
      "6   0.218735  46  0.026176  19\n",
      "7   0.187777  48  0.022589   6\n",
      "8   0.197147  49  0.030762   0\n",
      "9   0.181846  49  0.028999   3\n",
      "10  0.168563  51  0.021118   2\n",
      "11  0.177480  51  0.025215   5\n",
      "12  0.197715  51  0.023789   8\n",
      "13  0.193231  53  0.029971   0\n",
      "14  0.179844  53  0.026265   3\n",
      "15  0.191235  54  0.023470   6\n",
      "16  0.209764  63  0.018246  27\n",
      "17  0.196308  67  0.030813   8\n",
      "18  0.274908  67  0.165045  36\n",
      "19  0.212643  68  0.021040  19\n",
      "20  0.220748  72  0.030826  44\n",
      "21  0.189948  83  0.027619   8\n",
      "22  0.207843  86  0.033304  41\n",
      "Optimum:\n",
      "         MSE   N       STD  T\n",
      "10  0.168563  51  0.021118  2\n"
     ]
    },
    {
     "data": {
      "text/plain": [
       "<matplotlib.collections.PathCollection at 0x7f8638a35128>"
      ]
     },
     "execution_count": 4,
     "metadata": {},
     "output_type": "execute_result"
    },
    {
     "data": {
      "image/png": "[encoded data removed]",
      "text/plain": [
       "<matplotlib.figure.Figure at 0x7f86385522e8>"
      ]
     },
     "metadata": {},
     "output_type": "display_data"
    }
   ],
   "source": [
    "\n",
    "for i in range(params['Searches']):\n",
    "    kernel = Matern(length_scale_bounds=\"fixed\") \n",
    "    gp = GaussianProcessRegressor(kernel=kernel, alpha=Runs['STD'].values, random_state=1,normalize_y=True)\n",
    "    gp.fit(Runs[['N','T']].values, Runs['MSE'].values)\n",
    "    \n",
    "    next_x = query(Runs[['N','T']].values, Runs['MSE'].values, gp)\n",
    "    print(next_x)\n",
    "    N = int(np.round(next_x[0],0))\n",
    "    T = int(np.round(next_x[1],0))\n",
    "    o = 0\n",
    "    while len(Runs.loc[(Runs['N']==N) & (Runs['T']==T)].index) != 0:\n",
    "        print('Adjust!')\n",
    "        o +=1\n",
    "        N += int(o*np.cos(o*np.pi))\n",
    "        if N < params['N_Min'] or N > params['N_Max']:\n",
    "            N -= int(o*np.cos(o*np.pi))\n",
    "        if o > 5:\n",
    "            T += 1\n",
    "    print(N,T)\n",
    "    d = {'N':N,'T':T,'MSE':0,'STD':0}\n",
    "    idx = Runs.index[-1] + 1\n",
    "    D2 = pd.DataFrame(data=d,index=[idx])\n",
    "    Runs = Runs.append(D2)\n",
    "    \n",
    "    params['T'] = T\n",
    "    params['N'] = N\n",
    "    \n",
    "    Results = RunReps(FullModel,params,pool)\n",
    "    MSE = Results[0]\n",
    "    \n",
    "    Runs['MSE'][idx]=MSE.mean()\n",
    "    Runs['STD'][idx]=MSE.std()\n",
    "    \n",
    "    Runs = Runs.sort_values(by = ['N','T']).reset_index(drop=True)\n",
    "    \n",
    "print(Runs)\n",
    "Optimum = Runs[Runs['MSE'] == Runs['MSE'].min()]\n",
    "print('Optimum:')\n",
    "print(Optimum)\n",
    "plt.scatter(Runs['N'],Runs['T'],c=Runs['MSE'],s=Runs['STD']*1e4)"
   ]
  },
  {
   "cell_type": "code",
   "execution_count": 5,
   "metadata": {
    "scrolled": false
   },
   "outputs": [
    {
     "name": "stdout",
     "output_type": "stream",
     "text": [
      "['Wind Spd', 'air pressure', 'Ta', 'PPFD', 'Ts 2.5 cm', 'Ts 15 cm', 'VWC', 'Active Layer', 'Rain', 'Water Table']\n",
      "Level:  1\n",
      "\n",
      "['Wind Spd']\n",
      "\n",
      "['air pressure']\n",
      "\n",
      "['Ta']\n",
      "\n",
      "['PPFD']\n",
      "\n",
      "['Ts 2.5 cm']\n",
      "\n",
      "['Ts 15 cm']\n"
     ]
    },
    {
     "name": "stderr",
     "output_type": "stream",
     "text": [
      "Using TensorFlow backend.\n"
     ]
    },
    {
     "name": "stdout",
     "output_type": "stream",
     "text": [
      "\n",
      "['VWC']\n"
     ]
    },
    {
     "name": "stderr",
     "output_type": "stream",
     "text": [
      "Using TensorFlow backend.\n",
      "Using TensorFlow backend.\n"
     ]
    },
    {
     "name": "stdout",
     "output_type": "stream",
     "text": [
      "\n",
      "['Active Layer']\n",
      "\n",
      "['Rain']\n",
      "\n",
      "['Water Table']\n",
      "Best:\n",
      "['PPFD'] 0.276000417727\n",
      "Level:  2\n",
      "\n",
      "['Wind Spd', 'PPFD']\n",
      "\n",
      "['air pressure', 'PPFD']\n",
      "\n",
      "['Ta', 'PPFD']\n",
      "\n",
      "['PPFD', 'Ts 2.5 cm']\n",
      "\n",
      "['PPFD', 'Ts 15 cm']\n",
      "\n",
      "['PPFD', 'VWC']\n",
      "\n",
      "['PPFD', 'Active Layer']\n",
      "\n",
      "['PPFD', 'Rain']\n",
      "\n",
      "['PPFD', 'Water Table']\n",
      "Best:\n",
      "['PPFD', 'Active Layer'] 0.242535054301\n",
      "Level:  3\n",
      "\n",
      "['Wind Spd', 'PPFD', 'Active Layer']\n",
      "\n",
      "['air pressure', 'PPFD', 'Active Layer']\n"
     ]
    },
    {
     "name": "stderr",
     "output_type": "stream",
     "text": [
      "Using TensorFlow backend.\n",
      "Using TensorFlow backend.\n"
     ]
    },
    {
     "name": "stdout",
     "output_type": "stream",
     "text": [
      "\n",
      "['Ta', 'PPFD', 'Active Layer']\n"
     ]
    },
    {
     "name": "stderr",
     "output_type": "stream",
     "text": [
      "Using TensorFlow backend.\n"
     ]
    },
    {
     "name": "stdout",
     "output_type": "stream",
     "text": [
      "\n",
      "['PPFD', 'Ts 2.5 cm', 'Active Layer']\n",
      "\n",
      "['PPFD', 'Ts 15 cm', 'Active Layer']\n",
      "\n",
      "['PPFD', 'VWC', 'Active Layer']\n",
      "\n",
      "['PPFD', 'Active Layer', 'Rain']\n",
      "\n",
      "['PPFD', 'Active Layer', 'Water Table']\n",
      "Best:\n",
      "['Ta', 'PPFD', 'Active Layer'] 0.216501436016\n",
      "Level:  4\n",
      "\n",
      "['Wind Spd', 'Ta', 'PPFD', 'Active Layer']\n",
      "\n",
      "['air pressure', 'Ta', 'PPFD', 'Active Layer']\n",
      "\n",
      "['Ta', 'PPFD', 'Ts 2.5 cm', 'Active Layer']\n",
      "\n",
      "['Ta', 'PPFD', 'Ts 15 cm', 'Active Layer']\n",
      "\n",
      "['Ta', 'PPFD', 'VWC', 'Active Layer']\n",
      "\n",
      "['Ta', 'PPFD', 'Active Layer', 'Rain']\n",
      "\n",
      "['Ta', 'PPFD', 'Active Layer', 'Water Table']\n",
      "Best:\n",
      "['Wind Spd', 'Ta', 'PPFD', 'Active Layer'] 0.185037263711\n",
      "Level:  5\n",
      "\n",
      "['Wind Spd', 'air pressure', 'Ta', 'PPFD', 'Active Layer']\n",
      "\n",
      "['Wind Spd', 'Ta', 'PPFD', 'Ts 2.5 cm', 'Active Layer']\n"
     ]
    },
    {
     "name": "stderr",
     "output_type": "stream",
     "text": [
      "Using TensorFlow backend.\n",
      "Using TensorFlow backend.\n"
     ]
    },
    {
     "name": "stdout",
     "output_type": "stream",
     "text": [
      "\n",
      "['Wind Spd', 'Ta', 'PPFD', 'Ts 15 cm', 'Active Layer']\n",
      "\n",
      "['Wind Spd', 'Ta', 'PPFD', 'VWC', 'Active Layer']\n"
     ]
    },
    {
     "name": "stderr",
     "output_type": "stream",
     "text": [
      "Using TensorFlow backend.\n"
     ]
    },
    {
     "name": "stdout",
     "output_type": "stream",
     "text": [
      "\n",
      "['Wind Spd', 'Ta', 'PPFD', 'Active Layer', 'Rain']\n",
      "\n",
      "['Wind Spd', 'Ta', 'PPFD', 'Active Layer', 'Water Table']\n",
      "Best:\n",
      "['Wind Spd', 'Ta', 'PPFD', 'VWC', 'Active Layer'] 0.17088433915\n",
      "Level:  6\n",
      "\n",
      "['Wind Spd', 'air pressure', 'Ta', 'PPFD', 'VWC', 'Active Layer']\n",
      "\n",
      "['Wind Spd', 'Ta', 'PPFD', 'Ts 2.5 cm', 'VWC', 'Active Layer']\n",
      "\n",
      "['Wind Spd', 'Ta', 'PPFD', 'Ts 15 cm', 'VWC', 'Active Layer']\n",
      "\n",
      "['Wind Spd', 'Ta', 'PPFD', 'VWC', 'Active Layer', 'Rain']\n",
      "\n",
      "['Wind Spd', 'Ta', 'PPFD', 'VWC', 'Active Layer', 'Water Table']\n",
      "Best:\n",
      "['Wind Spd', 'Ta', 'PPFD', 'Ts 15 cm', 'VWC', 'Active Layer'] 0.170510319801\n",
      "Level:  7\n",
      "\n",
      "['Wind Spd', 'air pressure', 'Ta', 'PPFD', 'Ts 15 cm', 'VWC', 'Active Layer']\n",
      "\n",
      "['Wind Spd', 'Ta', 'PPFD', 'Ts 2.5 cm', 'Ts 15 cm', 'VWC', 'Active Layer']\n",
      "\n",
      "['Wind Spd', 'Ta', 'PPFD', 'Ts 15 cm', 'VWC', 'Active Layer', 'Rain']\n",
      "\n",
      "['Wind Spd', 'Ta', 'PPFD', 'Ts 15 cm', 'VWC', 'Active Layer', 'Water Table']\n",
      "Best:\n",
      "['Wind Spd', 'air pressure', 'Ta', 'PPFD', 'Ts 15 cm', 'VWC', 'Active Layer'] 0.168497225066\n",
      "Level:  8\n",
      "\n",
      "['Wind Spd', 'air pressure', 'Ta', 'PPFD', 'Ts 2.5 cm', 'Ts 15 cm', 'VWC', 'Active Layer']\n",
      "\n",
      "['Wind Spd', 'air pressure', 'Ta', 'PPFD', 'Ts 15 cm', 'VWC', 'Active Layer', 'Rain']\n"
     ]
    },
    {
     "name": "stderr",
     "output_type": "stream",
     "text": [
      "Using TensorFlow backend.\n",
      "Using TensorFlow backend.\n"
     ]
    },
    {
     "name": "stdout",
     "output_type": "stream",
     "text": [
      "\n",
      "['Wind Spd', 'air pressure', 'Ta', 'PPFD', 'Ts 15 cm', 'VWC', 'Active Layer', 'Water Table']\n",
      "Best:\n",
      "['Wind Spd', 'air pressure', 'Ta', 'PPFD', 'Ts 15 cm', 'VWC', 'Active Layer', 'Rain'] 0.168925771913\n",
      "Level:  9\n",
      "\n",
      "['Wind Spd', 'air pressure', 'Ta', 'PPFD', 'Ts 2.5 cm', 'Ts 15 cm', 'VWC', 'Active Layer', 'Rain']\n",
      "\n",
      "['Wind Spd', 'air pressure', 'Ta', 'PPFD', 'Ts 15 cm', 'VWC', 'Active Layer', 'Rain', 'Water Table']\n"
     ]
    },
    {
     "name": "stderr",
     "output_type": "stream",
     "text": [
      "Using TensorFlow backend.\n"
     ]
    },
    {
     "name": "stdout",
     "output_type": "stream",
     "text": [
      "Best:\n",
      "['Wind Spd', 'air pressure', 'Ta', 'PPFD', 'Ts 2.5 cm', 'Ts 15 cm', 'VWC', 'Active Layer', 'Rain'] 0.168636106452\n",
      "Level:  10\n",
      "\n",
      "['Wind Spd', 'air pressure', 'Ta', 'PPFD', 'Ts 2.5 cm', 'Ts 15 cm', 'VWC', 'Active Layer', 'Rain', 'Water Table']\n",
      "Best:\n",
      "['Wind Spd', 'air pressure', 'Ta', 'PPFD', 'Ts 2.5 cm', 'Ts 15 cm', 'VWC', 'Active Layer', 'Rain', 'Water Table'] 0.168537517755\n",
      "          CI       MSE                                             Models\n",
      "1   0.017046  0.276000                                        Model: PPFD\n",
      "2   0.014756  0.242535                           Model: PPFD+Active Layer\n",
      "3   0.014839  0.216501                        Model: Ta+PPFD+Active Layer\n",
      "4   0.012389  0.185037               Model: Wind Spd+Ta+PPFD+Active Layer\n",
      "5   0.009753  0.170884           Model: Wind Spd+Ta+PPFD+VWC+Active Layer\n",
      "6   0.009689  0.170510  Model: Wind Spd+Ta+PPFD+Ts 15 cm+VWC+Active Layer\n",
      "7   0.009607  0.168497  Model: Wind Spd+air pressure+Ta+PPFD+Ts 15 cm+...\n",
      "8   0.010772  0.168926  Model: Wind Spd+air pressure+Ta+PPFD+Ts 15 cm+...\n",
      "9   0.010681  0.168636  Model: Wind Spd+air pressure+Ta+PPFD+Ts 2.5 cm...\n",
      "10  0.010701  0.168538  Model: Wind Spd+air pressure+Ta+PPFD+Ts 2.5 cm...\n"
     ]
    },
    {
     "data": {
      "image/png": "[encoded data removed]",
      "text/plain": [
       "<matplotlib.figure.Figure at 0x7f8638a7eda0>"
      ]
     },
     "metadata": {},
     "output_type": "display_data"
    }
   ],
   "source": [
    "def Combos(Model,L,factor=None):\n",
    "    Models=list()\n",
    "    for c in combinations(Model,L):\n",
    "        c = list(c)\n",
    "        if factor == None:\n",
    "            Models.append(c)\n",
    "        else:\n",
    "            if set(factor).issubset(set(c)):\n",
    "#             if factor in c:\n",
    "                Models.append(c)\n",
    "    return(Models)\n",
    "params['T']=Optimum['T'].values[0]\n",
    "params['N']=Optimum['N'].values[0]\n",
    "\n",
    "\n",
    "Results = RunReps(FullModel,params,pool,FullReturn=True)\n",
    "FullScore = Results[0]\n",
    "Data = Results[1]\n",
    "\n",
    "\n",
    "BestMSE = []\n",
    "BestSTD = []\n",
    "idx = []\n",
    "BestModels = []\n",
    "\n",
    "print(FullModel)\n",
    "\n",
    "for i in range(1,len(FullModel)+1):\n",
    "    print('Level: ',i)\n",
    "    if i == 1:\n",
    "        Models = Combos(FullModel,i)\n",
    "    else:\n",
    "        Models = Combos(FullModel,i,factor = Best)\n",
    "#     for model in Models:\n",
    "    Score = []\n",
    "    STD = []\n",
    "    Model_Names = []\n",
    "    \n",
    "    for model in Models:\n",
    "        print()\n",
    "        print(model)\n",
    "        Results = RunReps(model,params,pool)\n",
    "        MSE = Results[0]\n",
    "        Score.append(MSE.mean())\n",
    "        STD.append(MSE.std())\n",
    "        Data['Model: '+'+'.join(model)] = Results[1]\n",
    "        Model_Names.append('Model: '+'+'.join(model))\n",
    "        \n",
    "    Score = np.asanyarray(Score)\n",
    "    STD = np.asanyarray(STD)\n",
    "#     print(Model_Names)\n",
    "#     print(np.where(Score == Score.min())[0][0])\n",
    "    Best = Models[np.where(Score == Score.min())[0][0]]\n",
    "    Best_Name = Model_Names[np.where(Score == Score.min())[0][0]]\n",
    "    BestModels.append(Best_Name)\n",
    "    BestMSE.append(Score.min())\n",
    "    BestSTD.append(STD[np.where(Score == Score.min())[0][0]])\n",
    "    idx.append(i)\n",
    "    print('Best:')\n",
    "    print(Best,Score.min())\n",
    "BestModels = np.asanyarray(BestModels)\n",
    "BestMSE = np.asanyarray(BestMSE)\n",
    "BestSTD = np.asanyarray(BestSTD)\n",
    "idx = np.asanyarray(idx)\n",
    "BestSE = BestSTD/(params['reps']**.5)\n",
    "BestCI = BestSE*1.96\n",
    "plt.figure(figsize=(10,10))\n",
    "plt.bar(idx,BestMSE)\n",
    "plt.errorbar(idx,BestMSE,yerr=BestCI,color = 'black',fmt='o')\n",
    "\n",
    "d = {'Models':BestModels,'MSE':BestMSE,'CI':BestCI}\n",
    "Stats = pd.DataFrame(index=idx,data=d)\n",
    "Stats.to_csv('GapFillingSummary'+FillVar+'.csv')\n",
    "print(Stats)\n",
    "\n",
    "Data.to_csv('GapFilled'+FillVar+'.csv')"
   ]
  },
  {
   "cell_type": "code",
   "execution_count": 6,
   "metadata": {},
   "outputs": [
    {
     "name": "stdout",
     "output_type": "stream",
     "text": [
      "12400.822437763214\n"
     ]
    }
   ],
   "source": [
    "\n",
    "if __name__=='__main__'and params['proc'] != 1:\n",
    "    pool.close()\n",
    "\n",
    "print(time.time()-Time)\n",
    "        "
   ]
  },
  {
   "cell_type": "code",
   "execution_count": 7,
   "metadata": {
    "collapsed": true
   },
   "outputs": [],
   "source": [
    "\n",
    "# d = {'Models':BestModels,'MSE':BestMSE,'STD':BestSTD}\n",
    "# Stats = pd.DataFrame(index=idx,data=d)\n",
    "# Stats.to_csv('GapFillingSummary'+FillVar+'.csv')\n",
    "# print(Stats)"
   ]
  },
  {
   "cell_type": "code",
   "execution_count": 8,
   "metadata": {},
   "outputs": [
    {
     "name": "stdout",
     "output_type": "stream",
     "text": [
      "[ 0.16853752]\n"
     ]
    }
   ],
   "source": [
    "print(Score)"
   ]
  },
  {
   "cell_type": "code",
   "execution_count": 9,
   "metadata": {},
   "outputs": [
    {
     "data": {
      "text/plain": [
       "<matplotlib.collections.PathCollection at 0x7f863873a6d8>"
      ]
     },
     "execution_count": 9,
     "metadata": {},
     "output_type": "execute_result"
    },
    {
     "data": {
      "image/png": "[encoded data removed]",
      "text/plain": [
       "<matplotlib.figure.Figure at 0x7f8638ac3588>"
      ]
     },
     "metadata": {},
     "output_type": "display_data"
    }
   ],
   "source": [
    "\n",
    "d = {'Models':BestModels,'MSE':BestMSE,'CI':BestCI}\n",
    "Stats = pd.DataFrame(index=idx,data=d)\n",
    "Stats.to_csv('GapFillingSummary'+FillVar+'.csv')\n",
    "# gp = GaussianProcessRegressor(kernel=kernel, alpha=Runs['STD'].values, random_state=1,normalize_y=True)\n",
    "# \n",
    "\n",
    "# gp.fit(Runs[['N','T']].values, Runs['MSE'].values)\n",
    "\n",
    "# next_x = query(Runs[['N','T']].values, Runs['MSE'].values, gp)\n",
    "# print(next_x)\n",
    "plt.scatter(Runs['N'],Runs['T'],c=Runs['MSE'],s=Runs['STD']*1e4)"
   ]
  },
  {
   "cell_type": "code",
   "execution_count": null,
   "metadata": {
    "collapsed": true
   },
   "outputs": [],
   "source": []
  }
 ],
 "metadata": {
  "kernelspec": {
   "display_name": "Python 3",
   "language": "python",
   "name": "python3"
  },
  "language_info": {
   "codemirror_mode": {
    "name": "ipython",
    "version": 3
   },
   "file_extension": ".py",
   "mimetype": "text/x-python",
   "name": "python",
   "nbconvert_exporter": "python",
   "pygments_lexer": "ipython3",
   "version": "3.5.2"
  }
 },
 "nbformat": 4,
 "nbformat_minor": 2
}
