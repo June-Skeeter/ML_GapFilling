{
 "cells": [
  {
   "cell_type": "code",
   "execution_count": 1,
   "metadata": {
    "collapsed": true
   },
   "outputs": [],
   "source": [
    "import time\n",
    "import math\n",
    "import numpy as np\n",
    "import pandas as pd\n",
    "import matplotlib.pyplot as plt\n",
    "from itertools import combinations\n",
    "from functools import partial\n",
    "from multiprocessing import Pool\n",
    "from sklearn.preprocessing import StandardScaler\n",
    "from sklearn import metrics\n",
    "from sklearn.model_selection import RepeatedKFold\n",
    "import warnings\n",
    "warnings.filterwarnings('ignore')\n",
    "from sklearn.model_selection import train_test_split\n",
    "\n",
    "## Personal Modules\n",
    "import ReadStandardTimeFill as RSTF\n",
    "# import LSTM_Train as LSTM\n",
    "import importlib\n",
    "import LSTM\n",
    "importlib.reload(LSTM)\n",
    "\n",
    "%matplotlib inline\n",
    "%config IPCompleter.greedy=True\n",
    "\n",
    "from scipy.optimize import minimize\n",
    "from scipy.stats import norm\n",
    "from sklearn.gaussian_process import GaussianProcessRegressor\n",
    "from sklearn.gaussian_process.kernels import Matern, WhiteKernel, ConstantKernel\n",
    "from matplotlib import cm\n",
    "\n",
    "\n",
    "def upper_confidence_bound(mu_x, sigma_x, opt_value, kappa=-1.0):\n",
    "    return mu_x + kappa * sigma_x\n",
    "\n",
    "\n",
    "kernel = Matern(length_scale = [1,1],length_scale_bounds=\"fixed\")\n",
    "kernel = ConstantKernel(1e0, (1e-2, 1e2))*Matern(1e1, (1e-4, 1e4),nu = 2.5)\\\n",
    "+ WhiteKernel(noise_level=1e0, noise_level_bounds=(1e-2, 1e2))\n",
    "acq = upper_confidence_bound\n",
    "def query(xi, yi, gp):\n",
    "    best_value = np.inf\n",
    "\n",
    "    for N in np.linspace(1,params['N_Max']):\n",
    "        for T in np.linspace(0,params['T_Max']):\n",
    "            def obj(x):\n",
    "                x=x.reshape(1,-1)\n",
    "                mu_x, sigma_x = gp.predict(x, return_std=True)\n",
    "#                 print(np.min(yi),np.max(yi))\n",
    "                return acq(mu_x, sigma_x, np.min(yi))\n",
    "            x0 = np.asanyarray([N,T]).reshape(1,2)\n",
    "            res = minimize(obj, x0, bounds=((1, params['N_Max']),(0,params['T_Max'])))\n",
    "\n",
    "            if res.fun < best_value:\n",
    "                best_value = res.fun\n",
    "                query_point = res.x\n",
    "    query_point = query_point\n",
    "    return query_point\n",
    "\n"
   ]
  },
  {
   "cell_type": "code",
   "execution_count": 2,
   "metadata": {},
   "outputs": [
    {
     "name": "stdout",
     "output_type": "stream",
     "text": [
      "      N   T  MSE  STD\n",
      "0   174  37  0.0  0.0\n",
      "1   192   9  0.0  0.0\n",
      "2    19   5  0.0  0.0\n",
      "3   133  31  0.0  0.0\n",
      "4    90  32  0.0  0.0\n",
      "5     6  12  0.0  0.0\n",
      "6   133   4  0.0  0.0\n",
      "7    36   6  0.0  0.0\n",
      "8    72  29  0.0  0.0\n",
      "9    60  24  0.0  0.0\n",
      "10  113  27  0.0  0.0\n",
      "11   41   8  0.0  0.0\n",
      "12   10  45  0.0  0.0\n",
      "13   75  47  0.0  0.0\n",
      "14   73  31  0.0  0.0\n",
      "{'epochs': 600, 'reps': 10, 'proc': 3, 'Searches': 10, 'Y': 'fch4', 'N_Max': 200, 'T_Max': 48}\n"
     ]
    },
    {
     "data": {
      "text/plain": [
       "<matplotlib.collections.PathCollection at 0x7fa1220ff828>"
      ]
     },
     "execution_count": 2,
     "metadata": {},
     "output_type": "execute_result"
    },
    {
     "data": {
      "image/png": "[encoded data removed]",
      "text/plain": [
       "<matplotlib.figure.Figure at 0x7fa1241eec18>"
      ]
     },
     "metadata": {},
     "output_type": "display_data"
    }
   ],
   "source": [
    "FillVar = 'fch4'\n",
    "Runs,params = LSTM.Params('Full',FillVar,MP=True)# rpms.Runs,rpms.params\n",
    "Runs['MSE'] = 0.0\n",
    "Runs['STD'] = 0.0\n",
    "print(Runs)\n",
    "print(params)\n",
    "plt.figure(figsize = (4,4))\n",
    "plt.scatter(Runs[\"N\"],Runs['T'],s=100,c=Runs['MSE'])"
   ]
  },
  {
   "cell_type": "code",
   "execution_count": 3,
   "metadata": {
    "scrolled": false
   },
   "outputs": [
    {
     "name": "stderr",
     "output_type": "stream",
     "text": [
      "Using TensorFlow backend.\n",
      "Using TensorFlow backend.\n",
      "Using TensorFlow backend.\n"
     ]
    },
    {
     "name": "stdout",
     "output_type": "stream",
     "text": [
      "Finisehed Run  0\n",
      "Finisehed Run  1\n",
      "Finisehed Run  2\n",
      "Finisehed Run  3\n",
      "Finisehed Run  4\n",
      "Finisehed Run  5\n",
      "Finisehed Run  6\n",
      "Finisehed Run  7\n",
      "Finisehed Run  8\n",
      "Finisehed Run  9\n",
      "Finisehed Run  10\n",
      "Finisehed Run  11\n",
      "Finisehed Run  12\n",
      "Finisehed Run  13\n",
      "Finisehed Run  14\n",
      "      N   T       MSE       STD\n",
      "0   174  37  0.636823  0.116496\n",
      "1   192   9  0.596221  0.111915\n",
      "2    19   5  0.598236  0.079293\n",
      "3   133  31  0.624047  0.151811\n",
      "4    90  32  0.622004  0.093687\n",
      "5     6  12  0.620063  0.122565\n",
      "6   133   4  0.561074  0.173997\n",
      "7    36   6  0.555922  0.082009\n",
      "8    72  29  0.661282  0.109355\n",
      "9    60  24  0.618177  0.174274\n",
      "10  113  27  0.669813  0.108769\n",
      "11   41   8  0.559881  0.065969\n",
      "12   10  45  0.750827  0.179133\n",
      "13   75  47  0.622265  0.105955\n",
      "14   73  31  0.622065  0.154524\n"
     ]
    }
   ],
   "source": [
    "def TTV_Split(i,Memory,X,y,params,X_fill):\n",
    "    X_train,X_test,y_train,y_test=train_test_split(X,y, test_size=0.1, random_state=i)\n",
    "    X_train,X_val,y_train,y_val=train_test_split(X_train,y_train, test_size=0.11, random_state=i)\n",
    "    return(LSTM.Train_Steps(params['epochs'],params['N'],X_train,X_test,X_val,y_train,y_test,\n",
    "                            y_val,i,X_fill = X_fill,Memory=Memory))\n",
    "\n",
    "\n",
    "AllVars = ['H','LE','Fco2','fco2','fch4','Wind Spd','air pressure','Ta','Rn','PPFD','Rain','Water Table','Ts 2.5 cm',\n",
    "         'Ts 15 cm','VWC','Active Layer','24H Rain','Wtr Tbl Trnd','ET']\n",
    "\n",
    "FullModel = ['Wind Spd','air pressure','Ta','PPFD','Ts 2.5 cm','Ts 15 cm',\n",
    "         'VWC','Active Layer','Rain','Water Table']\n",
    "\n",
    "# FullModel = ['Wind Spd','air pressure','Ta','PPFD','Ts 2.5 cm']\n",
    "\n",
    "Time = time.time()\n",
    "Path = 'FilteredData2018-04-04.csv'\n",
    "\n",
    "def RunReps(Model,params,pool = None,plot=False,FullReturn=False):\n",
    "    RST = RSTF.ReadStandardTimeFill(Path)\n",
    "    offset = 5/params['proc']\n",
    "    Memory = (math.floor(100/params['proc'])- offset) * .01\n",
    "    MSE = []\n",
    "    RST.Scale(params['Y'],Model)\n",
    "    RST.TimeShape(params['T'])\n",
    "    y = RST.y_time.copy()#*1.0\n",
    "    X = RST.X_time.copy()#*1.0\n",
    "    X_fill = RST.X_ftime.copy()\n",
    "    MSE = []\n",
    "    STD = []\n",
    "    Y_fill = []\n",
    "    if __name__=='__main__'and params['proc'] != 1:\n",
    "        for i,results in enumerate(pool.imap(partial(TTV_Split,Memory=Memory,X=X,y=y,params=params,X_fill=X_fill),\n",
    "                                             range(params['reps']))):\n",
    "            mse = results[0]\n",
    "            y_fill = results[1]\n",
    "            Y_fill.append(y_fill)\n",
    "            MSE.append(mse)\n",
    "    else:\n",
    "        for i in range(params['reps']):\n",
    "            results = TTV_Split(i,Memory,X,y,params,X_fill)\n",
    "            mse = results[0]\n",
    "            MSE.append(mse)\n",
    "            y_fill = results[1]\n",
    "            Y_fill.append(y_fill)\n",
    "    MSE = np.asanyarray(MSE)\n",
    "    Y_fill = np.asanyarray(Y_fill)\n",
    "    Y_fill = Y_fill.mean(axis=0)\n",
    "    FillVarName = 'Fch4'\n",
    "    RST.Fill(Y_fill,FillVarName)\n",
    "    if plot == True:\n",
    "        plt.figure(figsize=(5,5))\n",
    "        plt.plot(RST.Master['Fch4'],color='red')\n",
    "#         plt.plot(RST.Master['fch4'],color='grey')\n",
    "        plt.plot(RST.Master['TempFill'],color='blue',alpha=.5)  # This works\n",
    "        \n",
    "        yl = plt.ylim()\n",
    "#         plt.xlim(yl[0],yl[1])\n",
    "        plt.grid()\n",
    "    if FullReturn == False:\n",
    "        return(MSE,RST.Master['TempFill'])\n",
    "    else:\n",
    "        return(MSE,RST.Master)\n",
    "\n",
    "if __name__=='__main__'and params['proc'] != 1:\n",
    "    pool = Pool(processes=params['proc'],maxtasksperchild=75)\n",
    "else:pool=None\n",
    "    \n",
    "for i in Runs.index:\n",
    "    params['T']=Runs['T'].iloc[i]\n",
    "    params['N']=Runs['N'].iloc[i]\n",
    "    Results = RunReps(FullModel,params,pool)\n",
    "    MSE = Results[0]\n",
    "    Runs['MSE'][i]=MSE.mean()\n",
    "    Runs['STD'][i]=MSE.std()\n",
    "    print('Finisehed Run ',str(i))\n",
    "\n",
    "print(Runs)"
   ]
  },
  {
   "cell_type": "code",
   "execution_count": 4,
   "metadata": {},
   "outputs": [
    {
     "name": "stdout",
     "output_type": "stream",
     "text": [
      "[ 200.    0.]\n",
      "200 0\n",
      "[ 200.    0.]\n",
      "Adjust!\n",
      "199 0\n",
      "[ 200.    0.]\n",
      "Adjust!\n",
      "Adjust!\n",
      "201 0\n",
      "[ 200.    0.]\n",
      "Adjust!\n",
      "Adjust!\n",
      "Adjust!\n",
      "198 0\n",
      "[ 1.  0.]\n",
      "1 0\n",
      "[ 1.  0.]\n",
      "Adjust!\n",
      "0 0\n",
      "[ 200.    0.]\n",
      "Adjust!\n",
      "Adjust!\n",
      "Adjust!\n",
      "Adjust!\n",
      "202 0\n",
      "[ 1.  0.]\n",
      "Adjust!\n",
      "Adjust!\n",
      "2 0\n"
     ]
    },
    {
     "name": "stderr",
     "output_type": "stream",
     "text": [
      "Using TensorFlow backend.\n",
      "Using TensorFlow backend.\n"
     ]
    },
    {
     "name": "stdout",
     "output_type": "stream",
     "text": [
      "[ 200.    0.]\n",
      "Adjust!\n",
      "Adjust!\n",
      "Adjust!\n",
      "Adjust!\n",
      "Adjust!\n",
      "197 0\n",
      "[ 1.  0.]\n",
      "Adjust!\n",
      "Adjust!\n",
      "Adjust!\n",
      "-1 0\n"
     ]
    },
    {
     "name": "stderr",
     "output_type": "stream",
     "text": [
      "Using TensorFlow backend.\n"
     ]
    },
    {
     "name": "stdout",
     "output_type": "stream",
     "text": [
      "         MSE    N       STD   T\n",
      "0   0.622036   -1  0.152847   0\n",
      "1   0.621472    0  0.152992   0\n",
      "2   0.621693    1  0.153206   0\n",
      "3   0.622476    2  0.152965   0\n",
      "4   0.620063    6  0.122565  12\n",
      "5   0.750827   10  0.179133  45\n",
      "6   0.598236   19  0.079293   5\n",
      "7   0.555922   36  0.082009   6\n",
      "8   0.559881   41  0.065969   8\n",
      "9   0.618177   60  0.174274  24\n",
      "10  0.661282   72  0.109355  29\n",
      "11  0.622065   73  0.154524  31\n",
      "12  0.622265   75  0.105955  47\n",
      "13  0.622004   90  0.093687  32\n",
      "14  0.669813  113  0.108769  27\n",
      "15  0.561074  133  0.173997   4\n",
      "16  0.624047  133  0.151811  31\n",
      "17  0.636823  174  0.116496  37\n",
      "18  0.596221  192  0.111915   9\n",
      "19  0.621869  197  0.153437   0\n",
      "20  0.621740  198  0.153438   0\n",
      "21  0.622154  199  0.153029   0\n",
      "22  0.625512  200  0.156784   0\n",
      "23  0.624175  201  0.157841   0\n",
      "24  0.624353  202  0.157430   0\n",
      "Optimum:\n",
      "        MSE   N       STD  T\n",
      "7  0.555922  36  0.082009  6\n"
     ]
    }
   ],
   "source": [
    "\n",
    "for i in range(params['Searches']):\n",
    "#     kernel = Matern(length_scale_bounds=\"fixed\") \n",
    "    gp = GaussianProcessRegressor(kernel=kernel, alpha=Runs['STD'].values, random_state=1,normalize_y=True)\n",
    "    gp.fit(Runs[['N','T']].values, Runs['MSE'].values)\n",
    "    \n",
    "    next_x = query(Runs[['N','T']].values, Runs['MSE'].values, gp)\n",
    "    print(next_x)\n",
    "    N = int(np.round(next_x[0],0))\n",
    "    T = int(np.round(next_x[1],0))\n",
    "    o = 0\n",
    "    while len(Runs.loc[(Runs['N']==N) & (Runs['T']==T)].index) != 0:\n",
    "        print('Adjust!')\n",
    "        o +=1\n",
    "        N += int(o*np.cos(o*np.pi))\n",
    "        if N < params['N_Min'] or N > params['N_Max']:\n",
    "            N -= int(o*np.cos(o*np.pi))\n",
    "        if o > 5:\n",
    "            T += 1\n",
    "    print(N,T)\n",
    "    d = {'N':N,'T':T,'MSE':0,'STD':0}\n",
    "    idx = Runs.index[-1] + 1\n",
    "    D2 = pd.DataFrame(data=d,index=[idx])\n",
    "    Runs = Runs.append(D2)\n",
    "    \n",
    "    params['T'] = T\n",
    "    params['N'] = N\n",
    "    \n",
    "    Results = RunReps(FullModel,params,pool)\n",
    "    MSE = Results[0]\n",
    "    \n",
    "    Runs['MSE'][idx]=MSE.mean()\n",
    "    Runs['STD'][idx]=MSE.std()\n",
    "    \n",
    "    Runs = Runs.sort_values(by = ['N','T']).reset_index(drop=True)\n",
    "    \n",
    "print(Runs)\n",
    "Optimum = Runs[Runs['MSE'] == Runs['MSE'].min()]\n",
    "print('Optimum:')\n",
    "print(Optimum)"
   ]
  },
  {
   "cell_type": "code",
   "execution_count": 5,
   "metadata": {
    "scrolled": true
   },
   "outputs": [
    {
     "name": "stdout",
     "output_type": "stream",
     "text": [
      "['Wind Spd', 'air pressure', 'Ta', 'PPFD', 'Ts 2.5 cm', 'Ts 15 cm', 'VWC', 'Active Layer', 'Rain', 'Water Table']\n",
      "Level:  1\n",
      "\n",
      "['Wind Spd']\n",
      "\n",
      "['air pressure']\n",
      "\n",
      "['Ta']\n",
      "\n",
      "['PPFD']\n",
      "\n",
      "['Ts 2.5 cm']\n",
      "\n",
      "['Ts 15 cm']\n",
      "\n",
      "['VWC']\n",
      "\n",
      "['Active Layer']\n",
      "\n",
      "['Rain']\n",
      "\n",
      "['Water Table']\n",
      "Best:\n",
      "['PPFD'] 0.855233270519\n",
      "Level:  2\n",
      "\n",
      "['Wind Spd', 'PPFD']\n",
      "\n",
      "['air pressure', 'PPFD']\n",
      "\n",
      "['Ta', 'PPFD']\n",
      "\n",
      "['PPFD', 'Ts 2.5 cm']\n",
      "\n",
      "['PPFD', 'Ts 15 cm']\n",
      "\n",
      "['PPFD', 'VWC']\n",
      "\n",
      "['PPFD', 'Active Layer']\n",
      "\n",
      "['PPFD', 'Rain']\n",
      "\n",
      "['PPFD', 'Water Table']\n"
     ]
    },
    {
     "name": "stderr",
     "output_type": "stream",
     "text": [
      "Using TensorFlow backend.\n"
     ]
    },
    {
     "name": "stdout",
     "output_type": "stream",
     "text": [
      "Best:\n",
      "['PPFD', 'Active Layer'] 0.753054099617\n",
      "Level:  3\n",
      "\n",
      "['Wind Spd', 'PPFD', 'Active Layer']\n"
     ]
    },
    {
     "name": "stderr",
     "output_type": "stream",
     "text": [
      "Using TensorFlow backend.\n"
     ]
    },
    {
     "name": "stdout",
     "output_type": "stream",
     "text": [
      "\n",
      "['air pressure', 'PPFD', 'Active Layer']\n"
     ]
    },
    {
     "name": "stderr",
     "output_type": "stream",
     "text": [
      "Using TensorFlow backend.\n"
     ]
    },
    {
     "name": "stdout",
     "output_type": "stream",
     "text": [
      "\n",
      "['Ta', 'PPFD', 'Active Layer']\n",
      "\n",
      "['PPFD', 'Ts 2.5 cm', 'Active Layer']\n",
      "\n",
      "['PPFD', 'Ts 15 cm', 'Active Layer']\n",
      "\n",
      "['PPFD', 'VWC', 'Active Layer']\n",
      "\n",
      "['PPFD', 'Active Layer', 'Rain']\n",
      "\n",
      "['PPFD', 'Active Layer', 'Water Table']\n",
      "Best:\n",
      "['air pressure', 'PPFD', 'Active Layer'] 0.62054815147\n",
      "Level:  4\n",
      "\n",
      "['Wind Spd', 'air pressure', 'PPFD', 'Active Layer']\n",
      "\n",
      "['air pressure', 'Ta', 'PPFD', 'Active Layer']\n",
      "\n",
      "['air pressure', 'PPFD', 'Ts 2.5 cm', 'Active Layer']\n",
      "\n",
      "['air pressure', 'PPFD', 'Ts 15 cm', 'Active Layer']\n",
      "\n",
      "['air pressure', 'PPFD', 'VWC', 'Active Layer']\n",
      "\n",
      "['air pressure', 'PPFD', 'Active Layer', 'Rain']\n",
      "\n",
      "['air pressure', 'PPFD', 'Active Layer', 'Water Table']\n",
      "Best:\n",
      "['air pressure', 'PPFD', 'Active Layer', 'Water Table'] 0.575809483971\n",
      "Level:  5\n",
      "\n",
      "['Wind Spd', 'air pressure', 'PPFD', 'Active Layer', 'Water Table']\n",
      "\n",
      "['air pressure', 'Ta', 'PPFD', 'Active Layer', 'Water Table']\n",
      "\n",
      "['air pressure', 'PPFD', 'Ts 2.5 cm', 'Active Layer', 'Water Table']\n",
      "\n",
      "['air pressure', 'PPFD', 'Ts 15 cm', 'Active Layer', 'Water Table']\n",
      "\n",
      "['air pressure', 'PPFD', 'VWC', 'Active Layer', 'Water Table']\n",
      "\n",
      "['air pressure', 'PPFD', 'Active Layer', 'Rain', 'Water Table']\n",
      "Best:\n",
      "['Wind Spd', 'air pressure', 'PPFD', 'Active Layer', 'Water Table'] 0.555539071863\n",
      "Level:  6\n",
      "\n",
      "['Wind Spd', 'air pressure', 'Ta', 'PPFD', 'Active Layer', 'Water Table']\n"
     ]
    },
    {
     "name": "stderr",
     "output_type": "stream",
     "text": [
      "Using TensorFlow backend.\n"
     ]
    },
    {
     "name": "stdout",
     "output_type": "stream",
     "text": [
      "\n",
      "['Wind Spd', 'air pressure', 'PPFD', 'Ts 2.5 cm', 'Active Layer', 'Water Table']\n"
     ]
    },
    {
     "name": "stderr",
     "output_type": "stream",
     "text": [
      "Using TensorFlow backend.\n"
     ]
    },
    {
     "name": "stdout",
     "output_type": "stream",
     "text": [
      "\n",
      "['Wind Spd', 'air pressure', 'PPFD', 'Ts 15 cm', 'Active Layer', 'Water Table']\n",
      "\n",
      "['Wind Spd', 'air pressure', 'PPFD', 'VWC', 'Active Layer', 'Water Table']\n"
     ]
    },
    {
     "name": "stderr",
     "output_type": "stream",
     "text": [
      "Using TensorFlow backend.\n"
     ]
    },
    {
     "name": "stdout",
     "output_type": "stream",
     "text": [
      "\n",
      "['Wind Spd', 'air pressure', 'PPFD', 'Active Layer', 'Rain', 'Water Table']\n",
      "Best:\n",
      "['Wind Spd', 'air pressure', 'PPFD', 'Active Layer', 'Rain', 'Water Table'] 0.540685489829\n",
      "Level:  7\n",
      "\n",
      "['Wind Spd', 'air pressure', 'Ta', 'PPFD', 'Active Layer', 'Rain', 'Water Table']\n",
      "\n",
      "['Wind Spd', 'air pressure', 'PPFD', 'Ts 2.5 cm', 'Active Layer', 'Rain', 'Water Table']\n",
      "\n",
      "['Wind Spd', 'air pressure', 'PPFD', 'Ts 15 cm', 'Active Layer', 'Rain', 'Water Table']\n",
      "\n",
      "['Wind Spd', 'air pressure', 'PPFD', 'VWC', 'Active Layer', 'Rain', 'Water Table']\n",
      "Best:\n",
      "['Wind Spd', 'air pressure', 'PPFD', 'Ts 15 cm', 'Active Layer', 'Rain', 'Water Table'] 0.543158212809\n",
      "Level:  8\n",
      "\n",
      "['Wind Spd', 'air pressure', 'Ta', 'PPFD', 'Ts 15 cm', 'Active Layer', 'Rain', 'Water Table']\n",
      "\n",
      "['Wind Spd', 'air pressure', 'PPFD', 'Ts 2.5 cm', 'Ts 15 cm', 'Active Layer', 'Rain', 'Water Table']\n",
      "\n",
      "['Wind Spd', 'air pressure', 'PPFD', 'Ts 15 cm', 'VWC', 'Active Layer', 'Rain', 'Water Table']\n",
      "Best:\n",
      "['Wind Spd', 'air pressure', 'PPFD', 'Ts 15 cm', 'VWC', 'Active Layer', 'Rain', 'Water Table'] 0.551563633867\n",
      "Level:  9\n",
      "\n",
      "['Wind Spd', 'air pressure', 'Ta', 'PPFD', 'Ts 15 cm', 'VWC', 'Active Layer', 'Rain', 'Water Table']\n",
      "\n",
      "['Wind Spd', 'air pressure', 'PPFD', 'Ts 2.5 cm', 'Ts 15 cm', 'VWC', 'Active Layer', 'Rain', 'Water Table']\n",
      "Best:\n",
      "['Wind Spd', 'air pressure', 'Ta', 'PPFD', 'Ts 15 cm', 'VWC', 'Active Layer', 'Rain', 'Water Table'] 0.558819736681\n",
      "Level:  10\n",
      "\n",
      "['Wind Spd', 'air pressure', 'Ta', 'PPFD', 'Ts 2.5 cm', 'Ts 15 cm', 'VWC', 'Active Layer', 'Rain', 'Water Table']\n",
      "Best:\n",
      "['Wind Spd', 'air pressure', 'Ta', 'PPFD', 'Ts 2.5 cm', 'Ts 15 cm', 'VWC', 'Active Layer', 'Rain', 'Water Table'] 0.556362376815\n",
      "         MSE                                             Models       STD\n",
      "1   0.855233                                             [PPFD]  0.855233\n",
      "2   0.753054                               [PPFD, Active Layer]  0.753054\n",
      "3   0.620548                 [air pressure, PPFD, Active Layer]  0.620548\n",
      "4   0.575809    [air pressure, PPFD, Active Layer, Water Table]  0.575809\n",
      "5   0.555539  [Wind Spd, air pressure, PPFD, Active Layer, W...  0.555539\n",
      "6   0.540685  [Wind Spd, air pressure, PPFD, Active Layer, R...  0.540685\n",
      "7   0.543158  [Wind Spd, air pressure, PPFD, Ts 15 cm, Activ...  0.543158\n",
      "8   0.551564  [Wind Spd, air pressure, PPFD, Ts 15 cm, VWC, ...  0.551564\n",
      "9   0.558820  [Wind Spd, air pressure, Ta, PPFD, Ts 15 cm, V...  0.558820\n",
      "10  0.556362  [Wind Spd, air pressure, Ta, PPFD, Ts 2.5 cm, ...  0.556362\n"
     ]
    },
    {
     "data": {
      "image/png": "[encoded data removed]",
      "text/plain": [
       "<matplotlib.figure.Figure at 0x7fa121f51e48>"
      ]
     },
     "metadata": {},
     "output_type": "display_data"
    }
   ],
   "source": [
    "def Combos(Model,L,factor=None):\n",
    "    Models=list()\n",
    "    for c in combinations(Model,L):\n",
    "        c = list(c)\n",
    "        if factor == None:\n",
    "            Models.append(c)\n",
    "        else:\n",
    "            if set(factor).issubset(set(c)):\n",
    "#             if factor in c:\n",
    "                Models.append(c)\n",
    "    return(Models)\n",
    "params['T']=Optimum['T'].values[0]\n",
    "params['N']=Optimum['N'].values[0]\n",
    "\n",
    "\n",
    "Results = RunReps(FullModel,params,pool,FullReturn=True)\n",
    "FullScore = Results[0]\n",
    "Data = Results[1]\n",
    "\n",
    "\n",
    "BestMSE = []\n",
    "BestSTD = []\n",
    "idx = []\n",
    "BestModels = []\n",
    "\n",
    "print(FullModel)\n",
    "\n",
    "for i in range(1,len(FullModel)+1):\n",
    "    print('Level: ',i)\n",
    "    if i == 1:\n",
    "        Models = Combos(FullModel,i)\n",
    "    else:\n",
    "        Models = Combos(FullModel,i,factor = Best)\n",
    "#     for model in Models:\n",
    "    Score = []\n",
    "    STD = []\n",
    "    for model in Models:\n",
    "        print()\n",
    "        print(model)\n",
    "        Results = RunReps(model,params,pool)\n",
    "        MSE = Results[0]\n",
    "        Score.append(MSE.mean())\n",
    "        STD.append(MSE.std())\n",
    "        Data['Model: '+'+'.join(model)] = Results[1]\n",
    "#         plt.figure()\n",
    "#         plt.plot(Results[1])\n",
    "#         plt.title('+'.join(model))\n",
    "    Score = np.asanyarray(Score)\n",
    "    STD = np.asanyarray(STD)\n",
    "#         print(Score)\n",
    "    Best = Models[np.where(Score == Score.min())[0][0]]\n",
    "    BestModels.append(Best)\n",
    "    BestMSE.append(Score.min())\n",
    "    BestSTD.append(STD[np.where(Score == Score.min())[0][0]])\n",
    "    idx.append(i)\n",
    "    print('Best:')\n",
    "    print(Best,Score.min())\n",
    "BestModels = np.asanyarray(BestModels)\n",
    "BestMSE = np.asanyarray(BestMSE)\n",
    "BestSTD = np.asanyarray(BestSTD)\n",
    "idx = np.asanyarray(idx)\n",
    "BestSE = BestSTD/(params['reps']**.5)\n",
    "BestCI = BestSE*1.96\n",
    "plt.figure(figsize=(10,10))\n",
    "plt.bar(idx,BestMSE)\n",
    "plt.errorbar(idx,BestMSE,yerr=BestCI,color = 'black',fmt='o')\n",
    "\n",
    "d = {'Models':BestModels,'MSE':BestMSE,'STD':BestMSE}\n",
    "Stats = pd.DataFrame(index=idx,data=d)\n",
    "Stats.to_csv('GapFillingSummary.csv')\n",
    "print(Stats)\n",
    "\n",
    "Data.to_csv('GapFilled'+FillVar+'.csv')"
   ]
  },
  {
   "cell_type": "code",
   "execution_count": 6,
   "metadata": {},
   "outputs": [
    {
     "name": "stdout",
     "output_type": "stream",
     "text": [
      "5650.247350931168\n"
     ]
    }
   ],
   "source": [
    "\n",
    "if __name__=='__main__'and params['proc'] != 1:\n",
    "    pool.close()\n",
    "\n",
    "print(time.time()-Time)\n",
    "        "
   ]
  },
  {
   "cell_type": "code",
   "execution_count": 7,
   "metadata": {},
   "outputs": [
    {
     "name": "stdout",
     "output_type": "stream",
     "text": [
      "         MSE                                             Models       STD\n",
      "1   0.855233                                             [PPFD]  0.855233\n",
      "2   0.753054                               [PPFD, Active Layer]  0.753054\n",
      "3   0.620548                 [air pressure, PPFD, Active Layer]  0.620548\n",
      "4   0.575809    [air pressure, PPFD, Active Layer, Water Table]  0.575809\n",
      "5   0.555539  [Wind Spd, air pressure, PPFD, Active Layer, W...  0.555539\n",
      "6   0.540685  [Wind Spd, air pressure, PPFD, Active Layer, R...  0.540685\n",
      "7   0.543158  [Wind Spd, air pressure, PPFD, Ts 15 cm, Activ...  0.543158\n",
      "8   0.551564  [Wind Spd, air pressure, PPFD, Ts 15 cm, VWC, ...  0.551564\n",
      "9   0.558820  [Wind Spd, air pressure, Ta, PPFD, Ts 15 cm, V...  0.558820\n",
      "10  0.556362  [Wind Spd, air pressure, Ta, PPFD, Ts 2.5 cm, ...  0.556362\n"
     ]
    }
   ],
   "source": [
    "\n",
    "d = {'Models':BestModels,'MSE':BestMSE,'STD':BestMSE}\n",
    "Stats = pd.DataFrame(index=idx,data=d)\n",
    "Stats.to_csv('GapFillingSummary.csv')\n",
    "print(Stats)"
   ]
  },
  {
   "cell_type": "code",
   "execution_count": 8,
   "metadata": {},
   "outputs": [
    {
     "name": "stdout",
     "output_type": "stream",
     "text": [
      "[ 0.55636238]\n"
     ]
    }
   ],
   "source": [
    "print(Score)"
   ]
  },
  {
   "cell_type": "code",
   "execution_count": null,
   "metadata": {
    "collapsed": true
   },
   "outputs": [],
   "source": []
  }
 ],
 "metadata": {
  "kernelspec": {
   "display_name": "Python 3",
   "language": "python",
   "name": "python3"
  },
  "language_info": {
   "codemirror_mode": {
    "name": "ipython",
    "version": 3
   },
   "file_extension": ".py",
   "mimetype": "text/x-python",
   "name": "python",
   "nbconvert_exporter": "python",
   "pygments_lexer": "ipython3",
   "version": "3.5.2"
  }
 },
 "nbformat": 4,
 "nbformat_minor": 2
}
