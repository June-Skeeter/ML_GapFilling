{
 "cells": [
  {
   "cell_type": "code",
   "execution_count": 1,
   "metadata": {
    "collapsed": true
   },
   "outputs": [],
   "source": [
    "import time\n",
    "import math\n",
    "import numpy as np\n",
    "import pandas as pd\n",
    "import matplotlib.pyplot as plt\n",
    "from itertools import combinations\n",
    "from functools import partial\n",
    "from multiprocessing import Pool\n",
    "from sklearn.preprocessing import StandardScaler\n",
    "from sklearn import metrics\n",
    "from sklearn.model_selection import RepeatedKFold\n",
    "import warnings\n",
    "warnings.filterwarnings('ignore')\n",
    "from sklearn.model_selection import train_test_split\n",
    "\n",
    "## Personal Modules\n",
    "import ReadStandardTimeFill as RSTF\n",
    "# import LSTM_Train as LSTM\n",
    "import importlib\n",
    "import LSTM\n",
    "importlib.reload(LSTM)\n",
    "\n",
    "%matplotlib inline\n",
    "%config IPCompleter.greedy=True\n",
    "\n",
    "from scipy.optimize import minimize\n",
    "from scipy.stats import norm\n",
    "from sklearn.gaussian_process import GaussianProcessRegressor\n",
    "from sklearn.gaussian_process.kernels import Matern, WhiteKernel, ConstantKernel\n",
    "from matplotlib import cm\n",
    "\n",
    "\n",
    "def upper_confidence_bound(mu_x, sigma_x, opt_value, kappa=-1.0):\n",
    "    return mu_x + kappa * sigma_x\n",
    "\n",
    "\n",
    "# kernel = Matern()#length_scale = [1,1],length_scale_bounds=\"fixed\")\n",
    "# kernel = ConstantKernel(1e0, (1e-2, 1e2))*Matern(1e1, (1e-4, 1e4),nu = 2.5)\\\n",
    "# + WhiteKernel(noise_level=1e0, noise_level_bounds=(1e-2, 1e2))\n",
    "acq = upper_confidence_bound\n",
    "def query(xi, yi, gp):\n",
    "    best_value = np.inf\n",
    "\n",
    "    for N in np.linspace(1,params['N_Max']):\n",
    "        for T in np.linspace(0,params['T_Max']):\n",
    "            def obj(x):\n",
    "                x=x.reshape(1,-1)\n",
    "                mu_x, sigma_x = gp.predict(x, return_std=True)\n",
    "#                 print(np.min(yi),np.max(yi))\n",
    "                return acq(mu_x, sigma_x, np.min(yi))\n",
    "            x0 = np.asanyarray([N,T]).reshape(1,2)\n",
    "            res = minimize(obj, x0, bounds=((1, params['N_Max']),(0,params['T_Max'])))\n",
    "\n",
    "            if res.fun < best_value:\n",
    "                best_value = res.fun\n",
    "                query_point = res.x\n",
    "    query_point = query_point\n",
    "    return query_point\n",
    "\n"
   ]
  },
  {
   "cell_type": "code",
   "execution_count": 2,
   "metadata": {},
   "outputs": [
    {
     "name": "stdout",
     "output_type": "stream",
     "text": [
      "      N   T  MSE  STD\n",
      "0    39  36  0.0  0.0\n",
      "1    21  37  0.0  0.0\n",
      "2     7  12  0.0  0.0\n",
      "3    33  11  0.0  0.0\n",
      "4    95  33  0.0  0.0\n",
      "5   101  14  0.0  0.0\n",
      "6    58  14  0.0  0.0\n",
      "7    34  34  0.0  0.0\n",
      "8    11  12  0.0  0.0\n",
      "9    43  11  0.0  0.0\n",
      "10   41   2  0.0  0.0\n",
      "11   19  25  0.0  0.0\n",
      "12   15  33  0.0  0.0\n",
      "13   72  21  0.0  0.0\n",
      "14   21  26  0.0  0.0\n",
      "{'epochs': 600, 'N_Min': 2, 'Y': 'fch4', 'Searches': 8, 'reps': 15, 'T_Max': 48, 'proc': 3, 'N_Max': 100}\n"
     ]
    },
    {
     "data": {
      "text/plain": [
       "<matplotlib.collections.PathCollection at 0x7f3133201748>"
      ]
     },
     "execution_count": 2,
     "metadata": {},
     "output_type": "execute_result"
    },
    {
     "data": {
      "image/png": "[encoded data removed]",
      "text/plain": [
       "<matplotlib.figure.Figure at 0x7f31352f8b70>"
      ]
     },
     "metadata": {},
     "output_type": "display_data"
    }
   ],
   "source": [
    "FillVar = 'fch4'\n",
    "Runs,params = LSTM.Params('Full',FillVar,MP=True)# rpms.Runs,rpms.params\n",
    "Runs['MSE'] = 0.0\n",
    "Runs['STD'] = 0.0\n",
    "print(Runs)\n",
    "print(params)\n",
    "plt.figure(figsize = (4,4))\n",
    "plt.scatter(Runs[\"N\"],Runs['T'],s=100,c=Runs['MSE'])"
   ]
  },
  {
   "cell_type": "code",
   "execution_count": 3,
   "metadata": {
    "scrolled": false
   },
   "outputs": [
    {
     "name": "stderr",
     "output_type": "stream",
     "text": [
      "Using TensorFlow backend.\n",
      "Using TensorFlow backend.\n",
      "Using TensorFlow backend.\n"
     ]
    },
    {
     "name": "stdout",
     "output_type": "stream",
     "text": [
      "Finisehed Run  0\n",
      "Finisehed Run  1\n",
      "Finisehed Run  2\n",
      "Finisehed Run  3\n",
      "Finisehed Run  4\n",
      "Finisehed Run  5\n",
      "Finisehed Run  6\n",
      "Finisehed Run  7\n",
      "Finisehed Run  8\n",
      "Finisehed Run  9\n",
      "Finisehed Run  10\n",
      "Finisehed Run  11\n",
      "Finisehed Run  12\n",
      "Finisehed Run  13\n"
     ]
    },
    {
     "name": "stderr",
     "output_type": "stream",
     "text": [
      "Using TensorFlow backend.\n"
     ]
    },
    {
     "name": "stdout",
     "output_type": "stream",
     "text": [
      "Finisehed Run  14\n",
      "      N   T       MSE       STD\n",
      "0    39  36  0.664565  0.115512\n",
      "1    21  37  0.631835  0.133452\n",
      "2     7  12  0.643220  0.133826\n",
      "3    33  11  0.611226  0.107130\n",
      "4    95  33  0.683416  0.196926\n",
      "5   101  14  0.572953  0.080333\n",
      "6    58  14  0.568454  0.075945\n",
      "7    34  34  0.552356  0.084769\n",
      "8    11  12  0.595192  0.110804\n",
      "9    43  11  0.597947  0.097424\n",
      "10   41   2  0.516738  0.086529\n",
      "11   19  25  0.594752  0.075982\n",
      "12   15  33  0.640345  0.141815\n",
      "13   72  21  0.577417  0.137323\n",
      "14   21  26  0.598208  0.114595\n"
     ]
    },
    {
     "data": {
      "text/plain": [
       "<matplotlib.collections.PathCollection at 0x7f31331b8ba8>"
      ]
     },
     "execution_count": 3,
     "metadata": {},
     "output_type": "execute_result"
    },
    {
     "data": {
      "image/png": "[encoded data removed]",
      "text/plain": [
       "<matplotlib.figure.Figure at 0x7f3133214ba8>"
      ]
     },
     "metadata": {},
     "output_type": "display_data"
    },
    {
     "name": "stderr",
     "output_type": "stream",
     "text": [
      "Using TensorFlow backend.\n"
     ]
    }
   ],
   "source": [
    "def TTV_Split(i,Memory,X,y,params,X_fill):\n",
    "    X_train,X_test,y_train,y_test=train_test_split(X,y, test_size=0.1, random_state=i)\n",
    "    X_train,X_val,y_train,y_val=train_test_split(X_train,y_train, test_size=0.11, random_state=i)\n",
    "    return(LSTM.Train_Steps(params['epochs'],params['N'],X_train,X_test,X_val,y_train,y_test,\n",
    "                            y_val,i,X_fill = X_fill,Memory=Memory))\n",
    "\n",
    "\n",
    "AllVars = ['H','LE','Fco2','fco2','fch4','Wind Spd','air pressure','Ta','Rn','PPFD','Rain','Water Table','Ts 2.5 cm',\n",
    "         'Ts 15 cm','VWC','Active Layer','24H Rain','Wtr Tbl Trnd','ET']\n",
    "\n",
    "FullModel = ['Wind Spd','air pressure','Ta','PPFD','Ts 2.5 cm','Ts 15 cm',\n",
    "         'VWC','Active Layer','Rain','Water Table']\n",
    "\n",
    "# FullModel = ['Wind Spd','air pressure','Water Table','PPFD','Ts 2.5 cm']\n",
    "\n",
    "Time = time.time()\n",
    "Path = 'FilteredData2018-04-04.csv'\n",
    "\n",
    "def RunReps(Model,params,pool = None,plot=False,FullReturn=False):\n",
    "    RST = RSTF.ReadStandardTimeFill(Path)\n",
    "    offset = 5/params['proc']\n",
    "    Memory = (math.floor(100/params['proc'])- offset) * .01\n",
    "    MSE = []\n",
    "    RST.Scale(params['Y'],Model)\n",
    "    RST.TimeShape(params['T'])\n",
    "    y = RST.y_time.copy()#*1.0\n",
    "    X = RST.X_time.copy()#*1.0\n",
    "    X_fill = RST.X_ftime.copy()\n",
    "    MSE = []\n",
    "    STD = []\n",
    "    Y_fill = []\n",
    "    if __name__=='__main__'and params['proc'] != 1:\n",
    "        for i,results in enumerate(pool.imap(partial(TTV_Split,Memory=Memory,X=X,y=y,params=params,X_fill=X_fill),\n",
    "                                             range(params['reps']))):\n",
    "            mse = results[0]\n",
    "            y_fill = results[1]\n",
    "            Y_fill.append(y_fill)\n",
    "            MSE.append(mse)\n",
    "    else:\n",
    "        for i in range(params['reps']):\n",
    "            results = TTV_Split(i,Memory,X,y,params,X_fill)\n",
    "            mse = results[0]\n",
    "            MSE.append(mse)\n",
    "            y_fill = results[1]\n",
    "            Y_fill.append(y_fill)\n",
    "    MSE = np.asanyarray(MSE)\n",
    "    Y_fill = np.asanyarray(Y_fill)\n",
    "    Y_fill = Y_fill.mean(axis=0)\n",
    "    FillVarName = 'Fch4'\n",
    "    RST.Fill(Y_fill,FillVarName)\n",
    "    if plot == True:\n",
    "        plt.figure(figsize=(5,5))\n",
    "        plt.plot(RST.Master['Fch4'],color='red')\n",
    "#         plt.plot(RST.Master['fch4'],color='grey')\n",
    "        plt.plot(RST.Master['TempFill'],color='blue',alpha=.5)  # This works\n",
    "        \n",
    "        yl = plt.ylim()\n",
    "#         plt.xlim(yl[0],yl[1])\n",
    "        plt.grid()\n",
    "    if FullReturn == False:\n",
    "        return(MSE,RST.Master['TempFill'])\n",
    "    else:\n",
    "        return(MSE,RST.Master)\n",
    "\n",
    "if __name__=='__main__'and params['proc'] != 1:\n",
    "    pool = Pool(processes=params['proc'],maxtasksperchild=75)\n",
    "else:pool=None\n",
    "    \n",
    "for i in Runs.index:\n",
    "    params['T']=Runs['T'].iloc[i]\n",
    "    params['N']=Runs['N'].iloc[i]\n",
    "    Results = RunReps(FullModel,params,pool)\n",
    "    MSE = Results[0]\n",
    "    Runs['MSE'][i]=MSE.mean()\n",
    "    Runs['STD'][i]=MSE.std()\n",
    "    print('Finisehed Run ',str(i))\n",
    "\n",
    "print(Runs)\n",
    "plt.scatter(Runs['N'],Runs['T'],c=Runs['MSE'],s=Runs['STD']*1e4)"
   ]
  },
  {
   "cell_type": "code",
   "execution_count": 4,
   "metadata": {
    "scrolled": false
   },
   "outputs": [
    {
     "name": "stdout",
     "output_type": "stream",
     "text": [
      "[ 41.4896637    4.30135377]\n",
      "41 4\n"
     ]
    },
    {
     "name": "stderr",
     "output_type": "stream",
     "text": [
      "Using TensorFlow backend.\n"
     ]
    },
    {
     "name": "stdout",
     "output_type": "stream",
     "text": [
      "[ 43.28278211   2.69675828]\n",
      "43 3\n",
      "[ 38.70510464   2.69119432]\n",
      "39 3\n",
      "[ 39.48651446   0.08199546]\n",
      "39 0\n",
      "[ 36.85206713   0.8053603 ]\n",
      "37 1\n",
      "[ 41.57004368   0.        ]\n",
      "42 0\n",
      "[ 44.402   0.   ]\n",
      "44 0\n",
      "[ 46.51473291   0.        ]\n",
      "47 0\n",
      "         MSE    N       STD   T\n",
      "0   0.643220    7  0.133826  12\n",
      "1   0.595192   11  0.110804  12\n",
      "2   0.640345   15  0.141815  33\n",
      "3   0.594752   19  0.075982  25\n",
      "4   0.598208   21  0.114595  26\n",
      "5   0.631835   21  0.133452  37\n",
      "6   0.611226   33  0.107130  11\n",
      "7   0.552356   34  0.084769  34\n",
      "8   0.539487   37  0.088275   1\n",
      "9   0.496697   39  0.098395   0\n",
      "10  0.558573   39  0.082204   3\n",
      "11  0.664565   39  0.115512  36\n",
      "12  0.516738   41  0.086529   2\n",
      "13  0.540570   41  0.119595   4\n",
      "14  0.499359   42  0.104939   0\n",
      "15  0.585952   43  0.117487   3\n",
      "16  0.597947   43  0.097424  11\n",
      "17  0.506206   44  0.108527   0\n",
      "18  0.502281   47  0.105629   0\n",
      "19  0.568454   58  0.075945  14\n",
      "20  0.577417   72  0.137323  21\n",
      "21  0.683416   95  0.196926  33\n",
      "22  0.572953  101  0.080333  14\n",
      "Optimum:\n",
      "        MSE   N       STD  T\n",
      "9  0.496697  39  0.098395  0\n"
     ]
    },
    {
     "data": {
      "text/plain": [
       "<matplotlib.collections.PathCollection at 0x7f3133047f60>"
      ]
     },
     "execution_count": 4,
     "metadata": {},
     "output_type": "execute_result"
    },
    {
     "data": {
      "image/png": "[encoded data removed]",
      "text/plain": [
       "<matplotlib.figure.Figure at 0x7f31331a6208>"
      ]
     },
     "metadata": {},
     "output_type": "display_data"
    }
   ],
   "source": [
    "\n",
    "for i in range(params['Searches']):\n",
    "    kernel = Matern(length_scale_bounds=\"fixed\") \n",
    "    gp = GaussianProcessRegressor(kernel=kernel, alpha=Runs['STD'].values, random_state=1,normalize_y=True)\n",
    "    gp.fit(Runs[['N','T']].values, Runs['MSE'].values)\n",
    "    \n",
    "    next_x = query(Runs[['N','T']].values, Runs['MSE'].values, gp)\n",
    "    print(next_x)\n",
    "    N = int(np.round(next_x[0],0))\n",
    "    T = int(np.round(next_x[1],0))\n",
    "    o = 0\n",
    "    while len(Runs.loc[(Runs['N']==N) & (Runs['T']==T)].index) != 0:\n",
    "        print('Adjust!')\n",
    "        o +=1\n",
    "        N += int(o*np.cos(o*np.pi))\n",
    "        if N < params['N_Min'] or N > params['N_Max']:\n",
    "            N -= int(o*np.cos(o*np.pi))\n",
    "        if o > 5:\n",
    "            T += 1\n",
    "    print(N,T)\n",
    "    d = {'N':N,'T':T,'MSE':0,'STD':0}\n",
    "    idx = Runs.index[-1] + 1\n",
    "    D2 = pd.DataFrame(data=d,index=[idx])\n",
    "    Runs = Runs.append(D2)\n",
    "    \n",
    "    params['T'] = T\n",
    "    params['N'] = N\n",
    "    \n",
    "    Results = RunReps(FullModel,params,pool)\n",
    "    MSE = Results[0]\n",
    "    \n",
    "    Runs['MSE'][idx]=MSE.mean()\n",
    "    Runs['STD'][idx]=MSE.std()\n",
    "    \n",
    "    Runs = Runs.sort_values(by = ['N','T']).reset_index(drop=True)\n",
    "    \n",
    "print(Runs)\n",
    "Optimum = Runs[Runs['MSE'] == Runs['MSE'].min()]\n",
    "print('Optimum:')\n",
    "print(Optimum)\n",
    "plt.scatter(Runs['N'],Runs['T'],c=Runs['MSE'],s=Runs['STD']*1e4)"
   ]
  },
  {
   "cell_type": "code",
   "execution_count": 5,
   "metadata": {
    "scrolled": false
   },
   "outputs": [
    {
     "name": "stdout",
     "output_type": "stream",
     "text": [
      "['Wind Spd', 'air pressure', 'Ta', 'PPFD', 'Ts 2.5 cm', 'Ts 15 cm', 'VWC', 'Active Layer', 'Rain', 'Water Table']\n",
      "Level:  1\n",
      "\n",
      "['Wind Spd']\n",
      "\n",
      "['air pressure']\n",
      "\n",
      "['Ta']\n",
      "\n",
      "['PPFD']\n",
      "\n",
      "['Ts 2.5 cm']\n",
      "\n",
      "['Ts 15 cm']\n"
     ]
    },
    {
     "name": "stderr",
     "output_type": "stream",
     "text": [
      "Using TensorFlow backend.\n"
     ]
    },
    {
     "name": "stdout",
     "output_type": "stream",
     "text": [
      "\n",
      "['VWC']\n"
     ]
    },
    {
     "name": "stderr",
     "output_type": "stream",
     "text": [
      "Using TensorFlow backend.\n"
     ]
    },
    {
     "name": "stdout",
     "output_type": "stream",
     "text": [
      "\n",
      "['Active Layer']\n"
     ]
    },
    {
     "name": "stderr",
     "output_type": "stream",
     "text": [
      "Using TensorFlow backend.\n"
     ]
    },
    {
     "name": "stdout",
     "output_type": "stream",
     "text": [
      "\n",
      "['Rain']\n",
      "\n",
      "['Water Table']\n",
      "Best:\n",
      "['PPFD'] 0.740633157949\n",
      "Level:  2\n",
      "\n",
      "['Wind Spd', 'PPFD']\n",
      "\n",
      "['air pressure', 'PPFD']\n",
      "\n",
      "['Ta', 'PPFD']\n",
      "\n",
      "['PPFD', 'Ts 2.5 cm']\n",
      "\n",
      "['PPFD', 'Ts 15 cm']\n",
      "\n",
      "['PPFD', 'VWC']\n",
      "\n",
      "['PPFD', 'Active Layer']\n",
      "\n",
      "['PPFD', 'Rain']\n",
      "\n",
      "['PPFD', 'Water Table']\n",
      "Best:\n",
      "['Wind Spd', 'PPFD'] 0.687858130936\n",
      "Level:  3\n",
      "\n",
      "['Wind Spd', 'air pressure', 'PPFD']\n",
      "\n",
      "['Wind Spd', 'Ta', 'PPFD']\n"
     ]
    },
    {
     "name": "stderr",
     "output_type": "stream",
     "text": [
      "Using TensorFlow backend.\n"
     ]
    },
    {
     "name": "stdout",
     "output_type": "stream",
     "text": [
      "\n",
      "['Wind Spd', 'PPFD', 'Ts 2.5 cm']\n"
     ]
    },
    {
     "name": "stderr",
     "output_type": "stream",
     "text": [
      "Using TensorFlow backend.\n"
     ]
    },
    {
     "name": "stdout",
     "output_type": "stream",
     "text": [
      "\n",
      "['Wind Spd', 'PPFD', 'Ts 15 cm']\n"
     ]
    },
    {
     "name": "stderr",
     "output_type": "stream",
     "text": [
      "Using TensorFlow backend.\n"
     ]
    },
    {
     "name": "stdout",
     "output_type": "stream",
     "text": [
      "\n",
      "['Wind Spd', 'PPFD', 'VWC']\n",
      "\n",
      "['Wind Spd', 'PPFD', 'Active Layer']\n",
      "\n",
      "['Wind Spd', 'PPFD', 'Rain']\n",
      "\n",
      "['Wind Spd', 'PPFD', 'Water Table']\n",
      "Best:\n",
      "['Wind Spd', 'PPFD', 'Active Layer'] 0.626269901426\n",
      "Level:  4\n",
      "\n",
      "['Wind Spd', 'air pressure', 'PPFD', 'Active Layer']\n",
      "\n",
      "['Wind Spd', 'Ta', 'PPFD', 'Active Layer']\n",
      "\n",
      "['Wind Spd', 'PPFD', 'Ts 2.5 cm', 'Active Layer']\n",
      "\n",
      "['Wind Spd', 'PPFD', 'Ts 15 cm', 'Active Layer']\n",
      "\n",
      "['Wind Spd', 'PPFD', 'VWC', 'Active Layer']\n",
      "\n",
      "['Wind Spd', 'PPFD', 'Active Layer', 'Rain']\n",
      "\n",
      "['Wind Spd', 'PPFD', 'Active Layer', 'Water Table']\n",
      "Best:\n",
      "['Wind Spd', 'air pressure', 'PPFD', 'Active Layer'] 0.593766850293\n",
      "Level:  5\n",
      "\n",
      "['Wind Spd', 'air pressure', 'Ta', 'PPFD', 'Active Layer']\n",
      "\n",
      "['Wind Spd', 'air pressure', 'PPFD', 'Ts 2.5 cm', 'Active Layer']\n"
     ]
    },
    {
     "name": "stderr",
     "output_type": "stream",
     "text": [
      "Using TensorFlow backend.\n"
     ]
    },
    {
     "name": "stdout",
     "output_type": "stream",
     "text": [
      "\n",
      "['Wind Spd', 'air pressure', 'PPFD', 'Ts 15 cm', 'Active Layer']\n"
     ]
    },
    {
     "name": "stderr",
     "output_type": "stream",
     "text": [
      "Using TensorFlow backend.\n"
     ]
    },
    {
     "name": "stdout",
     "output_type": "stream",
     "text": [
      "\n",
      "['Wind Spd', 'air pressure', 'PPFD', 'VWC', 'Active Layer']\n"
     ]
    },
    {
     "name": "stderr",
     "output_type": "stream",
     "text": [
      "Using TensorFlow backend.\n"
     ]
    },
    {
     "name": "stdout",
     "output_type": "stream",
     "text": [
      "\n",
      "['Wind Spd', 'air pressure', 'PPFD', 'Active Layer', 'Rain']\n",
      "\n",
      "['Wind Spd', 'air pressure', 'PPFD', 'Active Layer', 'Water Table']\n",
      "Best:\n",
      "['Wind Spd', 'air pressure', 'PPFD', 'Active Layer', 'Water Table'] 0.528741250174\n",
      "Level:  6\n",
      "\n",
      "['Wind Spd', 'air pressure', 'Ta', 'PPFD', 'Active Layer', 'Water Table']\n",
      "\n",
      "['Wind Spd', 'air pressure', 'PPFD', 'Ts 2.5 cm', 'Active Layer', 'Water Table']\n",
      "\n",
      "['Wind Spd', 'air pressure', 'PPFD', 'Ts 15 cm', 'Active Layer', 'Water Table']\n",
      "\n",
      "['Wind Spd', 'air pressure', 'PPFD', 'VWC', 'Active Layer', 'Water Table']\n",
      "\n",
      "['Wind Spd', 'air pressure', 'PPFD', 'Active Layer', 'Rain', 'Water Table']\n",
      "Best:\n",
      "['Wind Spd', 'air pressure', 'PPFD', 'Ts 2.5 cm', 'Active Layer', 'Water Table'] 0.525596268349\n",
      "Level:  7\n",
      "\n",
      "['Wind Spd', 'air pressure', 'Ta', 'PPFD', 'Ts 2.5 cm', 'Active Layer', 'Water Table']\n",
      "\n",
      "['Wind Spd', 'air pressure', 'PPFD', 'Ts 2.5 cm', 'Ts 15 cm', 'Active Layer', 'Water Table']\n",
      "\n",
      "['Wind Spd', 'air pressure', 'PPFD', 'Ts 2.5 cm', 'VWC', 'Active Layer', 'Water Table']\n",
      "\n",
      "['Wind Spd', 'air pressure', 'PPFD', 'Ts 2.5 cm', 'Active Layer', 'Rain', 'Water Table']\n",
      "Best:\n",
      "['Wind Spd', 'air pressure', 'PPFD', 'Ts 2.5 cm', 'VWC', 'Active Layer', 'Water Table'] 0.512879891937\n",
      "Level:  8\n",
      "\n",
      "['Wind Spd', 'air pressure', 'Ta', 'PPFD', 'Ts 2.5 cm', 'VWC', 'Active Layer', 'Water Table']\n"
     ]
    },
    {
     "name": "stderr",
     "output_type": "stream",
     "text": [
      "Using TensorFlow backend.\n"
     ]
    },
    {
     "name": "stdout",
     "output_type": "stream",
     "text": [
      "\n",
      "['Wind Spd', 'air pressure', 'PPFD', 'Ts 2.5 cm', 'Ts 15 cm', 'VWC', 'Active Layer', 'Water Table']\n",
      "\n",
      "['Wind Spd', 'air pressure', 'PPFD', 'Ts 2.5 cm', 'VWC', 'Active Layer', 'Rain', 'Water Table']\n",
      "Best:\n",
      "['Wind Spd', 'air pressure', 'Ta', 'PPFD', 'Ts 2.5 cm', 'VWC', 'Active Layer', 'Water Table'] 0.511663149941\n",
      "Level:  9\n",
      "\n",
      "['Wind Spd', 'air pressure', 'Ta', 'PPFD', 'Ts 2.5 cm', 'Ts 15 cm', 'VWC', 'Active Layer', 'Water Table']\n"
     ]
    },
    {
     "name": "stderr",
     "output_type": "stream",
     "text": [
      "Using TensorFlow backend.\n",
      "Using TensorFlow backend.\n"
     ]
    },
    {
     "name": "stdout",
     "output_type": "stream",
     "text": [
      "\n",
      "['Wind Spd', 'air pressure', 'Ta', 'PPFD', 'Ts 2.5 cm', 'VWC', 'Active Layer', 'Rain', 'Water Table']\n",
      "Best:\n",
      "['Wind Spd', 'air pressure', 'Ta', 'PPFD', 'Ts 2.5 cm', 'Ts 15 cm', 'VWC', 'Active Layer', 'Water Table'] 0.496501975081\n",
      "Level:  10\n",
      "\n",
      "['Wind Spd', 'air pressure', 'Ta', 'PPFD', 'Ts 2.5 cm', 'Ts 15 cm', 'VWC', 'Active Layer', 'Rain', 'Water Table']\n",
      "Best:\n",
      "['Wind Spd', 'air pressure', 'Ta', 'PPFD', 'Ts 2.5 cm', 'Ts 15 cm', 'VWC', 'Active Layer', 'Rain', 'Water Table'] 0.496708674764\n",
      "          CI       MSE                                             Models\n",
      "1   0.087558  0.740633                                        Model: PPFD\n",
      "2   0.078976  0.687858                               Model: Wind Spd+PPFD\n",
      "3   0.079336  0.626270                  Model: Wind Spd+PPFD+Active Layer\n",
      "4   0.072829  0.593767     Model: Wind Spd+air pressure+PPFD+Active Layer\n",
      "5   0.061484  0.528741  Model: Wind Spd+air pressure+PPFD+Active Layer...\n",
      "6   0.058545  0.525596  Model: Wind Spd+air pressure+PPFD+Ts 2.5 cm+Ac...\n",
      "7   0.053447  0.512880  Model: Wind Spd+air pressure+PPFD+Ts 2.5 cm+VW...\n",
      "8   0.056907  0.511663  Model: Wind Spd+air pressure+Ta+PPFD+Ts 2.5 cm...\n",
      "9   0.052498  0.496502  Model: Wind Spd+air pressure+Ta+PPFD+Ts 2.5 cm...\n",
      "10  0.049814  0.496709  Model: Wind Spd+air pressure+Ta+PPFD+Ts 2.5 cm...\n"
     ]
    },
    {
     "data": {
      "image/png": "[encoded data removed]",
      "text/plain": [
       "<matplotlib.figure.Figure at 0x7f3133150898>"
      ]
     },
     "metadata": {},
     "output_type": "display_data"
    }
   ],
   "source": [
    "def Combos(Model,L,factor=None):\n",
    "    Models=list()\n",
    "    for c in combinations(Model,L):\n",
    "        c = list(c)\n",
    "        if factor == None:\n",
    "            Models.append(c)\n",
    "        else:\n",
    "            if set(factor).issubset(set(c)):\n",
    "#             if factor in c:\n",
    "                Models.append(c)\n",
    "    return(Models)\n",
    "params['T']=Optimum['T'].values[0]\n",
    "params['N']=Optimum['N'].values[0]\n",
    "\n",
    "\n",
    "Results = RunReps(FullModel,params,pool,FullReturn=True)\n",
    "FullScore = Results[0]\n",
    "Data = Results[1]\n",
    "\n",
    "\n",
    "BestMSE = []\n",
    "BestSTD = []\n",
    "idx = []\n",
    "BestModels = []\n",
    "\n",
    "print(FullModel)\n",
    "\n",
    "for i in range(1,len(FullModel)+1):\n",
    "    print('Level: ',i)\n",
    "    if i == 1:\n",
    "        Models = Combos(FullModel,i)\n",
    "    else:\n",
    "        Models = Combos(FullModel,i,factor = Best)\n",
    "#     for model in Models:\n",
    "    Score = []\n",
    "    STD = []\n",
    "    Model_Names = []\n",
    "    \n",
    "    for model in Models:\n",
    "        print()\n",
    "        print(model)\n",
    "        Results = RunReps(model,params,pool)\n",
    "        MSE = Results[0]\n",
    "        Score.append(MSE.mean())\n",
    "        STD.append(MSE.std())\n",
    "        Data['Model: '+'+'.join(model)] = Results[1]\n",
    "        Model_Names.append('Model: '+'+'.join(model))\n",
    "        \n",
    "    Score = np.asanyarray(Score)\n",
    "    STD = np.asanyarray(STD)\n",
    "#     print(Model_Names)\n",
    "#     print(np.where(Score == Score.min())[0][0])\n",
    "    Best = Models[np.where(Score == Score.min())[0][0]]\n",
    "    Best_Name = Model_Names[np.where(Score == Score.min())[0][0]]\n",
    "    BestModels.append(Best_Name)\n",
    "    BestMSE.append(Score.min())\n",
    "    BestSTD.append(STD[np.where(Score == Score.min())[0][0]])\n",
    "    idx.append(i)\n",
    "    print('Best:')\n",
    "    print(Best,Score.min())\n",
    "BestModels = np.asanyarray(BestModels)\n",
    "BestMSE = np.asanyarray(BestMSE)\n",
    "BestSTD = np.asanyarray(BestSTD)\n",
    "idx = np.asanyarray(idx)\n",
    "BestSE = BestSTD/(params['reps']**.5)\n",
    "BestCI = BestSE*1.96\n",
    "plt.figure(figsize=(10,10))\n",
    "plt.bar(idx,BestMSE)\n",
    "plt.errorbar(idx,BestMSE,yerr=BestCI,color = 'black',fmt='o')\n",
    "\n",
    "d = {'Models':BestModels,'MSE':BestMSE,'CI':BestCI}\n",
    "Stats = pd.DataFrame(index=idx,data=d)\n",
    "Stats.to_csv('GapFillingSummary'+FillVar+'.csv')\n",
    "print(Stats)\n",
    "\n",
    "Data.to_csv('GapFilled'+FillVar+'.csv')"
   ]
  },
  {
   "cell_type": "code",
   "execution_count": 6,
   "metadata": {},
   "outputs": [
    {
     "name": "stdout",
     "output_type": "stream",
     "text": [
      "6881.1463923454285\n"
     ]
    }
   ],
   "source": [
    "\n",
    "if __name__=='__main__'and params['proc'] != 1:\n",
    "    pool.close()\n",
    "\n",
    "print(time.time()-Time)\n",
    "        "
   ]
  },
  {
   "cell_type": "code",
   "execution_count": 7,
   "metadata": {
    "collapsed": true
   },
   "outputs": [],
   "source": [
    "\n",
    "# d = {'Models':BestModels,'MSE':BestMSE,'STD':BestSTD}\n",
    "# Stats = pd.DataFrame(index=idx,data=d)\n",
    "# Stats.to_csv('GapFillingSummary'+FillVar+'.csv')\n",
    "# print(Stats)"
   ]
  },
  {
   "cell_type": "code",
   "execution_count": 8,
   "metadata": {},
   "outputs": [
    {
     "name": "stdout",
     "output_type": "stream",
     "text": [
      "[ 0.49670867]\n"
     ]
    }
   ],
   "source": [
    "print(Score)"
   ]
  },
  {
   "cell_type": "code",
   "execution_count": 9,
   "metadata": {},
   "outputs": [
    {
     "data": {
      "text/plain": [
       "<matplotlib.collections.PathCollection at 0x7f3132f756d8>"
      ]
     },
     "execution_count": 9,
     "metadata": {},
     "output_type": "execute_result"
    },
    {
     "data": {
      "image/png": "[encoded data removed]",
      "text/plain": [
       "<matplotlib.figure.Figure at 0x7f316886a160>"
      ]
     },
     "metadata": {},
     "output_type": "display_data"
    }
   ],
   "source": [
    "\n",
    "d = {'Models':BestModels,'MSE':BestMSE,'CI':BestCI}\n",
    "Stats = pd.DataFrame(index=idx,data=d)\n",
    "Stats.to_csv('GapFillingSummary'+FillVar+'.csv')\n",
    "# gp = GaussianProcessRegressor(kernel=kernel, alpha=Runs['STD'].values, random_state=1,normalize_y=True)\n",
    "# \n",
    "\n",
    "# gp.fit(Runs[['N','T']].values, Runs['MSE'].values)\n",
    "\n",
    "# next_x = query(Runs[['N','T']].values, Runs['MSE'].values, gp)\n",
    "# print(next_x)\n",
    "plt.scatter(Runs['N'],Runs['T'],c=Runs['MSE'],s=Runs['STD']*1e4)"
   ]
  },
  {
   "cell_type": "code",
   "execution_count": null,
   "metadata": {
    "collapsed": true
   },
   "outputs": [],
   "source": []
  }
 ],
 "metadata": {
  "kernelspec": {
   "display_name": "Python 3",
   "language": "python",
   "name": "python3"
  },
  "language_info": {
   "codemirror_mode": {
    "name": "ipython",
    "version": 3
   },
   "file_extension": ".py",
   "mimetype": "text/x-python",
   "name": "python",
   "nbconvert_exporter": "python",
   "pygments_lexer": "ipython3",
   "version": "3.5.2"
  }
 },
 "nbformat": 4,
 "nbformat_minor": 2
}
