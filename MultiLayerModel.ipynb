{
 "cells": [
  {
   "cell_type": "code",
   "execution_count": 27,
   "metadata": {
    "collapsed": true
   },
   "outputs": [],
   "source": [
    "import time\n",
    "import math\n",
    "import numpy as np\n",
    "import pandas as pd\n",
    "import matplotlib.pyplot as plt\n",
    "from itertools import combinations\n",
    "from functools import partial\n",
    "from multiprocessing import Pool\n",
    "from sklearn.preprocessing import StandardScaler\n",
    "from sklearn import metrics\n",
    "from sklearn.model_selection import RepeatedKFold\n",
    "import warnings\n",
    "warnings.filterwarnings('ignore')\n",
    "from sklearn.model_selection import train_test_split\n",
    "\n",
    "## Personal Modules\n",
    "import ReadStandardTimeFill as RSTF\n",
    "# import LSTM_Train as LSTM\n",
    "import importlib\n",
    "import LSTM\n",
    "importlib.reload(LSTM)\n",
    "\n",
    "%matplotlib inline\n",
    "%config IPCompleter.greedy=True\n",
    "\n",
    "from scipy.optimize import minimize\n",
    "from scipy.stats import norm\n",
    "from sklearn.gaussian_process import GaussianProcessRegressor\n",
    "from sklearn.gaussian_process.kernels import Matern, WhiteKernel, ConstantKernel\n",
    "from matplotlib import cm\n",
    "\n",
    "\n",
    "def upper_confidence_bound(mu_x, sigma_x, opt_value, kappa=-1.0):\n",
    "    return mu_x + kappa * sigma_x\n",
    "\n",
    "\n",
    "# kernel = Matern()#length_scale = [1,1],length_scale_bounds=\"fixed\")\n",
    "# kernel = ConstantKernel(1e0, (1e-2, 1e2))*Matern(1e1, (1e-4, 1e4),nu = 2.5)\\\n",
    "# + WhiteKernel(noise_level=1e0, noise_level_bounds=(1e-2, 1e2))\n",
    "acq = upper_confidence_bound\n",
    "def query(xi, yi, gp):\n",
    "    best_value = np.inf\n",
    "\n",
    "    for N in np.linspace(1,params['N_Max']):\n",
    "        for T in np.linspace(0,params['T_Max']):\n",
    "            def obj(x):\n",
    "                x=x.reshape(1,-1)\n",
    "                mu_x, sigma_x = gp.predict(x, return_std=True)\n",
    "#                 print(np.min(yi),np.max(yi))\n",
    "                return acq(mu_x, sigma_x, np.min(yi))\n",
    "            x0 = np.asanyarray([N,T]).reshape(1,2)\n",
    "            res = minimize(obj, x0, bounds=((1, params['N_Max']),(0,params['T_Max'])))\n",
    "\n",
    "            if res.fun < best_value:\n",
    "                best_value = res.fun\n",
    "                query_point = res.x\n",
    "    query_point = query_point\n",
    "    return query_point\n",
    "\n"
   ]
  },
  {
   "cell_type": "code",
   "execution_count": 28,
   "metadata": {},
   "outputs": [
    {
     "name": "stdout",
     "output_type": "stream",
     "text": [
      "     N   T  MSE  STD\n",
      "0   37   7  0.0  0.0\n",
      "1   68   9  0.0  0.0\n",
      "2   40  27  0.0  0.0\n",
      "3   75  47  0.0  0.0\n",
      "4    9  12  0.0  0.0\n",
      "5   60  24  0.0  0.0\n",
      "6   51  18  0.0  0.0\n",
      "7   74  25  0.0  0.0\n",
      "8   19  14  0.0  0.0\n",
      "9   14   7  0.0  0.0\n",
      "10  14  24  0.0  0.0\n",
      "11  92  26  0.0  0.0\n",
      "12  84  43  0.0  0.0\n",
      "13  62  36  0.0  0.0\n",
      "14  59  26  0.0  0.0\n",
      "{'epochs': 600, 'Y': 'fch4', 'T_Max': 48, 'proc': 3, 'N_Max': 100, 'Searches': 8, 'reps': 15, 'N_Min': 2}\n"
     ]
    },
    {
     "data": {
      "text/plain": [
       "<matplotlib.collections.PathCollection at 0x7f4e80434cc0>"
      ]
     },
     "execution_count": 28,
     "metadata": {},
     "output_type": "execute_result"
    },
    {
     "data": {
      "image/png": "[encoded data removed]",
      "text/plain": [
       "<matplotlib.figure.Figure at 0x7f4e804cf828>"
      ]
     },
     "metadata": {},
     "output_type": "display_data"
    }
   ],
   "source": [
    "FillVar = 'fch4'\n",
    "Runs,params = LSTM.Params('Full',FillVar,MP=True)# rpms.Runs,rpms.params\n",
    "Runs['MSE'] = 0.0\n",
    "Runs['STD'] = 0.0\n",
    "print(Runs)\n",
    "print(params)\n",
    "plt.figure(figsize = (4,4))\n",
    "plt.scatter(Runs[\"N\"],Runs['T'],s=100,c=Runs['MSE'])"
   ]
  },
  {
   "cell_type": "code",
   "execution_count": 29,
   "metadata": {
    "scrolled": false
   },
   "outputs": [
    {
     "name": "stderr",
     "output_type": "stream",
     "text": [
      "Using TensorFlow backend.\n",
      "Using TensorFlow backend.\n",
      "Using TensorFlow backend.\n"
     ]
    },
    {
     "name": "stdout",
     "output_type": "stream",
     "text": [
      "Finisehed Run  0\n",
      "Finisehed Run  1\n",
      "Finisehed Run  2\n",
      "Finisehed Run  3\n",
      "Finisehed Run  4\n",
      "Finisehed Run  5\n",
      "Finisehed Run  6\n",
      "Finisehed Run  7\n",
      "Finisehed Run  8\n",
      "Finisehed Run  9\n",
      "Finisehed Run  10\n",
      "Finisehed Run  11\n",
      "Finisehed Run  12\n",
      "Finisehed Run  13\n"
     ]
    },
    {
     "name": "stderr",
     "output_type": "stream",
     "text": [
      "Using TensorFlow backend.\n"
     ]
    },
    {
     "name": "stdout",
     "output_type": "stream",
     "text": [
      "Finisehed Run  14\n",
      "     N   T       MSE       STD\n",
      "0   37   7  0.584848  0.100694\n",
      "1   68   9  0.599205  0.094361\n",
      "2   40  27  0.621558  0.089314\n",
      "3   75  47  0.614457  0.109211\n",
      "4    9  12  0.608204  0.115647\n",
      "5   60  24  0.613343  0.169869\n",
      "6   51  18  0.600764  0.097371\n",
      "7   74  25  0.615666  0.098286\n",
      "8   19  14  0.578320  0.080641\n",
      "9   14   7  0.588574  0.064768\n",
      "10  14  24  0.595177  0.134043\n",
      "11  92  26  0.639176  0.133739\n",
      "12  84  43  0.639939  0.107343\n",
      "13  62  36  0.678781  0.130173\n",
      "14  59  26  0.615806  0.132660\n"
     ]
    },
    {
     "data": {
      "text/plain": [
       "<matplotlib.collections.PathCollection at 0x7f4e80ab6cf8>"
      ]
     },
     "execution_count": 29,
     "metadata": {},
     "output_type": "execute_result"
    },
    {
     "data": {
      "image/png": "[encoded data removed]",
      "text/plain": [
       "<matplotlib.figure.Figure at 0x7f4e808dd1d0>"
      ]
     },
     "metadata": {},
     "output_type": "display_data"
    },
    {
     "name": "stderr",
     "output_type": "stream",
     "text": [
      "Using TensorFlow backend.\n"
     ]
    },
    {
     "name": "stdout",
     "output_type": "stream",
     "text": [
      "Finisehed Run  "
     ]
    }
   ],
   "source": [
    "def TTV_Split(i,Memory,X,y,params,X_fill):\n",
    "    X_train,X_test,y_train,y_test=train_test_split(X,y, test_size=0.1, random_state=i)\n",
    "    X_train,X_val,y_train,y_val=train_test_split(X_train,y_train, test_size=0.11, random_state=i)\n",
    "    return(LSTM.Train_Steps(params['epochs'],params['N'],X_train,X_test,X_val,y_train,y_test,\n",
    "                            y_val,i,X_fill = X_fill,Memory=Memory))\n",
    "\n",
    "\n",
    "AllVars = ['H','LE','Fco2','fco2','fch4','Wind Spd','air pressure','Ta','Rn','PPFD','Rain','Water Table','Ts 2.5 cm',\n",
    "         'Ts 15 cm','VWC','Active Layer','24H Rain','Wtr Tbl Trnd','ET']\n",
    "\n",
    "FullModel = ['Wind Spd','air pressure','Ta','PPFD','Ts 2.5 cm','Ts 15 cm',\n",
    "         'VWC','Active Layer','Rain','Water Table']\n",
    "\n",
    "# FullModel = ['Wind Spd','air pressure','Water Table','PPFD','Ts 2.5 cm']\n",
    "\n",
    "Time = time.time()\n",
    "Path = 'FilteredData2018-04-04.csv'\n",
    "\n",
    "def RunReps(Model,params,pool = None,plot=False,FullReturn=False):\n",
    "    RST = RSTF.ReadStandardTimeFill(Path)\n",
    "    offset = 5/params['proc']\n",
    "    Memory = (math.floor(100/params['proc'])- offset) * .01\n",
    "    MSE = []\n",
    "    RST.Scale(params['Y'],Model)\n",
    "    RST.TimeShape(params['T'])\n",
    "    y = RST.y_time.copy()#*1.0\n",
    "    X = RST.X_time.copy()#*1.0\n",
    "    X_fill = RST.X_ftime.copy()\n",
    "    MSE = []\n",
    "    STD = []\n",
    "    Y_fill = []\n",
    "    if __name__=='__main__'and params['proc'] != 1:\n",
    "        for i,results in enumerate(pool.imap(partial(TTV_Split,Memory=Memory,X=X,y=y,params=params,X_fill=X_fill),\n",
    "                                             range(params['reps']))):\n",
    "            mse = results[0]\n",
    "            y_fill = results[1]\n",
    "            Y_fill.append(y_fill)\n",
    "            MSE.append(mse)\n",
    "    else:\n",
    "        for i in range(params['reps']):\n",
    "            results = TTV_Split(i,Memory,X,y,params,X_fill)\n",
    "            mse = results[0]\n",
    "            MSE.append(mse)\n",
    "            y_fill = results[1]\n",
    "            Y_fill.append(y_fill)\n",
    "    MSE = np.asanyarray(MSE)\n",
    "    Y_fill = np.asanyarray(Y_fill)\n",
    "    Y_fill = Y_fill.mean(axis=0)\n",
    "    FillVarName = 'Fch4'\n",
    "    RST.Fill(Y_fill,FillVarName)\n",
    "    if plot == True:\n",
    "        plt.figure(figsize=(5,5))\n",
    "        plt.plot(RST.Master['Fch4'],color='red')\n",
    "#         plt.plot(RST.Master['fch4'],color='grey')\n",
    "        plt.plot(RST.Master['TempFill'],color='blue',alpha=.5)  # This works\n",
    "        \n",
    "        yl = plt.ylim()\n",
    "#         plt.xlim(yl[0],yl[1])\n",
    "        plt.grid()\n",
    "    if FullReturn == False:\n",
    "        return(MSE,RST.Master['TempFill'])\n",
    "    else:\n",
    "        return(MSE,RST.Master)\n",
    "\n",
    "if __name__=='__main__'and params['proc'] != 1:\n",
    "    pool = Pool(processes=params['proc'],maxtasksperchild=75)\n",
    "else:pool=None\n",
    "    \n",
    "for i in Runs.index:\n",
    "    params['T']=Runs['T'].iloc[i]\n",
    "    params['N']=Runs['N'].iloc[i]\n",
    "    Results = RunReps(FullModel,params,pool)\n",
    "    MSE = Results[0]\n",
    "    Runs['MSE'][i]=MSE.mean()\n",
    "    Runs['STD'][i]=MSE.std()\n",
    "    print('Finisehed Run ',str(i))\n",
    "\n",
    "print(Runs)\n",
    "plt.scatter(Runs['N'],Runs['T'],c=Runs['MSE'],s=Runs['STD']*1e4)"
   ]
  },
  {
   "cell_type": "code",
   "execution_count": 30,
   "metadata": {
    "scrolled": false
   },
   "outputs": [
    {
     "name": "stdout",
     "output_type": "stream",
     "text": [
      "[ 17.10141841  11.67599647]\n",
      "17 12\n"
     ]
    },
    {
     "name": "stderr",
     "output_type": "stream",
     "text": [
      "Using TensorFlow backend.\n"
     ]
    },
    {
     "name": "stdout",
     "output_type": "stream",
     "text": [
      "[ 20.03108013  11.14765477]\n",
      "20 11\n",
      "[ 16.14206826  15.04045658]\n",
      "16 15\n",
      "[ 14.27699437  10.3239231 ]\n",
      "14 10\n",
      "[ 19.23387554  17.06093111]\n",
      "19 17\n",
      "[ 17.21357553   8.50367022]\n",
      "17 9\n",
      "[ 22.12272895  14.01700447]\n",
      "22 14\n",
      "[ 24.16671478  11.90728616]\n",
      "24 12\n",
      "         MSE   N       STD   T\n",
      "0   0.608204   9  0.115647  12\n",
      "1   0.588574  14  0.064768   7\n",
      "2   0.606548  14  0.075971  10\n",
      "3   0.595177  14  0.134043  24\n",
      "4   0.600141  16  0.073895  15\n",
      "5   0.616100  17  0.089448   9\n",
      "6   0.583450  17  0.088799  12\n",
      "7   0.578320  19  0.080641  14\n",
      "8   0.625460  19  0.116779  17\n",
      "9   0.605024  20  0.100519  11\n",
      "10  0.575099  22  0.078391  14\n",
      "11  0.567366  24  0.080474  12\n",
      "12  0.584848  37  0.100694   7\n",
      "13  0.621558  40  0.089314  27\n",
      "14  0.600764  51  0.097371  18\n",
      "15  0.615806  59  0.132660  26\n",
      "16  0.613343  60  0.169869  24\n",
      "17  0.678781  62  0.130173  36\n",
      "18  0.599205  68  0.094361   9\n",
      "19  0.615666  74  0.098286  25\n",
      "20  0.614457  75  0.109211  47\n",
      "21  0.639939  84  0.107343  43\n",
      "22  0.639176  92  0.133739  26\n",
      "Optimum:\n",
      "         MSE   N       STD   T\n",
      "11  0.567366  24  0.080474  12\n"
     ]
    },
    {
     "data": {
      "text/plain": [
       "<matplotlib.collections.PathCollection at 0x7f4e803feda0>"
      ]
     },
     "execution_count": 30,
     "metadata": {},
     "output_type": "execute_result"
    },
    {
     "data": {
      "image/png": "[encoded data removed]",
      "text/plain": [
       "<matplotlib.figure.Figure at 0x7f4e80a7c828>"
      ]
     },
     "metadata": {},
     "output_type": "display_data"
    }
   ],
   "source": [
    "\n",
    "for i in range(params['Searches']):\n",
    "    kernel = Matern(length_scale_bounds=\"fixed\") \n",
    "    gp = GaussianProcessRegressor(kernel=kernel, alpha=Runs['STD'].values, random_state=1,normalize_y=True)\n",
    "    gp.fit(Runs[['N','T']].values, Runs['MSE'].values)\n",
    "    \n",
    "    next_x = query(Runs[['N','T']].values, Runs['MSE'].values, gp)\n",
    "    print(next_x)\n",
    "    N = int(np.round(next_x[0],0))\n",
    "    T = int(np.round(next_x[1],0))\n",
    "    o = 0\n",
    "    while len(Runs.loc[(Runs['N']==N) & (Runs['T']==T)].index) != 0:\n",
    "        print('Adjust!')\n",
    "        o +=1\n",
    "        N += int(o*np.cos(o*np.pi))\n",
    "        if N < params['N_Min'] or N > params['N_Max']:\n",
    "            N -= int(o*np.cos(o*np.pi))\n",
    "        if o > 5:\n",
    "            T += 1\n",
    "    print(N,T)\n",
    "    d = {'N':N,'T':T,'MSE':0,'STD':0}\n",
    "    idx = Runs.index[-1] + 1\n",
    "    D2 = pd.DataFrame(data=d,index=[idx])\n",
    "    Runs = Runs.append(D2)\n",
    "    \n",
    "    params['T'] = T\n",
    "    params['N'] = N\n",
    "    \n",
    "    Results = RunReps(FullModel,params,pool)\n",
    "    MSE = Results[0]\n",
    "    \n",
    "    Runs['MSE'][idx]=MSE.mean()\n",
    "    Runs['STD'][idx]=MSE.std()\n",
    "    \n",
    "    Runs = Runs.sort_values(by = ['N','T']).reset_index(drop=True)\n",
    "    \n",
    "print(Runs)\n",
    "Optimum = Runs[Runs['MSE'] == Runs['MSE'].min()]\n",
    "print('Optimum:')\n",
    "print(Optimum)\n",
    "plt.scatter(Runs['N'],Runs['T'],c=Runs['MSE'],s=Runs['STD']*1e4)"
   ]
  },
  {
   "cell_type": "code",
   "execution_count": 31,
   "metadata": {
    "scrolled": false
   },
   "outputs": [
    {
     "name": "stdout",
     "output_type": "stream",
     "text": [
      "['Wind Spd', 'air pressure', 'Ta', 'PPFD', 'Ts 2.5 cm', 'Ts 15 cm', 'VWC', 'Active Layer', 'Rain', 'Water Table']\n",
      "Level:  1\n",
      "\n",
      "['Wind Spd']\n",
      "\n",
      "['air pressure']\n",
      "\n",
      "['Ta']\n",
      "\n",
      "['PPFD']\n",
      "\n",
      "['Ts 2.5 cm']\n",
      "\n",
      "['Ts 15 cm']\n"
     ]
    },
    {
     "name": "stderr",
     "output_type": "stream",
     "text": [
      "Using TensorFlow backend.\n",
      "Using TensorFlow backend.\n"
     ]
    },
    {
     "name": "stdout",
     "output_type": "stream",
     "text": [
      "\n",
      "['VWC']\n"
     ]
    },
    {
     "name": "stderr",
     "output_type": "stream",
     "text": [
      "Using TensorFlow backend.\n"
     ]
    },
    {
     "name": "stdout",
     "output_type": "stream",
     "text": [
      "\n",
      "['Active Layer']\n",
      "\n",
      "['Rain']\n",
      "\n",
      "['Water Table']\n",
      "['Model: Wind Spd', 'Model: air pressure', 'Model: Ta', 'Model: PPFD', 'Model: Ts 2.5 cm', 'Model: Ts 15 cm', 'Model: VWC', 'Model: Active Layer', 'Model: Rain', 'Model: Water Table']\n",
      "3\n",
      "Best:\n",
      "['PPFD'] 0.821903284409\n",
      "Level:  2\n",
      "\n",
      "['Wind Spd', 'PPFD']\n",
      "\n",
      "['air pressure', 'PPFD']\n",
      "\n",
      "['Ta', 'PPFD']\n",
      "\n",
      "['PPFD', 'Ts 2.5 cm']\n",
      "\n",
      "['PPFD', 'Ts 15 cm']\n",
      "\n",
      "['PPFD', 'VWC']\n",
      "\n",
      "['PPFD', 'Active Layer']\n",
      "\n",
      "['PPFD', 'Rain']\n",
      "\n",
      "['PPFD', 'Water Table']\n",
      "['Model: Wind Spd+PPFD', 'Model: air pressure+PPFD', 'Model: Ta+PPFD', 'Model: PPFD+Ts 2.5 cm', 'Model: PPFD+Ts 15 cm', 'Model: PPFD+VWC', 'Model: PPFD+Active Layer', 'Model: PPFD+Rain', 'Model: PPFD+Water Table']\n",
      "6\n",
      "Best:\n",
      "['PPFD', 'Active Layer'] 0.684702663533\n",
      "Level:  3\n",
      "\n",
      "['Wind Spd', 'PPFD', 'Active Layer']\n",
      "\n",
      "['air pressure', 'PPFD', 'Active Layer']\n"
     ]
    },
    {
     "name": "stderr",
     "output_type": "stream",
     "text": [
      "Using TensorFlow backend.\n",
      "Using TensorFlow backend.\n"
     ]
    },
    {
     "name": "stdout",
     "output_type": "stream",
     "text": [
      "\n",
      "['Ta', 'PPFD', 'Active Layer']\n",
      "\n",
      "['PPFD', 'Ts 2.5 cm', 'Active Layer']\n"
     ]
    },
    {
     "name": "stderr",
     "output_type": "stream",
     "text": [
      "Using TensorFlow backend.\n"
     ]
    },
    {
     "name": "stdout",
     "output_type": "stream",
     "text": [
      "\n",
      "['PPFD', 'Ts 15 cm', 'Active Layer']\n",
      "\n",
      "['PPFD', 'VWC', 'Active Layer']\n",
      "\n",
      "['PPFD', 'Active Layer', 'Rain']\n",
      "\n",
      "['PPFD', 'Active Layer', 'Water Table']\n",
      "['Model: Wind Spd+PPFD+Active Layer', 'Model: air pressure+PPFD+Active Layer', 'Model: Ta+PPFD+Active Layer', 'Model: PPFD+Ts 2.5 cm+Active Layer', 'Model: PPFD+Ts 15 cm+Active Layer', 'Model: PPFD+VWC+Active Layer', 'Model: PPFD+Active Layer+Rain', 'Model: PPFD+Active Layer+Water Table']\n",
      "1\n",
      "Best:\n",
      "['air pressure', 'PPFD', 'Active Layer'] 0.593767360496\n",
      "Level:  4\n",
      "\n",
      "['Wind Spd', 'air pressure', 'PPFD', 'Active Layer']\n",
      "\n",
      "['air pressure', 'Ta', 'PPFD', 'Active Layer']\n",
      "\n",
      "['air pressure', 'PPFD', 'Ts 2.5 cm', 'Active Layer']\n",
      "\n",
      "['air pressure', 'PPFD', 'Ts 15 cm', 'Active Layer']\n",
      "\n",
      "['air pressure', 'PPFD', 'VWC', 'Active Layer']\n",
      "\n",
      "['air pressure', 'PPFD', 'Active Layer', 'Rain']\n",
      "\n",
      "['air pressure', 'PPFD', 'Active Layer', 'Water Table']\n",
      "['Model: Wind Spd+air pressure+PPFD+Active Layer', 'Model: air pressure+Ta+PPFD+Active Layer', 'Model: air pressure+PPFD+Ts 2.5 cm+Active Layer', 'Model: air pressure+PPFD+Ts 15 cm+Active Layer', 'Model: air pressure+PPFD+VWC+Active Layer', 'Model: air pressure+PPFD+Active Layer+Rain', 'Model: air pressure+PPFD+Active Layer+Water Table']\n",
      "6\n",
      "Best:\n",
      "['air pressure', 'PPFD', 'Active Layer', 'Water Table'] 0.575393831961\n",
      "Level:  5\n",
      "\n",
      "['Wind Spd', 'air pressure', 'PPFD', 'Active Layer', 'Water Table']\n"
     ]
    },
    {
     "name": "stderr",
     "output_type": "stream",
     "text": [
      "Using TensorFlow backend.\n"
     ]
    },
    {
     "name": "stdout",
     "output_type": "stream",
     "text": [
      "\n",
      "['air pressure', 'Ta', 'PPFD', 'Active Layer', 'Water Table']\n",
      "\n",
      "['air pressure', 'PPFD', 'Ts 2.5 cm', 'Active Layer', 'Water Table']\n"
     ]
    },
    {
     "name": "stderr",
     "output_type": "stream",
     "text": [
      "Using TensorFlow backend.\n"
     ]
    },
    {
     "name": "stdout",
     "output_type": "stream",
     "text": [
      "\n",
      "['air pressure', 'PPFD', 'Ts 15 cm', 'Active Layer', 'Water Table']\n",
      "\n",
      "['air pressure', 'PPFD', 'VWC', 'Active Layer', 'Water Table']\n"
     ]
    },
    {
     "name": "stderr",
     "output_type": "stream",
     "text": [
      "Using TensorFlow backend.\n"
     ]
    },
    {
     "name": "stdout",
     "output_type": "stream",
     "text": [
      "\n",
      "['air pressure', 'PPFD', 'Active Layer', 'Rain', 'Water Table']\n",
      "['Model: Wind Spd+air pressure+PPFD+Active Layer+Water Table', 'Model: air pressure+Ta+PPFD+Active Layer+Water Table', 'Model: air pressure+PPFD+Ts 2.5 cm+Active Layer+Water Table', 'Model: air pressure+PPFD+Ts 15 cm+Active Layer+Water Table', 'Model: air pressure+PPFD+VWC+Active Layer+Water Table', 'Model: air pressure+PPFD+Active Layer+Rain+Water Table']\n",
      "5\n",
      "Best:\n",
      "['air pressure', 'PPFD', 'Active Layer', 'Rain', 'Water Table'] 0.582928088068\n",
      "Level:  6\n",
      "\n",
      "['Wind Spd', 'air pressure', 'PPFD', 'Active Layer', 'Rain', 'Water Table']\n",
      "\n",
      "['air pressure', 'Ta', 'PPFD', 'Active Layer', 'Rain', 'Water Table']\n",
      "\n",
      "['air pressure', 'PPFD', 'Ts 2.5 cm', 'Active Layer', 'Rain', 'Water Table']\n",
      "\n",
      "['air pressure', 'PPFD', 'Ts 15 cm', 'Active Layer', 'Rain', 'Water Table']\n",
      "\n",
      "['air pressure', 'PPFD', 'VWC', 'Active Layer', 'Rain', 'Water Table']\n",
      "['Model: Wind Spd+air pressure+PPFD+Active Layer+Rain+Water Table', 'Model: air pressure+Ta+PPFD+Active Layer+Rain+Water Table', 'Model: air pressure+PPFD+Ts 2.5 cm+Active Layer+Rain+Water Table', 'Model: air pressure+PPFD+Ts 15 cm+Active Layer+Rain+Water Table', 'Model: air pressure+PPFD+VWC+Active Layer+Rain+Water Table']\n",
      "4\n",
      "Best:\n",
      "['air pressure', 'PPFD', 'VWC', 'Active Layer', 'Rain', 'Water Table'] 0.577413211878\n",
      "Level:  7\n",
      "\n",
      "['Wind Spd', 'air pressure', 'PPFD', 'VWC', 'Active Layer', 'Rain', 'Water Table']\n",
      "\n",
      "['air pressure', 'Ta', 'PPFD', 'VWC', 'Active Layer', 'Rain', 'Water Table']\n",
      "\n",
      "['air pressure', 'PPFD', 'Ts 2.5 cm', 'VWC', 'Active Layer', 'Rain', 'Water Table']\n",
      "\n",
      "['air pressure', 'PPFD', 'Ts 15 cm', 'VWC', 'Active Layer', 'Rain', 'Water Table']\n",
      "['Model: Wind Spd+air pressure+PPFD+VWC+Active Layer+Rain+Water Table', 'Model: air pressure+Ta+PPFD+VWC+Active Layer+Rain+Water Table', 'Model: air pressure+PPFD+Ts 2.5 cm+VWC+Active Layer+Rain+Water Table', 'Model: air pressure+PPFD+Ts 15 cm+VWC+Active Layer+Rain+Water Table']\n",
      "0\n",
      "Best:\n",
      "['Wind Spd', 'air pressure', 'PPFD', 'VWC', 'Active Layer', 'Rain', 'Water Table'] 0.570286189161\n",
      "Level:  8\n",
      "\n",
      "['Wind Spd', 'air pressure', 'Ta', 'PPFD', 'VWC', 'Active Layer', 'Rain', 'Water Table']\n"
     ]
    },
    {
     "name": "stderr",
     "output_type": "stream",
     "text": [
      "Using TensorFlow backend.\n"
     ]
    },
    {
     "name": "stdout",
     "output_type": "stream",
     "text": [
      "\n",
      "['Wind Spd', 'air pressure', 'PPFD', 'Ts 2.5 cm', 'VWC', 'Active Layer', 'Rain', 'Water Table']\n",
      "\n",
      "['Wind Spd', 'air pressure', 'PPFD', 'Ts 15 cm', 'VWC', 'Active Layer', 'Rain', 'Water Table']\n"
     ]
    },
    {
     "name": "stderr",
     "output_type": "stream",
     "text": [
      "Using TensorFlow backend.\n"
     ]
    },
    {
     "name": "stdout",
     "output_type": "stream",
     "text": [
      "['Model: Wind Spd+air pressure+Ta+PPFD+VWC+Active Layer+Rain+Water Table', 'Model: Wind Spd+air pressure+PPFD+Ts 2.5 cm+VWC+Active Layer+Rain+Water Table', 'Model: Wind Spd+air pressure+PPFD+Ts 15 cm+VWC+Active Layer+Rain+Water Table']\n",
      "0\n",
      "Best:\n",
      "['Wind Spd', 'air pressure', 'Ta', 'PPFD', 'VWC', 'Active Layer', 'Rain', 'Water Table'] 0.576190188056\n",
      "Level:  9\n",
      "\n",
      "['Wind Spd', 'air pressure', 'Ta', 'PPFD', 'Ts 2.5 cm', 'VWC', 'Active Layer', 'Rain', 'Water Table']\n",
      "\n",
      "['Wind Spd', 'air pressure', 'Ta', 'PPFD', 'Ts 15 cm', 'VWC', 'Active Layer', 'Rain', 'Water Table']\n"
     ]
    },
    {
     "name": "stderr",
     "output_type": "stream",
     "text": [
      "Using TensorFlow backend.\n"
     ]
    },
    {
     "name": "stdout",
     "output_type": "stream",
     "text": [
      "['Model: Wind Spd+air pressure+Ta+PPFD+Ts 2.5 cm+VWC+Active Layer+Rain+Water Table', 'Model: Wind Spd+air pressure+Ta+PPFD+Ts 15 cm+VWC+Active Layer+Rain+Water Table']\n",
      "1\n",
      "Best:\n",
      "['Wind Spd', 'air pressure', 'Ta', 'PPFD', 'Ts 15 cm', 'VWC', 'Active Layer', 'Rain', 'Water Table'] 0.568709313868\n",
      "Level:  10\n",
      "\n",
      "['Wind Spd', 'air pressure', 'Ta', 'PPFD', 'Ts 2.5 cm', 'Ts 15 cm', 'VWC', 'Active Layer', 'Rain', 'Water Table']\n",
      "['Model: Wind Spd+air pressure+Ta+PPFD+Ts 2.5 cm+Ts 15 cm+VWC+Active Layer+Rain+Water Table']\n",
      "0\n",
      "Best:\n",
      "['Wind Spd', 'air pressure', 'Ta', 'PPFD', 'Ts 2.5 cm', 'Ts 15 cm', 'VWC', 'Active Layer', 'Rain', 'Water Table'] 0.566248613696\n",
      "          CI       MSE                                             Models\n",
      "1   0.069218  0.821903                                        Model: PPFD\n",
      "2   0.057146  0.684703                           Model: PPFD+Active Layer\n",
      "3   0.063417  0.593767              Model: air pressure+PPFD+Active Layer\n",
      "4   0.056766  0.575394  Model: air pressure+PPFD+Active Layer+Water Table\n",
      "5   0.050320  0.582928  Model: air pressure+PPFD+Active Layer+Rain+Wat...\n",
      "6   0.048735  0.577413  Model: air pressure+PPFD+VWC+Active Layer+Rain...\n",
      "7   0.053287  0.570286  Model: Wind Spd+air pressure+PPFD+VWC+Active L...\n",
      "8   0.052240  0.576190  Model: Wind Spd+air pressure+Ta+PPFD+VWC+Activ...\n",
      "9   0.048748  0.568709  Model: Wind Spd+air pressure+Ta+PPFD+Ts 15 cm+...\n",
      "10  0.039533  0.566249  Model: Wind Spd+air pressure+Ta+PPFD+Ts 2.5 cm...\n"
     ]
    },
    {
     "data": {
      "image/png": "[encoded data removed]",
      "text/plain": [
       "<matplotlib.figure.Figure at 0x7f4e8004b588>"
      ]
     },
     "metadata": {},
     "output_type": "display_data"
    }
   ],
   "source": [
    "def Combos(Model,L,factor=None):\n",
    "    Models=list()\n",
    "    for c in combinations(Model,L):\n",
    "        c = list(c)\n",
    "        if factor == None:\n",
    "            Models.append(c)\n",
    "        else:\n",
    "            if set(factor).issubset(set(c)):\n",
    "#             if factor in c:\n",
    "                Models.append(c)\n",
    "    return(Models)\n",
    "params['T']=Optimum['T'].values[0]\n",
    "params['N']=Optimum['N'].values[0]\n",
    "\n",
    "\n",
    "Results = RunReps(FullModel,params,pool,FullReturn=True)\n",
    "FullScore = Results[0]\n",
    "Data = Results[1]\n",
    "\n",
    "\n",
    "BestMSE = []\n",
    "BestSTD = []\n",
    "idx = []\n",
    "BestModels = []\n",
    "\n",
    "print(FullModel)\n",
    "\n",
    "for i in range(1,len(FullModel)+1):\n",
    "    print('Level: ',i)\n",
    "    if i == 1:\n",
    "        Models = Combos(FullModel,i)\n",
    "    else:\n",
    "        Models = Combos(FullModel,i,factor = Best)\n",
    "#     for model in Models:\n",
    "    Score = []\n",
    "    STD = []\n",
    "    Model_Names = []\n",
    "    \n",
    "    for model in Models:\n",
    "        print()\n",
    "        print(model)\n",
    "        Results = RunReps(model,params,pool)\n",
    "        MSE = Results[0]\n",
    "        Score.append(MSE.mean())\n",
    "        STD.append(MSE.std())\n",
    "        Data['Model: '+'+'.join(model)] = Results[1]\n",
    "        Model_Names.append('Model: '+'+'.join(model))\n",
    "        \n",
    "    Score = np.asanyarray(Score)\n",
    "    STD = np.asanyarray(STD)\n",
    "#     print(Model_Names)\n",
    "#     print(np.where(Score == Score.min())[0][0])\n",
    "    Best = Models[np.where(Score == Score.min())[0][0]]\n",
    "    Best_Name = Model_Names[np.where(Score == Score.min())[0][0]]\n",
    "    BestModels.append(Best_Name)\n",
    "    BestMSE.append(Score.min())\n",
    "    BestSTD.append(STD[np.where(Score == Score.min())[0][0]])\n",
    "    idx.append(i)\n",
    "    print('Best:')\n",
    "    print(Best,Score.min())\n",
    "BestModels = np.asanyarray(BestModels)\n",
    "BestMSE = np.asanyarray(BestMSE)\n",
    "BestSTD = np.asanyarray(BestSTD)\n",
    "idx = np.asanyarray(idx)\n",
    "BestSE = BestSTD/(params['reps']**.5)\n",
    "BestCI = BestSE*1.96\n",
    "plt.figure(figsize=(10,10))\n",
    "plt.bar(idx,BestMSE)\n",
    "plt.errorbar(idx,BestMSE,yerr=BestCI,color = 'black',fmt='o')\n",
    "\n",
    "d = {'Models':BestModels,'MSE':BestMSE,'CI':BestCI}\n",
    "Stats = pd.DataFrame(index=idx,data=d)\n",
    "Stats.to_csv('GapFillingSummary'+FillVar+'.csv')\n",
    "print(Stats)\n",
    "\n",
    "Data.to_csv('GapFilled'+FillVar+'.csv')"
   ]
  },
  {
   "cell_type": "code",
   "execution_count": 32,
   "metadata": {},
   "outputs": [
    {
     "name": "stdout",
     "output_type": "stream",
     "text": [
      "9378.204512357712\n"
     ]
    }
   ],
   "source": [
    "\n",
    "if __name__=='__main__'and params['proc'] != 1:\n",
    "    pool.close()\n",
    "\n",
    "print(time.time()-Time)\n",
    "        "
   ]
  },
  {
   "cell_type": "code",
   "execution_count": 33,
   "metadata": {},
   "outputs": [],
   "source": [
    "\n",
    "# d = {'Models':BestModels,'MSE':BestMSE,'STD':BestSTD}\n",
    "# Stats = pd.DataFrame(index=idx,data=d)\n",
    "# Stats.to_csv('GapFillingSummary'+FillVar+'.csv')\n",
    "# print(Stats)"
   ]
  },
  {
   "cell_type": "code",
   "execution_count": 34,
   "metadata": {},
   "outputs": [
    {
     "name": "stdout",
     "output_type": "stream",
     "text": [
      "[ 0.56624861]\n"
     ]
    }
   ],
   "source": [
    "print(Score)"
   ]
  },
  {
   "cell_type": "code",
   "execution_count": 35,
   "metadata": {},
   "outputs": [
    {
     "data": {
      "text/plain": [
       "<matplotlib.collections.PathCollection at 0x7f4e802ff400>"
      ]
     },
     "execution_count": 35,
     "metadata": {},
     "output_type": "execute_result"
    },
    {
     "data": {
      "image/png": "[encoded data removed]",
      "text/plain": [
       "<matplotlib.figure.Figure at 0x7f4e803f8518>"
      ]
     },
     "metadata": {},
     "output_type": "display_data"
    }
   ],
   "source": [
    "\n",
    "d = {'Models':BestModels,'MSE':BestMSE,'CI':BestCI}\n",
    "Stats = pd.DataFrame(index=idx,data=d)\n",
    "Stats.to_csv('GapFillingSummary'+FillVar+'.csv')\n",
    "# gp = GaussianProcessRegressor(kernel=kernel, alpha=Runs['STD'].values, random_state=1,normalize_y=True)\n",
    "# \n",
    "\n",
    "# gp.fit(Runs[['N','T']].values, Runs['MSE'].values)\n",
    "\n",
    "# next_x = query(Runs[['N','T']].values, Runs['MSE'].values, gp)\n",
    "# print(next_x)\n",
    "plt.scatter(Runs['N'],Runs['T'],c=Runs['MSE'],s=Runs['STD']*1e4)"
   ]
  },
  {
   "cell_type": "code",
   "execution_count": null,
   "metadata": {
    "collapsed": true
   },
   "outputs": [],
   "source": []
  }
 ],
 "metadata": {
  "kernelspec": {
   "display_name": "Python 3",
   "language": "python",
   "name": "python3"
  },
  "language_info": {
   "codemirror_mode": {
    "name": "ipython",
    "version": 3
   },
   "file_extension": ".py",
   "mimetype": "text/x-python",
   "name": "python",
   "nbconvert_exporter": "python",
   "pygments_lexer": "ipython3",
   "version": "3.5.2"
  }
 },
 "nbformat": 4,
 "nbformat_minor": 2
}
