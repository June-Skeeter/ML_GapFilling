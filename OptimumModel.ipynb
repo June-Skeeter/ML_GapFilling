{
 "cells": [
  {
   "cell_type": "markdown",
   "metadata": {},
   "source": [
    "##  Optimze and a Dense Neural Network for gap filling and feature identification\n",
    "\n",
    "** With a few tweaks to RepRunner, an LSTM can be run instead"
   ]
  },
  {
   "cell_type": "code",
   "execution_count": 11,
   "metadata": {
    "collapsed": true
   },
   "outputs": [],
   "source": [
    "import time\n",
    "import math\n",
    "import numpy as np\n",
    "import pandas as pd\n",
    "import matplotlib.pyplot as plt\n",
    "from itertools import combinations\n",
    "from functools import partial\n",
    "from multiprocessing import Pool\n",
    "from sklearn.preprocessing import StandardScaler\n",
    "from sklearn import metrics\n",
    "from sklearn.model_selection import RepeatedKFold\n",
    "# import warnings\n",
    "# warnings.filterwarnings('ignore')\n",
    "from sklearn.model_selection import train_test_split\n",
    "\n",
    "## Personal Modules\n",
    "import ReadStandardTimeFill as RSTF\n",
    "# import LSTM_Train as LSTM\n",
    "import importlib\n",
    "import LSTM\n",
    "import DenseNet as Dense\n",
    "importlib.reload(LSTM)\n",
    "importlib.reload(Dense)\n",
    "importlib.reload(RSTF)\n",
    "\n",
    "%matplotlib inline\n",
    "%config IPCompleter.greedy=True\n",
    "\n",
    "from scipy.optimize import minimize, curve_fit\n",
    "from scipy.stats import norm\n",
    "from sklearn.gaussian_process import GaussianProcessRegressor\n",
    "from sklearn.gaussian_process.kernels import Matern, WhiteKernel, ConstantKernel\n",
    "from matplotlib import cm\n",
    "\n",
    "from scipy import stats\n",
    "from statsmodels.stats.multicomp import pairwise_tukeyhsd\n",
    "# pool.close()"
   ]
  },
  {
   "cell_type": "code",
   "execution_count": 12,
   "metadata": {
    "collapsed": true
   },
   "outputs": [],
   "source": [
    "def Curve(x,a,b,c):\n",
    "    return (a/(b+x)**c)\n",
    "\n",
    "def Combos(Model,L,factor=None):\n",
    "    Models=list()\n",
    "    for c in combinations(Model,L):\n",
    "        c = list(c)\n",
    "        if factor is None:\n",
    "            Models.append(c)\n",
    "        else:\n",
    "            for f in factor:\n",
    "                f = f.split('+')\n",
    "                if set(f).issubset(set(c)) and c not in Models:\n",
    "                    Models.append(c)\n",
    "    return(Models)\n",
    "\n",
    "def RunReps(Model,params,pool = None,plot=False,FullReturn=False):\n",
    "    RST = RSTF.ReadStandardTimeFill(Path)\n",
    "    offset = 5/params['proc']\n",
    "    Memory = (math.floor(100/params['proc'])- offset) * .01\n",
    "    MSE = []\n",
    "    RST.Scale(params['Y'],Model)\n",
    "    if params['T'] >0:\n",
    "        RST.TimeShape(params['T'])\n",
    "    y = RST.y*1.0\n",
    "    X = RST.X*1.0\n",
    "    X_fill = RST.X_fill*1.0\n",
    "    MSE = []\n",
    "    R2 =[]\n",
    "    Y_fill = []\n",
    "    Yval = []\n",
    "    y_val= []\n",
    "    if __name__=='__main__'and params['proc'] != 1:\n",
    "        for i,results in enumerate(pool.imap(partial(TTV_Split,Memory=Memory,X=X,y=y,params=params,X_fill=X_fill),\n",
    "                                             range(params['K']))):\n",
    "            MSE.append(results[0])\n",
    "            R2 .append(results[4])\n",
    "            Y_fill.append(results[1])\n",
    "            Yval.append(results[2])\n",
    "            y_val.append(results[3])\n",
    "    else:\n",
    "        for i in range(params['K']):\n",
    "            results = TTV_Split(i,Memory,X,y,params,X_fill)\n",
    "            MSE.append(results[0])\n",
    "            R2 .append(results[4])\n",
    "            Y_fill.append(results[1])\n",
    "            Yval.append(results[2])\n",
    "            y_val.append(results[3])\n",
    "    MSE = np.asanyarray(MSE)\n",
    "    R2 = np.asanyarray(R2)\n",
    "    Y_fill = np.asanyarray(Y_fill)\n",
    "    Y_fill = Y_fill.mean(axis=0)\n",
    "    Yval = np.asanyarray(Yval)\n",
    "    Yval = Yval.mean(axis=0)\n",
    "    y_val = np.asanyarray(y_val)\n",
    "    y_val = y_val.mean(axis=0)  \n",
    "    FillVarName = FillVar.replace('f','F')\n",
    "    RST.Fill(Y_fill,FillVarName)   \n",
    "    if FullReturn == False:\n",
    "        return(MSE,RST.Master['TempFill'],R2)\n",
    "    else:\n",
    "        return(MSE,RST.Master,R2)\n",
    "def TTV_Split(iteration,Memory,X,y,params,X_fill):\n",
    "    X_train,X_test,y_train,y_test=train_test_split(X,y, test_size=0.1, random_state=iteration)\n",
    "    X_train,X_val,y_train,y_val=train_test_split(X_train,y_train, test_size=0.11, random_state=iteration)\n",
    "    return(Dense.Train_Steps(params['epochs'],params['N'],X_train,X_test,X_val,y_train,y_test,\n",
    "                            y_val,iteration,X_fill = X_fill,Memory=Memory))"
   ]
  },
  {
   "cell_type": "code",
   "execution_count": 13,
   "metadata": {},
   "outputs": [
    {
     "name": "stdout",
     "output_type": "stream",
     "text": [
      "{'proc': 1, 'K': 3, 'epochs': 100, 'Y': 'fch4'}\n"
     ]
    }
   ],
   "source": [
    "FillVar = 'fch4'\n",
    "FullModel = ['H','wind_speed','air_pressure','PPFD_Avg','AirTC_Avg',\n",
    "             'VPD','Temp','VWC','Sedge','Shrub','Grass','Sparse','Out_of_Basin']\n",
    "FullModel = ['PPFD_Avg','AirTC_Avg','Sedge','VWC','Grass']\n",
    "Runs,params = Dense.Params('Test',FillVar,MP=False)\n",
    "print(params)"
   ]
  },
  {
   "cell_type": "code",
   "execution_count": 14,
   "metadata": {
    "scrolled": false
   },
   "outputs": [
    {
     "name": "stdout",
     "output_type": "stream",
     "text": [
      "   N       MSE        R2\n",
      "0  4  0.761196  0.460404\n",
      "1  4  0.780138  0.263143\n",
      "2  4  0.776469  0.310325\n",
      "    N       MSE        R2\n",
      "3  16  0.438240  0.689341\n",
      "4  16  0.608550  0.425211\n",
      "5  16  0.583268  0.481930\n",
      "    N       MSE        R2\n",
      "6  36  0.442447  0.686359\n",
      "7  36  0.555777  0.475056\n",
      "8  36  0.554761  0.507250\n",
      "     N       MSE        R2\n",
      "9   64  0.412466  0.707612\n",
      "10  64  0.547421  0.482949\n",
      "11  64  0.565445  0.497761\n",
      "      N       MSE        R2\n",
      "12  100  0.410336  0.709122\n",
      "13  100  0.557604  0.473331\n",
      "14  100  0.575042  0.489236\n"
     ]
    }
   ],
   "source": [
    "Time = time.time()\n",
    "Path = 'Data_Footprints_2018-06-12.csv'\n",
    "\n",
    "if __name__=='__main__'and params['proc'] != 1:\n",
    "    pool = Pool(processes=params['proc'],maxtasksperchild=75)\n",
    "else:pool=None\n",
    "    \n",
    "def RunLoop(Runs):\n",
    "    for N in Runs['N'].unique():\n",
    "        params['T'] = 0\n",
    "        params['N']=N\n",
    "        Results = RunReps(FullModel,params,pool,plot=True)\n",
    "        MSE = Results[0]\n",
    "        R2 = Results[2]\n",
    "        Runs.loc[Runs['N']==N,'MSE']=MSE\n",
    "        Runs.loc[Runs['N']==N,'R2']=R2\n",
    "        print(Runs.loc[Runs['N']==N])\n",
    "    return(Runs)\n",
    "\n",
    "Runs = RunLoop(Runs)"
   ]
  },
  {
   "cell_type": "markdown",
   "metadata": {},
   "source": [
    "# The \"Optimum\" Sized Model"
   ]
  },
  {
   "cell_type": "code",
   "execution_count": 15,
   "metadata": {
    "scrolled": false
   },
   "outputs": [
    {
     "name": "stdout",
     "output_type": "stream",
     "text": [
      "          MSE        R2        SD        SE\n",
      "N                                          \n",
      "4    0.772601  0.344624  0.010046  0.005800\n",
      "16   0.543353  0.532161  0.091904  0.053061\n",
      "36   0.517662  0.556222  0.065140  0.037609\n",
      "64   0.508444  0.562774  0.083606  0.048270\n",
      "100  0.514327  0.557230  0.090480  0.052239\n"
     ]
    },
    {
     "name": "stderr",
     "output_type": "stream",
     "text": [
      "C:\\Anaconda3\\lib\\site-packages\\ipykernel_launcher.py:2: RuntimeWarning: invalid value encountered in power\n",
      "  \n"
     ]
    },
    {
     "data": {
      "image/png": "[encoded data removed]",
      "text/plain": [
       "<matplotlib.figure.Figure at 0x21c2f344f60>"
      ]
     },
     "metadata": {},
     "output_type": "display_data"
    },
    {
     "name": "stdout",
     "output_type": "stream",
     "text": [
      "9 0.556714190434\n",
      "78.38413858413696\n"
     ]
    }
   ],
   "source": [
    "\n",
    "Group = Runs.groupby('N').mean()\n",
    "Group['SD'] = Runs[['N','MSE']].groupby('N').std()\n",
    "Group['SE'] = Runs[['N','MSE']].groupby('N').sem()\n",
    "\n",
    "print(Group)\n",
    "Min = Group.loc[Group['MSE']==Group['MSE'].min()]\n",
    "\n",
    "fig,ax = plt.subplots(figsize=(8,8))\n",
    "ax.scatter(Runs['N'],Runs['MSE'])\n",
    "popt, pcov = curve_fit(Curve, Runs['N'].values, Runs['MSE'].values)\n",
    "N = np.arange(Runs['N'].min(),Runs['N'].max())\n",
    "Fit = Curve(N,*popt)\n",
    "ax.plot(N,Fit,color='r')\n",
    "Max = (Min['MSE']+Min['SE']).values[0]\n",
    "ax.plot(N,N*0+Max,color = 'black')\n",
    "plt.grid()\n",
    "plt.show()\n",
    "try:\n",
    "    params['N']=N[Fit<Max].min()\n",
    "except:\n",
    "    params['N']=N[-1]\n",
    "    pass\n",
    "print(params['N'],Max)\n",
    "print(time.time()-Time)"
   ]
  },
  {
   "cell_type": "markdown",
   "metadata": {},
   "source": [
    "# Feature Identification"
   ]
  },
  {
   "cell_type": "code",
   "execution_count": null,
   "metadata": {},
   "outputs": [
    {
     "name": "stdout",
     "output_type": "stream",
     "text": [
      "        MSE        R2  Level  Key                               Model\n",
      "0  0.517845  0.632911      5  5_0  PPFD_Avg+AirTC_Avg+Sedge+VWC+Grass\n",
      "1  0.630649  0.404338      5  5_0  PPFD_Avg+AirTC_Avg+Sedge+VWC+Grass\n",
      "2  0.627334  0.442789      5  5_0  PPFD_Avg+AirTC_Avg+Sedge+VWC+Grass\n"
     ]
    }
   ],
   "source": [
    "Scores = Runs[['MSE','R2']].reset_index(drop=True)\n",
    "Scores = (Scores.iloc[0:params['K']])*0\n",
    "Scores['Level'] = len(FullModel)\n",
    "Scores['Key'] = str(Scores['Level'][0])+'_0'\n",
    "Scores['Model'] = '+'.join(FullModel)\n",
    "\n",
    "Results = RunReps(FullModel,params,pool)\n",
    "\n",
    "MSE = Results[0]\n",
    "R2 = Results[2]\n",
    "mean,std = MSE.mean(),MSE.std()\n",
    "CI = std/params['K']**.5*stats.t.ppf(1-0.05, params['K']-1)\n",
    "Scores['MSE']=MSE#mean\n",
    "Scores['R2']=R2#.mean()\n",
    "\n",
    "ModelRuns = Results[1]\n",
    "ModelRuns = ModelRuns.to_frame()\n",
    "ModelRuns['Model: '+'+'.join(FullModel)]=ModelRuns['TempFill']\n",
    "ModelRuns=ModelRuns.drop('TempFill',axis=1)\n",
    "print(Scores)"
   ]
  },
  {
   "cell_type": "code",
   "execution_count": null,
   "metadata": {
    "scrolled": false
   },
   "outputs": [
    {
     "name": "stdout",
     "output_type": "stream",
     "text": [
      "Level:  1\n",
      "   Key  Level       MSE     Model        R2\n",
      "3  1_0      1  1.381582  PPFD_Avg  0.020626\n",
      "4  1_0      1  1.034206  PPFD_Avg  0.023170\n",
      "5  1_0      1  1.126352  PPFD_Avg -0.000448\n",
      "   Key  Level       MSE      Model        R2\n",
      "6  1_1      1  1.272274  AirTC_Avg  0.098112\n",
      "7  1_1      1  0.977712  AirTC_Avg  0.076530\n",
      "8  1_1      1  1.101049  AirTC_Avg  0.022026\n",
      "    Key  Level       MSE  Model        R2\n",
      "9   1_2      1  1.158604  Sedge  0.178691\n",
      "10  1_2      1  0.965853  Sedge  0.087731\n",
      "11  1_2      1  1.034380  Sedge  0.081243\n",
      "    Key  Level       MSE Model        R2\n",
      "12  1_3      1  1.278049   VWC  0.094018\n",
      "13  1_3      1  1.032849   VWC  0.024452\n",
      "14  1_3      1  1.032039   VWC  0.083322\n",
      "    Key  Level       MSE  Model        R2\n",
      "15  1_4      1  1.325151  Grass  0.060629\n",
      "16  1_4      1  1.008807  Grass  0.047160\n",
      "17  1_4      1  1.023500  Grass  0.090906\n",
      "['Sedge']\n",
      "Level:  2\n",
      "    Key  Level       MSE           Model        R2\n",
      "18  2_0      2  0.997542  PPFD_Avg+Sedge  0.292863\n",
      "19  2_0      2  0.937511  PPFD_Avg+Sedge  0.114500\n",
      "20  2_0      2  0.944983  PPFD_Avg+Sedge  0.160647\n",
      "    Key  Level       MSE            Model        R2\n",
      "21  2_1      2  1.115730  AirTC_Avg+Sedge  0.209083\n",
      "22  2_1      2  0.956452  AirTC_Avg+Sedge  0.096610\n",
      "23  2_1      2  0.946213  AirTC_Avg+Sedge  0.159554\n",
      "    Key  Level       MSE      Model        R2\n",
      "24  2_2      2  0.635695  Sedge+VWC  0.549369\n",
      "25  2_2      2  0.757174  Sedge+VWC  0.284833\n",
      "26  2_2      2  0.669620  Sedge+VWC  0.405230\n",
      "    Key  Level       MSE        Model        R2\n",
      "27  2_3      2  1.172966  Sedge+Grass  0.168509\n",
      "28  2_3      2  0.935735  Sedge+Grass  0.116178\n",
      "29  2_3      2  0.995828  Sedge+Grass  0.115485\n",
      "['Sedge+VWC']\n",
      "Level:  3\n",
      "    Key  Level       MSE               Model        R2\n",
      "30  3_0      3  0.605392  PPFD_Avg+Sedge+VWC  0.570851\n",
      "31  3_0      3  0.754093  PPFD_Avg+Sedge+VWC  0.287743\n",
      "32  3_0      3  0.741594  PPFD_Avg+Sedge+VWC  0.341302\n",
      "    Key  Level       MSE                Model        R2\n",
      "33  3_1      3  0.622040  AirTC_Avg+Sedge+VWC  0.559049\n",
      "34  3_1      3  0.697718  AirTC_Avg+Sedge+VWC  0.340990\n",
      "35  3_1      3  0.606909  AirTC_Avg+Sedge+VWC  0.460932\n",
      "    Key  Level       MSE            Model        R2\n",
      "36  3_2      3  0.577952  Sedge+VWC+Grass  0.590302\n",
      "37  3_2      3  0.668577  Sedge+VWC+Grass  0.368514\n",
      "38  3_2      3  0.654901  Sedge+VWC+Grass  0.418303\n",
      "['Sedge+VWC+Grass']\n",
      "Level:  4\n"
     ]
    }
   ],
   "source": [
    "for i in range(1,len(FullModel)):\n",
    "    print('Level: ',i)\n",
    "    if i == 1:\n",
    "        Models = Combos(FullModel,i)\n",
    "    else:\n",
    "        Models = Combos(FullModel,i,factor = Best)\n",
    "    Values = []\n",
    "    Names = []\n",
    "    for i,model in enumerate(Models):\n",
    "        level = len(model)\n",
    "        key = str(level)+'_'+str(i)\n",
    "        Name = '+'.join(model)\n",
    "        NewRow = Scores.iloc[-1].copy()\n",
    "        NewRow['Model'] = 'Model: '+Name\n",
    "        Results = RunReps(model,params,pool)\n",
    "        MSE = Results[0]\n",
    "        R2 = Results[2]\n",
    "        d = {'Model':'+'.join(model),'MSE':MSE,'Key':key,'R2':R2,'Level':level}#,'Best':'N'\n",
    "        score = pd.DataFrame(index=[x for x in range(params['K'])],data=d)\n",
    "        Scores = Scores.append(score,ignore_index=True)\n",
    "        print(Scores.loc[Scores['Key']==key])\n",
    "        ModelRuns['Model: '+'+'.join(model)] = Results[1]    \n",
    "    Group = Scores.groupby('Key').agg({'Model': 'first', \n",
    "                                            'Level': 'first', \n",
    "                                            'MSE': 'mean', \n",
    "                                            'R2': 'mean'})#.reset_index()#mean()  \n",
    "    Group['SD'] = Scores[['Key','MSE']].groupby('Key').std()\n",
    "    Group['SE'] = Scores[['Key','MSE']].groupby('Key').sem()\n",
    "    Min = Group.loc[Group['Level']==level]\n",
    "    Best = Min.loc[Min['MSE'] == Min['MSE'].min(),'Model'].values\n",
    "    print(Best)\n",
    "    "
   ]
  },
  {
   "cell_type": "code",
   "execution_count": null,
   "metadata": {
    "scrolled": false
   },
   "outputs": [],
   "source": [
    "Group = Scores.groupby('Key').agg({'Model': 'first', \n",
    "                                        'Level': 'first', \n",
    "                                        'MSE': 'mean', \n",
    "                                        'R2': 'mean'})#.reset_index()#mean()  \n",
    "Group['SD'] = Scores[['Key','MSE']].groupby('Key').std()\n",
    "Group['SE'] = Scores[['Key','MSE']].groupby('Key').sem()\n",
    "Min = Group.loc[Group['Level']==level]\n",
    "\n",
    "Levels = Group.groupby('Level').min()\n",
    "Sub=Group[Group['MSE'].isin(Levels['MSE'].values)]\n",
    "print(Sub)\n",
    "Sub.sort_values('Level',inplace=True)\n",
    "Sub = Sub.loc[Sub['Level']>=1]\n",
    "Sub.reset_index(inplace=True,drop=True)\n",
    "Min = Sub.loc[Sub['MSE']==Sub['MSE'].min()]\n",
    "Parsimony = (Sub.loc[Sub['MSE']<(Min['MSE'].values+Min['SE'].values)[0]])\n",
    "Parsimony = Parsimony.loc[Parsimony['Level']==Parsimony['Level'].min()]\n",
    "print(Parsimony)\n",
    "Best = Parsimony['Model'].values\n",
    "\n",
    "\n",
    "def Curve(x,a,b,c):\n",
    "    return (a/(b+x)**c)\n",
    "\n",
    "N = Runs['N']\n",
    "NRuns = Runs*0\n",
    "NRuns['N']=N\n",
    "\n",
    "model = Best[0].split('+')\n",
    "NRuns = RunLoop(NRuns)\n",
    "Group = Runs.groupby('N').mean()\n",
    "Group['SD'] = Runs[['N','MSE']].groupby('N').std()\n",
    "Group['SE'] = Runs[['N','MSE']].groupby('N').sem()\n",
    "\n",
    "print(Group)\n",
    "Min = Group.loc[Group['MSE']==Group['MSE'].min()]\n",
    "\n",
    "fig,ax = plt.subplots(figsize=(8,8))\n",
    "ax.scatter(Runs['N'],Runs['MSE'])\n",
    "popt, pcov = curve_fit(Curve, NRuns['N'].values, NRuns['MSE'].values)\n",
    "\n",
    "N = np.arange(NRuns['N'].min(),NRuns['N'].max())\n",
    "Fit = Curve(N,*popt)\n",
    "ax.plot(N,Fit,color='r')\n",
    "Max = (Min['MSE']+Min['SE']).values[0]\n",
    "ax.plot(N,N*0+Max,color = 'black')\n",
    "try:\n",
    "    params['N']=N[Fit<Max].min()\n",
    "except:\n",
    "    params['N']=N[-1]\n",
    "    pass\n",
    "print(params['N'])\n",
    "plt.grid()\n",
    "plt.show()\n",
    "print(params['N'])"
   ]
  },
  {
   "cell_type": "code",
   "execution_count": null,
   "metadata": {},
   "outputs": [],
   "source": [
    "level = 0#len(Best)\n",
    "print(Best)\n",
    "key = '0_'+str(params['N'])\n",
    "Name = '+'.join(Best)\n",
    "NewRow = Scores.iloc[-1].copy()\n",
    "NewRow['Model'] = 'BestModel: '+Name\n",
    "Results = RunReps(model,params,pool)\n",
    "MSE = Results[0]\n",
    "for mse in MSE:\n",
    "    Names.append(Name)\n",
    "    Values.append(mse)\n",
    "mean,std = MSE.mean(),MSE.std()\n",
    "CI = std/params['K']**.5*stats.t.ppf(1-0.05, params['K']-1)\n",
    "R2 = Results[2]\n",
    "d = {'Model':'+'.join(model),'MSE':MSE,'Key':key,'R2':R2,'Level':level}#,'Best':'N'\n",
    "score = pd.DataFrame(index=[x for x in range(params['K'])],data=d)\n",
    "Scores = Scores.append(score,ignore_index=True)\n",
    "Scores = Scores.append(score,ignore_index=True)\n",
    "ModelRuns['BestModel: '+'+'.join(model)] = Results[1] \n",
    "print(params['N'])"
   ]
  },
  {
   "cell_type": "code",
   "execution_count": null,
   "metadata": {},
   "outputs": [],
   "source": [
    "Scores.to_csv('GapFillingSummary'+FillVar+'.csv')\n",
    "ModelRuns.to_csv('GapFilled'+FillVar+'.csv')\n",
    "\n",
    "if __name__=='__main__'and params['proc'] != 1:\n",
    "    pool.close()\n",
    "\n",
    "print(time.time()-Time)"
   ]
  }
 ],
 "metadata": {
  "kernelspec": {
   "display_name": "Python 3",
   "language": "python",
   "name": "python3"
  },
  "language_info": {
   "codemirror_mode": {
    "name": "ipython",
    "version": 3
   },
   "file_extension": ".py",
   "mimetype": "text/x-python",
   "name": "python",
   "nbconvert_exporter": "python",
   "pygments_lexer": "ipython3",
   "version": "3.6.2"
  }
 },
 "nbformat": 4,
 "nbformat_minor": 2
}
