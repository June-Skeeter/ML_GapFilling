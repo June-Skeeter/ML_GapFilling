{
 "cells": [
  {
   "cell_type": "markdown",
   "metadata": {},
   "source": [
    "##  Optimze and a Dense Neural Network for gap filling and feature identification\n",
    "\n",
    "** With a few tweaks to RepRunner, an LSTM can be run instead"
   ]
  },
  {
   "cell_type": "code",
   "execution_count": 75,
   "metadata": {
    "collapsed": true
   },
   "outputs": [],
   "source": [
    "import time\n",
    "import math\n",
    "import numpy as np\n",
    "import pandas as pd\n",
    "import matplotlib.pyplot as plt\n",
    "from itertools import combinations\n",
    "from functools import partial\n",
    "from multiprocessing import Pool\n",
    "from sklearn.preprocessing import StandardScaler\n",
    "from sklearn import metrics\n",
    "from sklearn.model_selection import RepeatedKFold\n",
    "# import warnings\n",
    "# warnings.filterwarnings('ignore')\n",
    "from sklearn.model_selection import train_test_split\n",
    "\n",
    "## Personal Modules\n",
    "import ReadStandardTimeFill as RSTF\n",
    "# import LSTM_Train as LSTM\n",
    "import importlib\n",
    "# import LSTM\n",
    "import DenseNet as Dense\n",
    "# importlib.reload(LSTM)\n",
    "importlib.reload(Dense)\n",
    "importlib.reload(RSTF)\n",
    "\n",
    "%matplotlib inline\n",
    "%config IPCompleter.greedy=True\n",
    "\n",
    "from scipy.optimize import minimize, curve_fit\n",
    "from scipy.stats import norm\n",
    "from sklearn.gaussian_process import GaussianProcessRegressor\n",
    "from sklearn.gaussian_process.kernels import Matern, WhiteKernel, ConstantKernel\n",
    "from matplotlib import cm\n",
    "\n",
    "from scipy import stats\n",
    "from statsmodels.stats.multicomp import pairwise_tukeyhsd\n",
    "# pool.close()"
   ]
  },
  {
   "cell_type": "code",
   "execution_count": 76,
   "metadata": {
    "collapsed": true
   },
   "outputs": [],
   "source": [
    "def Curve(x,a,b,c):\n",
    "    return (a/(b+x)**c)\n",
    "\n",
    "def Combos(Model,L,factor=None):\n",
    "    Models=list()\n",
    "    for c in combinations(Model,L):\n",
    "        c = list(c)\n",
    "        if factor is None:\n",
    "            Models.append(c)\n",
    "        else:\n",
    "            for f in factor:\n",
    "                f = f.split('+')\n",
    "                if set(f).issubset(set(c)) and c not in Models:\n",
    "                    Models.append(c)\n",
    "    return(Models)\n",
    "\n",
    "def TTV_Split(iteration,Memory,X,y,params,X_fill):\n",
    "    X_train,X_test,y_train,y_test=train_test_split(X,y, test_size=0.1, random_state=iteration)\n",
    "    X_train,X_val,y_train,y_val=train_test_split(X_train,y_train, test_size=0.11, random_state=iteration)\n",
    "    return(Dense.Train_Steps(params['epochs'],params['N'],X_train,X_test,X_val,y_train,y_test,\n",
    "                            y_val,iteration,X_fill = X_fill,Memory=Memory),y_val)\n",
    "\n",
    "def RunReps(Model,params,pool = None,plot=False,FullReturn=False):\n",
    "    RST = RSTF.ReadStandardTimeFill(Path)\n",
    "    offset = 5/params['proc']\n",
    "    Memory = (math.floor(100/params['proc'])- offset) * .01\n",
    "    MSE = []\n",
    "    RST.Scale(params['Y'],Model)\n",
    "    if params['T'] >0:\n",
    "        RST.TimeShape(params['T'])\n",
    "    y = RST.y*1.0\n",
    "    X = RST.X*1.0\n",
    "    X_fill = RST.X_fill*1.0\n",
    "    MSE = []\n",
    "    R2 =[]\n",
    "    Y_fill = []\n",
    "    Yval = []\n",
    "    y_val= []\n",
    "    if __name__=='__main__'and params['proc'] != 1:\n",
    "        for i,results in enumerate(pool.imap(partial(TTV_Split,Memory=Memory,X=X,y=y,params=params,X_fill=X_fill),\n",
    "                                             range(params['K']))):\n",
    "            Y_fill.append(results[0][0])\n",
    "            Yval = RST.YScaled.inverse_transform(results[0][1].reshape(-1,1))\n",
    "            y_val = RST.YScaled.inverse_transform(results[1].reshape(-1,1))\n",
    "            MSE.append(metrics.mean_squared_error(Yval,y_val))\n",
    "            R2.append(metrics.r2_score(Yval,y_val))\n",
    "    else:\n",
    "        for i in range(params['K']):\n",
    "            results = TTV_Split(i,Memory,X,y,params,X_fill)\n",
    "            Y_fill.append(results[0][0])\n",
    "            Yval = RST.YScaled.inverse_transform(results[0][1].reshape(-1,1))\n",
    "            y_val = RST.YScaled.inverse_transform(results[1].reshape(-1,1))\n",
    "            MSE.append(metrics.mean_squared_error(y_val,Yval))\n",
    "            R2.append(metrics.r2_score(y_val,Yval))\n",
    "    Y_fill = np.asanyarray(Y_fill)\n",
    "    Y_fill = Y_fill.mean(axis=0) \n",
    "    FillVarName = FillVar.replace('f','F')\n",
    "    RST.Fill(Y_fill,FillVarName) \n",
    "    \n",
    "    return(MSE,R2,RST.Master['TempFill'])"
   ]
  },
  {
   "cell_type": "code",
   "execution_count": 77,
   "metadata": {},
   "outputs": [
    {
     "name": "stdout",
     "output_type": "stream",
     "text": [
      "{'proc': 1, 'K': 3, 'epochs': 100, 'Y': 'fco2'}\n"
     ]
    }
   ],
   "source": [
    "FillVar = 'fco2'\n",
    "FullModel = ['H','wind_speed','air_pressure','PPFD_Avg','AirTC_Avg',\n",
    "             'VPD','Temp','VWC','Sedge','Shrub','Grass','Sparse','Out_of_Basin']\n",
    "FullModel = ['PPFD_Avg','AirTC_Avg','Sedge','VWC','Grass']\n",
    "Runs,params = Dense.Params('Test',FillVar,MP=False)\n",
    "print(params)"
   ]
  },
  {
   "cell_type": "code",
   "execution_count": 78,
   "metadata": {
    "scrolled": false
   },
   "outputs": [
    {
     "name": "stdout",
     "output_type": "stream",
     "text": [
      "   N       MSE        R2\n",
      "0  4  1.802764  0.796618\n",
      "1  4  1.649660  0.850325\n",
      "2  4  3.042750  0.756648\n",
      "    N       MSE        R2\n",
      "3  16  1.188323  0.865937\n",
      "4  16  1.170019  0.893843\n",
      "5  16  1.157822  0.907400\n",
      "    N       MSE        R2\n",
      "6  36  1.078213  0.878359\n",
      "7  36  1.098959  0.900290\n",
      "8  36  1.350069  0.892025\n"
     ]
    }
   ],
   "source": [
    "Time = time.time()\n",
    "Path = 'Data_Footprints_2018-06-12.csv'\n",
    "\n",
    "if __name__=='__main__'and params['proc'] != 1:\n",
    "    pool = Pool(processes=params['proc'],maxtasksperchild=75)\n",
    "else:pool=None\n",
    "    \n",
    "def RunLoop(Runs):\n",
    "    for N in Runs['N'].unique():\n",
    "        params['T'] = 0\n",
    "        params['N']=N\n",
    "        Results = RunReps(FullModel,params,pool,plot=True)\n",
    "        MSE = Results[0]\n",
    "        R2 = Results[1]\n",
    "        Runs.loc[Runs['N']==N,'MSE']=MSE\n",
    "        Runs.loc[Runs['N']==N,'R2']=R2\n",
    "        print(Runs.loc[Runs['N']==N])\n",
    "    return(Runs)\n",
    "\n",
    "Runs = RunLoop(Runs)"
   ]
  },
  {
   "cell_type": "markdown",
   "metadata": {},
   "source": [
    "# The \"Optimum\" Sized Model"
   ]
  },
  {
   "cell_type": "code",
   "execution_count": 79,
   "metadata": {
    "scrolled": false
   },
   "outputs": [
    {
     "name": "stdout",
     "output_type": "stream",
     "text": [
      "         MSE        R2        SD        SE\n",
      "N                                         \n",
      "4   2.165058  0.801197  0.763949  0.441066\n",
      "16  1.172055  0.889060  0.015352  0.008864\n",
      "36  1.175747  0.890225  0.151323  0.087366\n"
     ]
    },
    {
     "name": "stderr",
     "output_type": "stream",
     "text": [
      "C:\\Anaconda3\\lib\\site-packages\\ipykernel_launcher.py:2: RuntimeWarning: invalid value encountered in power\n",
      "  \n"
     ]
    },
    {
     "data": {
      "image/png": "[encoded data removed]",
      "text/plain": [
       "<matplotlib.figure.Figure at 0x12307f84c18>"
      ]
     },
     "metadata": {},
     "output_type": "display_data"
    },
    {
     "name": "stdout",
     "output_type": "stream",
     "text": [
      "21 1.1809183360144258\n",
      "109.81743335723877\n"
     ]
    }
   ],
   "source": [
    "\n",
    "Group = Runs.groupby('N').mean()\n",
    "Group['SD'] = Runs[['N','MSE']].groupby('N').std()\n",
    "Group['SE'] = Runs[['N','MSE']].groupby('N').sem()\n",
    "\n",
    "print(Group)\n",
    "Min = Group.loc[Group['MSE']==Group['MSE'].min()]\n",
    "\n",
    "fig,ax = plt.subplots(figsize=(8,8))\n",
    "ax.scatter(Runs['N'],Runs['MSE'])\n",
    "popt, pcov = curve_fit(Curve, Runs['N'].values, Runs['MSE'].values)\n",
    "N = np.arange(Runs['N'].min(),Runs['N'].max())\n",
    "Fit = Curve(N,*popt)\n",
    "ax.plot(N,Fit,color='r')\n",
    "Max = (Min['MSE']+Min['SE']).values[0]\n",
    "ax.plot(N,N*0+Max,color = 'black')\n",
    "plt.grid()\n",
    "plt.show()\n",
    "try:\n",
    "    params['N']=N[Fit<Max].min()\n",
    "except:\n",
    "    params['N']=N[-1]\n",
    "    pass\n",
    "print(params['N'],Max)\n",
    "print(time.time()-Time)"
   ]
  },
  {
   "cell_type": "markdown",
   "metadata": {},
   "source": [
    "# Feature Identification"
   ]
  },
  {
   "cell_type": "code",
   "execution_count": 80,
   "metadata": {},
   "outputs": [
    {
     "name": "stdout",
     "output_type": "stream",
     "text": [
      "        MSE        R2  Level  Key                               Model\n",
      "0  1.153083  0.869913      5  5_0  PPFD_Avg+AirTC_Avg+Sedge+VWC+Grass\n",
      "1  1.181437  0.892807      5  5_0  PPFD_Avg+AirTC_Avg+Sedge+VWC+Grass\n",
      "2  1.310439  0.895194      5  5_0  PPFD_Avg+AirTC_Avg+Sedge+VWC+Grass\n"
     ]
    }
   ],
   "source": [
    "Scores = Runs[['MSE','R2']].reset_index(drop=True)\n",
    "Scores = (Scores.iloc[0:params['K']])*0\n",
    "Scores['Level'] = len(FullModel)\n",
    "Scores['Key'] = str(Scores['Level'][0])+'_0'\n",
    "Scores['Model'] = '+'.join(FullModel)\n",
    "\n",
    "Results = RunReps(FullModel,params,pool)\n",
    "\n",
    "MSE = Results[0]\n",
    "R2 = Results[1]\n",
    "# mean,std = np.asanyarray(MSE).mean(),np.asanyarray(MSE).std()\n",
    "# CI = std/params['K']**.5*stats.t.ppf(1-0.05, params['K']-1)\n",
    "Scores['MSE']=Results[0]#MSE#mean\n",
    "Scores['R2']=Results[1]#R2#.mean()\n",
    "\n",
    "ModelRuns = Results[2]\n",
    "ModelRuns = ModelRuns.to_frame()\n",
    "ModelRuns['Model: '+'+'.join(FullModel)]=ModelRuns['TempFill']\n",
    "ModelRuns=ModelRuns.drop('TempFill',axis=1)\n",
    "print(Scores)"
   ]
  },
  {
   "cell_type": "code",
   "execution_count": 81,
   "metadata": {
    "scrolled": false
   },
   "outputs": [
    {
     "name": "stdout",
     "output_type": "stream",
     "text": [
      "Level:  1\n"
     ]
    },
    {
     "name": "stderr",
     "output_type": "stream",
     "text": [
      "C:\\Anaconda3\\lib\\site-packages\\pandas\\core\\frame.py:6211: FutureWarning: Sorting because non-concatenation axis is not aligned. A future version\n",
      "of pandas will change to not sort by default.\n",
      "\n",
      "To accept the future behavior, pass 'sort=False'.\n",
      "\n",
      "To retain the current behavior and silence the warning, pass 'sort=True'.\n",
      "\n",
      "  sort=sort)\n"
     ]
    },
    {
     "name": "stdout",
     "output_type": "stream",
     "text": [
      "   Key  Level       MSE     Model        R2\n",
      "3  1_0      1  1.221382  PPFD_Avg  0.862208\n",
      "4  1_0      1  1.500251  PPFD_Avg  0.863881\n",
      "5  1_0      1  1.744101  PPFD_Avg  0.860511\n",
      "   Key  Level        MSE      Model        R2\n",
      "6  1_1      1  11.087158  AirTC_Avg -0.250817\n",
      "7  1_1      1   9.018976  AirTC_Avg  0.181700\n",
      "8  1_1      1  10.584114  AirTC_Avg  0.153509\n",
      "    Key  Level        MSE  Model        R2\n",
      "9   1_2      1  10.211797  Sedge -0.152062\n",
      "10  1_2      1  10.855383  Sedge  0.015081\n",
      "11  1_2      1  12.539772  Sedge -0.002900\n",
      "    Key  Level        MSE Model        R2\n",
      "12  1_3      1  10.033577   VWC -0.131955\n",
      "13  1_3      1  11.094243   VWC -0.006591\n",
      "14  1_3      1  12.689070   VWC -0.014841\n",
      "    Key  Level        MSE  Model        R2\n",
      "15  1_4      1   9.633015  Grass -0.086765\n",
      "16  1_4      1  10.995320  Grass  0.002385\n",
      "17  1_4      1  12.693998  Grass -0.015235\n",
      "['PPFD_Avg']\n",
      "Level:  2\n",
      "    Key  Level       MSE               Model        R2\n",
      "18  2_0      2  1.334227  PPFD_Avg+AirTC_Avg  0.849477\n",
      "19  2_0      2  1.495835  PPFD_Avg+AirTC_Avg  0.864282\n",
      "20  2_0      2  1.752274  PPFD_Avg+AirTC_Avg  0.859857\n",
      "    Key  Level       MSE           Model        R2\n",
      "21  2_1      2  1.405518  PPFD_Avg+Sedge  0.841434\n",
      "22  2_1      2  1.578881  PPFD_Avg+Sedge  0.856747\n",
      "23  2_1      2  1.747044  PPFD_Avg+Sedge  0.860276\n",
      "    Key  Level       MSE         Model        R2\n",
      "24  2_2      2  1.406017  PPFD_Avg+VWC  0.841378\n",
      "25  2_2      2  1.419268  PPFD_Avg+VWC  0.871229\n",
      "26  2_2      2  1.840083  PPFD_Avg+VWC  0.852835\n",
      "    Key  Level       MSE           Model        R2\n",
      "27  2_3      2  1.321083  PPFD_Avg+Grass  0.850960\n",
      "28  2_3      2  1.435456  PPFD_Avg+Grass  0.869760\n",
      "29  2_3      2  1.744958  PPFD_Avg+Grass  0.860443\n",
      "['PPFD_Avg+Grass']\n",
      "Level:  3\n",
      "    Key  Level       MSE                     Model        R2\n",
      "30  3_0      3  1.154671  PPFD_Avg+AirTC_Avg+Grass  0.869734\n",
      "31  3_0      3  1.478794  PPFD_Avg+AirTC_Avg+Grass  0.865828\n",
      "32  3_0      3  1.734267  PPFD_Avg+AirTC_Avg+Grass  0.861298\n",
      "    Key  Level       MSE                 Model        R2\n",
      "33  3_1      3  1.265742  PPFD_Avg+Sedge+Grass  0.857203\n",
      "34  3_1      3  1.505147  PPFD_Avg+Sedge+Grass  0.863437\n",
      "35  3_1      3  1.660533  PPFD_Avg+Sedge+Grass  0.867195\n",
      "    Key  Level       MSE               Model        R2\n",
      "36  3_2      3  1.295524  PPFD_Avg+VWC+Grass  0.853843\n",
      "37  3_2      3  1.360791  PPFD_Avg+VWC+Grass  0.876534\n",
      "38  3_2      3  1.738477  PPFD_Avg+VWC+Grass  0.860961\n",
      "['PPFD_Avg+AirTC_Avg+Grass']\n",
      "Level:  4\n",
      "    Key  Level       MSE                           Model        R2\n",
      "39  4_0      4  1.252914  PPFD_Avg+AirTC_Avg+Sedge+Grass  0.858650\n",
      "40  4_0      4  1.412925  PPFD_Avg+AirTC_Avg+Sedge+Grass  0.871804\n",
      "41  4_0      4  1.594039  PPFD_Avg+AirTC_Avg+Sedge+Grass  0.872513\n",
      "    Key  Level       MSE                         Model        R2\n",
      "42  4_1      4  1.143398  PPFD_Avg+AirTC_Avg+VWC+Grass  0.871006\n",
      "43  4_1      4  1.423624  PPFD_Avg+AirTC_Avg+VWC+Grass  0.870833\n",
      "44  4_1      4  1.516090  PPFD_Avg+AirTC_Avg+VWC+Grass  0.878747\n",
      "['PPFD_Avg+AirTC_Avg+VWC+Grass']\n"
     ]
    }
   ],
   "source": [
    "for i in range(1,len(FullModel)):\n",
    "    print('Level: ',i)\n",
    "    if i == 1:\n",
    "        Models = Combos(FullModel,i)\n",
    "    else:\n",
    "        Models = Combos(FullModel,i,factor = Best)\n",
    "    Values = []\n",
    "    Names = []\n",
    "    for i,model in enumerate(Models):\n",
    "        level = len(model)\n",
    "        key = str(level)+'_'+str(i)\n",
    "        Name = '+'.join(model)\n",
    "        NewRow = Scores.iloc[-1].copy()\n",
    "        NewRow['Model'] = 'Model: '+Name\n",
    "        Results = RunReps(model,params,pool)\n",
    "        MSE = Results[0]\n",
    "        R2 = Results[1]\n",
    "        d = {'Model':'+'.join(model),'MSE':MSE,'Key':key,'R2':R2,'Level':level}#,'Best':'N'\n",
    "        score = pd.DataFrame(index=[x for x in range(params['K'])],data=d)\n",
    "        Scores = Scores.append(score,ignore_index=True)\n",
    "        print(Scores.loc[Scores['Key']==key])\n",
    "        ModelRuns['Model: '+'+'.join(model)] = Results[2]    \n",
    "    Group = Scores.groupby('Key').agg({'Model': 'first', \n",
    "                                            'Level': 'first', \n",
    "                                            'MSE': 'mean', \n",
    "                                            'R2': 'mean'})#.reset_index()#mean()  \n",
    "    Group['SD'] = Scores[['Key','MSE']].groupby('Key').std()\n",
    "    Group['SE'] = Scores[['Key','MSE']].groupby('Key').sem()\n",
    "    Min = Group.loc[Group['Level']==level]\n",
    "    Best = Min.loc[Min['MSE'] == Min['MSE'].min(),'Model'].values\n",
    "    print(Best)\n",
    "    "
   ]
  },
  {
   "cell_type": "code",
   "execution_count": 82,
   "metadata": {
    "scrolled": false
   },
   "outputs": [
    {
     "name": "stdout",
     "output_type": "stream",
     "text": [
      "                                  Model  Level       MSE        R2        SD  \\\n",
      "Key                                                                            \n",
      "1_0                            PPFD_Avg      1  1.488578  0.862200  0.261555   \n",
      "2_3                      PPFD_Avg+Grass      2  1.500499  0.860387  0.219295   \n",
      "3_0            PPFD_Avg+AirTC_Avg+Grass      3  1.455911  0.865620  0.290475   \n",
      "4_1        PPFD_Avg+AirTC_Avg+VWC+Grass      4  1.361037  0.873529  0.194068   \n",
      "5_0  PPFD_Avg+AirTC_Avg+Sedge+VWC+Grass      5  1.214986  0.885972  0.083871   \n",
      "\n",
      "           SE  \n",
      "Key            \n",
      "1_0  0.151009  \n",
      "2_3  0.126610  \n",
      "3_0  0.167706  \n",
      "4_1  0.112045  \n",
      "5_0  0.048423  \n",
      "                                Model  Level       MSE        R2        SD  \\\n",
      "4  PPFD_Avg+AirTC_Avg+Sedge+VWC+Grass      5  1.214986  0.885972  0.083871   \n",
      "\n",
      "         SE  \n",
      "4  0.048423  \n"
     ]
    },
    {
     "name": "stderr",
     "output_type": "stream",
     "text": [
      "C:\\Anaconda3\\lib\\site-packages\\ipykernel_launcher.py:12: SettingWithCopyWarning: \n",
      "A value is trying to be set on a copy of a slice from a DataFrame\n",
      "\n",
      "See the caveats in the documentation: http://pandas.pydata.org/pandas-docs/stable/indexing.html#indexing-view-versus-copy\n",
      "  if sys.path[0] == '':\n"
     ]
    },
    {
     "name": "stdout",
     "output_type": "stream",
     "text": [
      "   N       MSE        R2\n",
      "0  4  1.802941  0.796598\n",
      "1  4  1.650275  0.850269\n",
      "2  4  3.048741  0.756169\n",
      "    N       MSE        R2\n",
      "3  16  1.188556  0.865911\n",
      "4  16  1.169969  0.893848\n",
      "5  16  1.158102  0.907378\n",
      "    N       MSE        R2\n",
      "6  36  1.078401  0.878338\n",
      "7  36  1.098936  0.900293\n",
      "8  36  1.350941  0.891955\n",
      "         MSE        R2        SD        SE\n",
      "N                                         \n",
      "4   2.165058  0.801197  0.763949  0.441066\n",
      "16  1.172055  0.889060  0.015352  0.008864\n",
      "36  1.175747  0.890225  0.151323  0.087366\n",
      "21\n"
     ]
    },
    {
     "name": "stderr",
     "output_type": "stream",
     "text": [
      "C:\\Anaconda3\\lib\\site-packages\\ipykernel_launcher.py:22: RuntimeWarning: invalid value encountered in power\n"
     ]
    },
    {
     "data": {
      "image/png": "[encoded data removed]",
      "text/plain": [
       "<matplotlib.figure.Figure at 0x122ab2b4fd0>"
      ]
     },
     "metadata": {},
     "output_type": "display_data"
    },
    {
     "name": "stdout",
     "output_type": "stream",
     "text": [
      "21\n"
     ]
    }
   ],
   "source": [
    "Group = Scores.groupby('Key').agg({'Model': 'first', \n",
    "                                        'Level': 'first', \n",
    "                                        'MSE': 'mean', \n",
    "                                        'R2': 'mean'})#.reset_index()#mean()  \n",
    "Group['SD'] = Scores[['Key','MSE']].groupby('Key').std()\n",
    "Group['SE'] = Scores[['Key','MSE']].groupby('Key').sem()\n",
    "Min = Group.loc[Group['Level']==level]\n",
    "\n",
    "Levels = Group.groupby('Level').min()\n",
    "Sub=Group[Group['MSE'].isin(Levels['MSE'].values)]\n",
    "print(Sub)\n",
    "Sub.sort_values('Level',inplace=True)\n",
    "Sub = Sub.loc[Sub['Level']>=1]\n",
    "Sub.reset_index(inplace=True,drop=True)\n",
    "Min = Sub.loc[Sub['MSE']==Sub['MSE'].min()]\n",
    "Parsimony = (Sub.loc[Sub['MSE']<(Min['MSE'].values+Min['SE'].values)[0]])\n",
    "Parsimony = Parsimony.loc[Parsimony['Level']==Parsimony['Level'].min()]\n",
    "print(Parsimony)\n",
    "Best = Parsimony['Model'].values\n",
    "\n",
    "def Curve(x,a,b,c):\n",
    "    return (a/(b+x)**c)\n",
    "\n",
    "N = Runs['N']\n",
    "NRuns = Runs*0\n",
    "NRuns['N']=N\n",
    "\n",
    "model = Best[0].split('+')\n",
    "NRuns = RunLoop(NRuns)\n",
    "Group = Runs.groupby('N').mean()\n",
    "Group['SD'] = Runs[['N','MSE']].groupby('N').std()\n",
    "Group['SE'] = Runs[['N','MSE']].groupby('N').sem()\n",
    "\n",
    "print(Group)\n",
    "Min = Group.loc[Group['MSE']==Group['MSE'].min()]\n",
    "\n",
    "fig,ax = plt.subplots(figsize=(8,8))\n",
    "ax.scatter(Runs['N'],Runs['MSE'])\n",
    "popt, pcov = curve_fit(Curve, NRuns['N'].values, NRuns['MSE'].values)\n",
    "\n",
    "N = np.arange(NRuns['N'].min(),NRuns['N'].max())\n",
    "Fit = Curve(N,*popt)\n",
    "ax.plot(N,Fit,color='r')\n",
    "Max = (Min['MSE']+Min['SE']).values[0]\n",
    "ax.plot(N,N*0+Max,color = 'black')\n",
    "try:\n",
    "    params['N']=N[Fit<Max].min()\n",
    "except:\n",
    "    params['N']=N[-1]\n",
    "    pass\n",
    "print(params['N'])\n",
    "plt.grid()\n",
    "plt.show()\n",
    "print(params['N'])"
   ]
  },
  {
   "cell_type": "code",
   "execution_count": 83,
   "metadata": {},
   "outputs": [
    {
     "name": "stdout",
     "output_type": "stream",
     "text": [
      "['PPFD_Avg+AirTC_Avg+Sedge+VWC+Grass']\n",
      "21\n",
      "     Key  Level        MSE                               Model        R2\n",
      "0    5_0      5   1.153083  PPFD_Avg+AirTC_Avg+Sedge+VWC+Grass  0.869913\n",
      "1    5_0      5   1.181437  PPFD_Avg+AirTC_Avg+Sedge+VWC+Grass  0.892807\n",
      "2    5_0      5   1.310439  PPFD_Avg+AirTC_Avg+Sedge+VWC+Grass  0.895194\n",
      "3    1_0      1   1.221382                            PPFD_Avg  0.862208\n",
      "4    1_0      1   1.500251                            PPFD_Avg  0.863881\n",
      "5    1_0      1   1.744101                            PPFD_Avg  0.860511\n",
      "6    1_1      1  11.087158                           AirTC_Avg -0.250817\n",
      "7    1_1      1   9.018976                           AirTC_Avg  0.181700\n",
      "8    1_1      1  10.584114                           AirTC_Avg  0.153509\n",
      "9    1_2      1  10.211797                               Sedge -0.152062\n",
      "10   1_2      1  10.855383                               Sedge  0.015081\n",
      "11   1_2      1  12.539772                               Sedge -0.002900\n",
      "12   1_3      1  10.033577                                 VWC -0.131955\n",
      "13   1_3      1  11.094243                                 VWC -0.006591\n",
      "14   1_3      1  12.689070                                 VWC -0.014841\n",
      "15   1_4      1   9.633015                               Grass -0.086765\n",
      "16   1_4      1  10.995320                               Grass  0.002385\n",
      "17   1_4      1  12.693998                               Grass -0.015235\n",
      "18   2_0      2   1.334227                  PPFD_Avg+AirTC_Avg  0.849477\n",
      "19   2_0      2   1.495835                  PPFD_Avg+AirTC_Avg  0.864282\n",
      "20   2_0      2   1.752274                  PPFD_Avg+AirTC_Avg  0.859857\n",
      "21   2_1      2   1.405518                      PPFD_Avg+Sedge  0.841434\n",
      "22   2_1      2   1.578881                      PPFD_Avg+Sedge  0.856747\n",
      "23   2_1      2   1.747044                      PPFD_Avg+Sedge  0.860276\n",
      "24   2_2      2   1.406017                        PPFD_Avg+VWC  0.841378\n",
      "25   2_2      2   1.419268                        PPFD_Avg+VWC  0.871229\n",
      "26   2_2      2   1.840083                        PPFD_Avg+VWC  0.852835\n",
      "27   2_3      2   1.321083                      PPFD_Avg+Grass  0.850960\n",
      "28   2_3      2   1.435456                      PPFD_Avg+Grass  0.869760\n",
      "29   2_3      2   1.744958                      PPFD_Avg+Grass  0.860443\n",
      "30   3_0      3   1.154671            PPFD_Avg+AirTC_Avg+Grass  0.869734\n",
      "31   3_0      3   1.478794            PPFD_Avg+AirTC_Avg+Grass  0.865828\n",
      "32   3_0      3   1.734267            PPFD_Avg+AirTC_Avg+Grass  0.861298\n",
      "33   3_1      3   1.265742                PPFD_Avg+Sedge+Grass  0.857203\n",
      "34   3_1      3   1.505147                PPFD_Avg+Sedge+Grass  0.863437\n",
      "35   3_1      3   1.660533                PPFD_Avg+Sedge+Grass  0.867195\n",
      "36   3_2      3   1.295524                  PPFD_Avg+VWC+Grass  0.853843\n",
      "37   3_2      3   1.360791                  PPFD_Avg+VWC+Grass  0.876534\n",
      "38   3_2      3   1.738477                  PPFD_Avg+VWC+Grass  0.860961\n",
      "39   4_0      4   1.252914      PPFD_Avg+AirTC_Avg+Sedge+Grass  0.858650\n",
      "40   4_0      4   1.412925      PPFD_Avg+AirTC_Avg+Sedge+Grass  0.871804\n",
      "41   4_0      4   1.594039      PPFD_Avg+AirTC_Avg+Sedge+Grass  0.872513\n",
      "42   4_1      4   1.143398        PPFD_Avg+AirTC_Avg+VWC+Grass  0.871006\n",
      "43   4_1      4   1.423624        PPFD_Avg+AirTC_Avg+VWC+Grass  0.870833\n",
      "44   4_1      4   1.516090        PPFD_Avg+AirTC_Avg+VWC+Grass  0.878747\n",
      "45  0_21      0   1.153173  PPFD_Avg+AirTC_Avg+Sedge+VWC+Grass  0.869903\n",
      "46  0_21      0   1.181696  PPFD_Avg+AirTC_Avg+Sedge+VWC+Grass  0.892784\n",
      "47  0_21      0   1.310541  PPFD_Avg+AirTC_Avg+Sedge+VWC+Grass  0.895186\n",
      "48  0_21      0   1.153173  PPFD_Avg+AirTC_Avg+Sedge+VWC+Grass  0.869903\n",
      "49  0_21      0   1.181696  PPFD_Avg+AirTC_Avg+Sedge+VWC+Grass  0.892784\n",
      "50  0_21      0   1.310541  PPFD_Avg+AirTC_Avg+Sedge+VWC+Grass  0.895186\n"
     ]
    },
    {
     "name": "stderr",
     "output_type": "stream",
     "text": [
      "C:\\Anaconda3\\lib\\site-packages\\pandas\\core\\frame.py:6211: FutureWarning: Sorting because non-concatenation axis is not aligned. A future version\n",
      "of pandas will change to not sort by default.\n",
      "\n",
      "To accept the future behavior, pass 'sort=False'.\n",
      "\n",
      "To retain the current behavior and silence the warning, pass 'sort=True'.\n",
      "\n",
      "  sort=sort)\n"
     ]
    }
   ],
   "source": [
    "level = 0#len(Best)\n",
    "print(Best)\n",
    "key = '0_'+str(params['N'])\n",
    "Name = '+'.join(Best)\n",
    "NewRow = Scores.iloc[-1].copy()\n",
    "NewRow['Model'] = 'BestModel: '+Name\n",
    "Results = RunReps(model,params,pool)\n",
    "MSE = Results[0]\n",
    "# for mse in MSE:\n",
    "#     Names.append(Name)\n",
    "#     Values.append(mse)\n",
    "# mean,std = MSE.mean(),MSE.std()\n",
    "# CI = std/params['K']**.5*stats.t.ppf(1-0.05, params['K']-1)\n",
    "R2 = Results[1]\n",
    "d = {'Model':'+'.join(model),'MSE':MSE,'Key':key,'R2':R2,'Level':level}#,'Best':'N'\n",
    "score = pd.DataFrame(index=[x for x in range(params['K'])],data=d)\n",
    "Scores = Scores.append(score,ignore_index=True)\n",
    "Scores = Scores.append(score,ignore_index=True)\n",
    "ModelRuns['BestModel: '+'+'.join(model)] = Results[2] \n",
    "print(params['N'])\n",
    "print(Scores)"
   ]
  },
  {
   "cell_type": "code",
   "execution_count": 84,
   "metadata": {},
   "outputs": [
    {
     "name": "stdout",
     "output_type": "stream",
     "text": [
      "748.2673988342285\n"
     ]
    }
   ],
   "source": [
    "Scores.to_csv('GapFillingSummary'+FillVar+'.csv')\n",
    "ModelRuns.to_csv('GapFilled'+FillVar+'.csv')\n",
    "\n",
    "if __name__=='__main__'and params['proc'] != 1:\n",
    "    pool.close()\n",
    "\n",
    "print(time.time()-Time)"
   ]
  }
 ],
 "metadata": {
  "kernelspec": {
   "display_name": "Python 3",
   "language": "python",
   "name": "python3"
  },
  "language_info": {
   "codemirror_mode": {
    "name": "ipython",
    "version": 3
   },
   "file_extension": ".py",
   "mimetype": "text/x-python",
   "name": "python",
   "nbconvert_exporter": "python",
   "pygments_lexer": "ipython3",
   "version": "3.6.2"
  }
 },
 "nbformat": 4,
 "nbformat_minor": 2
}
