{
 "cells": [
  {
   "cell_type": "markdown",
   "metadata": {},
   "source": [
    "##  Optimze and a Dense Neural Network for gap filling and feature identification\n",
    "\n",
    "** With a few tweaks to RepRunner, an LSTM can be run instead"
   ]
  },
  {
   "cell_type": "code",
   "execution_count": 8,
   "metadata": {
    "collapsed": true
   },
   "outputs": [],
   "source": [
    "import time\n",
    "import math\n",
    "import numpy as np\n",
    "import pandas as pd\n",
    "import matplotlib.pyplot as plt\n",
    "from itertools import combinations\n",
    "from functools import partial\n",
    "from multiprocessing import Pool\n",
    "from sklearn.preprocessing import StandardScaler\n",
    "from sklearn import metrics\n",
    "from sklearn.model_selection import RepeatedKFold\n",
    "# import warnings\n",
    "# warnings.filterwarnings('ignore')\n",
    "from sklearn.model_selection import train_test_split\n",
    "\n",
    "## Personal Modules\n",
    "import ReadStandardTimeFill as RSTF\n",
    "# import LSTM_Train as LSTM\n",
    "import importlib\n",
    "import LSTM\n",
    "import Dense as Dense\n",
    "importlib.reload(LSTM)\n",
    "importlib.reload(Dense)\n",
    "importlib.reload(RSTF)\n",
    "\n",
    "%matplotlib inline\n",
    "%config IPCompleter.greedy=True\n",
    "\n",
    "from scipy.optimize import minimize, curve_fit\n",
    "from scipy.stats import norm\n",
    "from sklearn.gaussian_process import GaussianProcessRegressor\n",
    "from sklearn.gaussian_process.kernels import Matern, WhiteKernel, ConstantKernel\n",
    "from matplotlib import cm\n",
    "\n",
    "from scipy import stats\n",
    "from statsmodels.stats.multicomp import pairwise_tukeyhsd\n",
    "# pool.close()"
   ]
  },
  {
   "cell_type": "code",
   "execution_count": 9,
   "metadata": {},
   "outputs": [],
   "source": [
    "FillVar = 'fco2'\n",
    "FullModel = ['H','wind_speed','air_pressure','PPFD_Avg','AirTC_Avg',\n",
    "             'VPD','Temp','VWC','Sedge','Shrub','Grass','Sparse','Out_of_Basin']\n",
    "FullModel = ['PPFD_Avg','AirTC_Avg',\n",
    "             'VPD']\n",
    "Runs,params = Dense.Params('Test',FillVar,MP=False)"
   ]
  },
  {
   "cell_type": "code",
   "execution_count": 10,
   "metadata": {
    "scrolled": false
   },
   "outputs": [
    {
     "name": "stderr",
     "output_type": "stream",
     "text": [
      "C:\\Anaconda3\\lib\\site-packages\\ipykernel_launcher.py:71: SettingWithCopyWarning: \n",
      "A value is trying to be set on a copy of a slice from a DataFrame\n",
      "\n",
      "See the caveats in the documentation: http://pandas.pydata.org/pandas-docs/stable/indexing.html#indexing-view-versus-copy\n",
      "C:\\Anaconda3\\lib\\site-packages\\ipykernel_launcher.py:72: SettingWithCopyWarning: \n",
      "A value is trying to be set on a copy of a slice from a DataFrame\n",
      "\n",
      "See the caveats in the documentation: http://pandas.pydata.org/pandas-docs/stable/indexing.html#indexing-view-versus-copy\n",
      "C:\\Anaconda3\\lib\\site-packages\\ipykernel_launcher.py:73: SettingWithCopyWarning: \n",
      "A value is trying to be set on a copy of a slice from a DataFrame\n",
      "\n",
      "See the caveats in the documentation: http://pandas.pydata.org/pandas-docs/stable/indexing.html#indexing-view-versus-copy\n"
     ]
    },
    {
     "name": "stdout",
     "output_type": "stream",
     "text": [
      "Finisehed Run  0  MSE:  0.447577759347\n",
      "Finisehed Run  1  MSE:  0.214540525382\n",
      "Finisehed Run  2  MSE:  0.155695839905\n",
      "Finisehed Run  3  MSE:  0.143969091954\n",
      "Finisehed Run  4  MSE:  0.146464726281\n",
      "Finisehed Run  5  MSE:  0.138445634085\n",
      "Finisehed Run  6  MSE:  0.137334625719\n",
      "Finisehed Run  7  MSE:  0.136392231868\n",
      "221.351478099823\n"
     ]
    },
    {
     "name": "stderr",
     "output_type": "stream",
     "text": [
      "C:\\Anaconda3\\lib\\site-packages\\ipykernel_launcher.py:79: RuntimeWarning: invalid value encountered in power\n"
     ]
    }
   ],
   "source": [
    "def TTV_Split(i,Memory,X,y,params,X_fill):\n",
    "    X_train,X_test,y_train,y_test=train_test_split(X,y, test_size=0.1, random_state=i)\n",
    "    X_train,X_val,y_train,y_val=train_test_split(X_train,y_train, test_size=0.11, random_state=i)\n",
    "    return(Dense.Train_Steps(params['epochs'],params['N'],X_train,X_test,X_val,y_train,y_test,\n",
    "                            y_val,i,X_fill = X_fill,Memory=Memory))\n",
    "\n",
    "Time = time.time()\n",
    "Path = 'Data_Footprints_2018-05-11.csv'\n",
    "\n",
    "# plt.figure(figsize=(10,10))\n",
    "def RunReps(Model,params,pool = None,plot=False,FullReturn=False):\n",
    "    RST = RSTF.ReadStandardTimeFill(Path)\n",
    "    offset = 5/params['proc']\n",
    "    Memory = (math.floor(100/params['proc'])- offset) * .01\n",
    "    MSE = []\n",
    "    RST.Scale(params['Y'],Model)\n",
    "    if params['T'] >0:\n",
    "        RST.TimeShape(params['T'])\n",
    "    y = RST.y*1.0\n",
    "    X = RST.X*1.0\n",
    "    X_fill = RST.X_fill*1.0\n",
    "    MSE = []\n",
    "#     STD = []\n",
    "    Y_fill = []\n",
    "    Yval = []\n",
    "    y_val= []\n",
    "    if __name__=='__main__'and params['proc'] != 1:\n",
    "        for i,results in enumerate(pool.imap(partial(TTV_Split,Memory=Memory,X=X,y=y,params=params,X_fill=X_fill),\n",
    "                                             range(params['K']))):\n",
    "\n",
    "            MSE.append(results[0])\n",
    "            Y_fill.append(results[1])\n",
    "            Yval.append(results[2])\n",
    "            y_val.append(results[3])\n",
    "    else:\n",
    "        for i in range(params['K']):\n",
    "            results = TTV_Split(i,Memory,X,y,params,X_fill)\n",
    "            MSE.append(results[0])\n",
    "            Y_fill.append(results[1])\n",
    "            Yval.append(results[2])\n",
    "            y_val.append(results[3])\n",
    "    MSE = np.asanyarray(MSE)\n",
    "    Y_fill = np.asanyarray(Y_fill)\n",
    "    Y_fill = Y_fill.mean(axis=0)\n",
    "    \n",
    "    Yval = np.asanyarray(Yval)\n",
    "    Yval = Yval.mean(axis=0)\n",
    "    y_val = np.asanyarray(y_val)\n",
    "    y_val = y_val.mean(axis=0)\n",
    "    \n",
    "    FillVarName = FillVar.replace('f','F')\n",
    "    RST.Fill(Y_fill,FillVarName)\n",
    "        \n",
    "    if FullReturn == False:\n",
    "        return(MSE,RST.Master['TempFill'])\n",
    "    else:\n",
    "        return(MSE,RST.Master)\n",
    "\n",
    "if __name__=='__main__'and params['proc'] != 1:\n",
    "    pool = Pool(processes=params['proc'],maxtasksperchild=75)\n",
    "else:pool=None\n",
    "    \n",
    "for i in Runs.index:\n",
    "    try:\n",
    "        params['T']=Runs['T'].iloc[i]\n",
    "    except:\n",
    "        params['T'] = 0\n",
    "    params['N']=Runs['N'].iloc[i]\n",
    "    Results = RunReps(FullModel,params,pool,plot=True)\n",
    "    MSE = Results[0]\n",
    "    Runs['MSE'][i]=MSE.mean()\n",
    "    Runs['STD'][i]=MSE.std()\n",
    "    Runs['SE'][i]=MSE.std()/(params['K']**.5)\n",
    "    print('Finisehed Run ',str(i),' MSE: ',MSE.mean())\n",
    "\n",
    "Runs['CI'] = Runs['STD']/params['K']**.5*stats.t.ppf(1-0.05, params['K']-2)\n",
    "\n",
    "def Curve(x,a,b,c):\n",
    "    return (a/(b+x)**c)\n",
    "\n",
    "popt, pcov = curve_fit(Curve, Runs['N'].values, Runs['MSE'].values)\n",
    "\n",
    "print(time.time()-Time)"
   ]
  },
  {
   "cell_type": "markdown",
   "metadata": {},
   "source": [
    "# The \"Optimum\" Sized Model"
   ]
  },
  {
   "cell_type": "code",
   "execution_count": 11,
   "metadata": {},
   "outputs": [
    {
     "data": {
      "image/png": "[encoded data removed]",
      "text/plain": [
       "<matplotlib.figure.Figure at 0x27b4ad894e0>"
      ]
     },
     "metadata": {},
     "output_type": "display_data"
    },
    {
     "name": "stdout",
     "output_type": "stream",
     "text": [
      "26\n"
     ]
    }
   ],
   "source": [
    "fig,ax = plt.subplots()\n",
    "ax.bar(Runs['N'],Runs['MSE'])\n",
    "\n",
    "N = np.arange(Runs['N'].min(),Runs['N'].max())\n",
    "Fit = Curve(N,*popt)\n",
    "ax.plot(N,Fit,color='r')\n",
    "Min = Runs.loc[Runs['MSE']==Runs['MSE'].min()]\n",
    "Max = (Min['MSE']+Min['SE']).values[0]\n",
    "ax.plot(N,N*0+Max,color = 'black')\n",
    "params['N']=N[Fit<Max].min()\n",
    "plt.grid()\n",
    "plt.show()\n",
    "print(params['N'])"
   ]
  },
  {
   "cell_type": "markdown",
   "metadata": {},
   "source": [
    "# Feature Identification"
   ]
  },
  {
   "cell_type": "code",
   "execution_count": 12,
   "metadata": {},
   "outputs": [],
   "source": [
    "def Tukeys(Names,Values,Best,Past_Best = None, p = .2):\n",
    "    Best = list(Best)\n",
    "    d = {'Model':Names,'MSE':Values}\n",
    "    Data = pd.DataFrame(data=d)\n",
    "    posthoc = pairwise_tukeyhsd(\n",
    "        Data['MSE'], Data['Model'],\n",
    "        alpha=p)\n",
    "    c = 0\n",
    "    for i,val in enumerate(posthoc.groupsunique):\n",
    "        for j,vayl in enumerate(posthoc.groupsunique[i+1:]): \n",
    "            if posthoc.reject[c] == False:\n",
    "                if vayl == Best[0]:\n",
    "                    Best.append(val)\n",
    "                if val == Best[0]:\n",
    "                    Best.append(vayl)\n",
    "            c+=1\n",
    "    return(Best)"
   ]
  },
  {
   "cell_type": "code",
   "execution_count": null,
   "metadata": {
    "scrolled": true
   },
   "outputs": [
    {
     "name": "stdout",
     "output_type": "stream",
     "text": [
      "Level:  1\n",
      "[['PPFD_Avg'], ['AirTC_Avg'], ['VPD']]\n",
      "['PPFD_Avg'] 0.152806205094\n",
      "['AirTC_Avg'] 0.885234812474\n",
      "['VPD'] 0.754913292956\n",
      "['PPFD_Avg']\n",
      "Level:  2\n",
      "[['PPFD_Avg', 'AirTC_Avg'], ['PPFD_Avg', 'VPD']]\n",
      "['PPFD_Avg', 'AirTC_Avg'] 0.153709235356\n",
      "['PPFD_Avg', 'VPD'] 0.147097683166\n",
      "['PPFD_Avg+VPD']\n"
     ]
    }
   ],
   "source": [
    "def Combos(Model,L,factor=None):\n",
    "    Models=list()\n",
    "    for c in combinations(Model,L):\n",
    "        c = list(c)\n",
    "        if factor is None:\n",
    "            Models.append(c)\n",
    "        else:\n",
    "            for f in factor:\n",
    "                f = f.split('+')\n",
    "                if set(f).issubset(set(c)) and c not in Models:\n",
    "                    Models.append(c)\n",
    "    print(Models)\n",
    "    return(Models)\n",
    "\n",
    "Scores = Runs[['MSE','CI','STD']].reset_index(drop=True)\n",
    "Scores = (Scores.iloc[0:1])*0\n",
    "Scores['Level'] = len(FullModel)\n",
    "Scores['Key'] = str(Scores['Level'][0])+'_0'\n",
    "Scores['Model'] = '+'.join(FullModel)\n",
    "Scores['Best'] = 'N'\n",
    "\n",
    "Results = RunReps(FullModel,params,pool)\n",
    "ModelRuns = Results[1]\n",
    "ModelRuns = ModelRuns.to_frame()\n",
    "ModelRuns.rename(columns={'TempFill':'+'.join(FullModel)})\n",
    "\n",
    "for i in range(1,len(FullModel)):\n",
    "    print('Level: ',i)\n",
    "    if i == 1:\n",
    "        Models = Combos(FullModel,i)\n",
    "    else:\n",
    "        Models = Combos(FullModel,i,factor = Best)\n",
    "    Values = []\n",
    "    Names = []\n",
    "    for i,model in enumerate(Models):\n",
    "        level = len(model)\n",
    "        key = str(level)+'_'+str(i)\n",
    "        Name = '+'.join(model)\n",
    "        NewRow = Scores.iloc[-1].copy()\n",
    "        NewRow['Model'] = 'Model: '+Name\n",
    "        Results = RunReps(model,params,pool)\n",
    "        MSE = Results[0]\n",
    "        for mse in MSE:\n",
    "            Names.append(Name)\n",
    "            Values.append(mse)\n",
    "        mean,std = MSE.mean(),MSE.std()\n",
    "        CI = std/params['K']**.5*stats.t.ppf(1-0.05, params['K']-1)\n",
    "        d = {'Model':'+'.join(model),'MSE':mean,'STD':std,'Level':level,\n",
    "             'CI':CI,'Key':key,'Best':'N'}\n",
    "        score = pd.DataFrame(index=[0],data=d)\n",
    "        print(model,mean)\n",
    "        Scores = Scores.append(score,ignore_index=True)\n",
    "        ModelRuns['Model: '+'+'.join(model)] = Results[1]    \n",
    "    \n",
    "    Min = Scores.loc[Scores['Level']==level]\n",
    "    Min = Min.loc[Min['MSE'] == Min['MSE'].min(),'Model'].values\n",
    "    Best = Tukeys(Names,Values,Min)\n",
    "    Scores.loc[Scores['Model'].isin(Best),'Best']='Y'\n",
    "    Best = Min\n",
    "    print(Best)\n"
   ]
  },
  {
   "cell_type": "code",
   "execution_count": null,
   "metadata": {},
   "outputs": [
    {
     "name": "stdout",
     "output_type": "stream",
     "text": [
      "    N  MSE  STD   CI   SE\n",
      "0   1  0.0  0.0  0.0  0.0\n",
      "1   4  0.0  0.0  0.0  0.0\n",
      "2   9  0.0  0.0  0.0  0.0\n",
      "3  16  0.0  0.0  0.0  0.0\n",
      "4  25  0.0  0.0  0.0  0.0\n",
      "5  36  0.0  0.0  0.0  0.0\n",
      "6  49  0.0  0.0  0.0  0.0\n",
      "7  64  0.0  0.0  0.0  0.0\n"
     ]
    },
    {
     "name": "stderr",
     "output_type": "stream",
     "text": [
      "C:\\Anaconda3\\lib\\site-packages\\ipykernel_launcher.py:20: SettingWithCopyWarning: \n",
      "A value is trying to be set on a copy of a slice from a DataFrame\n",
      "\n",
      "See the caveats in the documentation: http://pandas.pydata.org/pandas-docs/stable/indexing.html#indexing-view-versus-copy\n",
      "C:\\Anaconda3\\lib\\site-packages\\ipykernel_launcher.py:21: SettingWithCopyWarning: \n",
      "A value is trying to be set on a copy of a slice from a DataFrame\n",
      "\n",
      "See the caveats in the documentation: http://pandas.pydata.org/pandas-docs/stable/indexing.html#indexing-view-versus-copy\n",
      "C:\\Anaconda3\\lib\\site-packages\\ipykernel_launcher.py:22: SettingWithCopyWarning: \n",
      "A value is trying to be set on a copy of a slice from a DataFrame\n",
      "\n",
      "See the caveats in the documentation: http://pandas.pydata.org/pandas-docs/stable/indexing.html#indexing-view-versus-copy\n"
     ]
    },
    {
     "name": "stdout",
     "output_type": "stream",
     "text": [
      "Finisehed Run  0  MSE:  0.374306105031\n",
      "Finisehed Run  1  MSE:  0.205731229305\n",
      "Finisehed Run  2  MSE:  0.156696733509\n",
      "Finisehed Run  3  MSE:  0.14801878713\n",
      "Finisehed Run  4  MSE:  0.148756144013\n"
     ]
    }
   ],
   "source": [
    "\n",
    "def Curve(x,a,b,c):\n",
    "    return (a/(b+x)**c)\n",
    "\n",
    "N = Runs['N']\n",
    "NRuns = Runs*0\n",
    "NRuns['N']=N\n",
    "print(NRuns)\n",
    "\n",
    "model = Best[0].split('+')\n",
    "\n",
    "for i in NRuns.index:\n",
    "    try:\n",
    "        params['T']=NRuns['T'].iloc[i]\n",
    "    except:\n",
    "        params['T'] = 0\n",
    "    params['N']=NRuns['N'].iloc[i]\n",
    "    Results = RunReps(model,params,pool,plot=False)\n",
    "    MSE = Results[0]\n",
    "    NRuns['MSE'][i]=MSE.mean()\n",
    "    NRuns['STD'][i]=MSE.std()\n",
    "    NRuns['SE'][i]=MSE.std()/(params['K']**.5)\n",
    "    print('Finisehed Run ',str(i),' MSE: ',MSE.mean())\n",
    "\n",
    "NRuns['CI'] = NRuns['STD']/params['K']**.5*stats.t.ppf(1-0.05, params['K']-2)\n",
    "\n",
    "popt, pcov = curve_fit(Curve, NRuns['N'].values, NRuns['MSE'].values)\n",
    "\n",
    "fig,ax = plt.subplots()\n",
    "ax.bar(NRuns['N'],NRuns['MSE'])\n",
    "N = np.arange(Runs['N'].min(),Runs['N'].max())\n",
    "Fit = Curve(N,*popt)\n",
    "ax.plot(N,Fit,color='r')\n",
    "Min = NRuns.loc[NRuns['MSE']==NRuns['MSE'].min()]\n",
    "Max = (Min['MSE']+Min['SE']).values[0]\n",
    "ax.plot(N,N*0+Max,color = 'black')\n",
    "params['N']=N[Fit<Max].min()\n",
    "plt.show()\n",
    "\n",
    "\n",
    "\n",
    "level = len(Best)\n",
    "key = '0_'+str(params['N'])\n",
    "Name = '+'.join(Best)\n",
    "NewRow = Scores.iloc[-1].copy()\n",
    "NewRow['Model'] = 'BestModel: '+Name\n",
    "Results = RunReps(model,params,pool)\n",
    "MSE = Results[0]\n",
    "for mse in MSE:\n",
    "    Names.append(Name)\n",
    "    Values.append(mse)\n",
    "mean,std = MSE.mean(),MSE.std()\n",
    "CI = std/params['K']**.5*stats.t.ppf(1-0.05, params['K']-1)\n",
    "d = {'Model':'+'.join(model),'MSE':mean,'STD':std,'Level':level,\n",
    "     'CI':CI,'Key':key,'Best':'N'}\n",
    "score = pd.DataFrame(index=[0],data=d)\n",
    "print(model,mean)\n",
    "Scores = Scores.append(score,ignore_index=True)\n",
    "ModelRuns['BestModel: '+'+'.join(model)] = Results[1] \n",
    "\n",
    "\n",
    "print(params['N'])\n",
    "# print(time.time()-Time)\n",
    "\n",
    "\n",
    "Scores.to_csv('GapFillingSummary'+FillVar+'_Test.csv')\n",
    "ModelNRuns.to_csv('GapFilled'+FillVar+'_Test.csv')"
   ]
  },
  {
   "cell_type": "code",
   "execution_count": null,
   "metadata": {},
   "outputs": [],
   "source": [
    "\n",
    "if __name__=='__main__'and params['proc'] != 1:\n",
    "    pool.close()\n",
    "\n",
    "print(time.time()-Time)"
   ]
  },
  {
   "cell_type": "code",
   "execution_count": null,
   "metadata": {},
   "outputs": [],
   "source": [
    "plt.plot(N,2/(N+10)**1.75)\n",
    "plt.show()"
   ]
  },
  {
   "cell_type": "code",
   "execution_count": null,
   "metadata": {
    "collapsed": true
   },
   "outputs": [],
   "source": []
  }
 ],
 "metadata": {
  "kernelspec": {
   "display_name": "Python 3",
   "language": "python",
   "name": "python3"
  },
  "language_info": {
   "codemirror_mode": {
    "name": "ipython",
    "version": 3
   },
   "file_extension": ".py",
   "mimetype": "text/x-python",
   "name": "python",
   "nbconvert_exporter": "python",
   "pygments_lexer": "ipython3",
   "version": "3.6.2"
  }
 },
 "nbformat": 4,
 "nbformat_minor": 2
}
