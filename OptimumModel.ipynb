{
 "cells": [
  {
   "cell_type": "markdown",
   "metadata": {},
   "source": [
    "##  Optimze and a Dense Neural Network for gap filling and feature identification\n",
    "\n",
    "** With a few tweaks to RepRunner, an LSTM can be run instead"
   ]
  },
  {
   "cell_type": "code",
   "execution_count": 34,
   "metadata": {
    "collapsed": true
   },
   "outputs": [],
   "source": [
    "import time\n",
    "import math\n",
    "import numpy as np\n",
    "import pandas as pd\n",
    "import matplotlib.pyplot as plt\n",
    "from itertools import combinations\n",
    "from functools import partial\n",
    "from multiprocessing import Pool\n",
    "from sklearn.preprocessing import StandardScaler\n",
    "from sklearn import metrics\n",
    "from sklearn.model_selection import RepeatedKFold\n",
    "# import warnings\n",
    "# warnings.filterwarnings('ignore')\n",
    "from sklearn.model_selection import train_test_split\n",
    "\n",
    "## Personal Modules\n",
    "import ReadStandardTimeFill as RSTF\n",
    "# import LSTM_Train as LSTM\n",
    "import importlib\n",
    "# import LSTM\n",
    "import DenseNet as Dense\n",
    "# importlib.reload(LSTM)\n",
    "importlib.reload(Dense)\n",
    "importlib.reload(RSTF)\n",
    "\n",
    "%matplotlib inline\n",
    "%config IPCompleter.greedy=True\n",
    "\n",
    "from scipy.optimize import minimize, curve_fit\n",
    "from scipy.stats import norm\n",
    "from sklearn.gaussian_process import GaussianProcessRegressor\n",
    "from sklearn.gaussian_process.kernels import Matern, WhiteKernel, ConstantKernel\n",
    "from matplotlib import cm\n",
    "\n",
    "from scipy import stats\n",
    "from statsmodels.stats.multicomp import pairwise_tukeyhsd\n",
    "# pool.close()"
   ]
  },
  {
   "cell_type": "code",
   "execution_count": 39,
   "metadata": {
    "collapsed": true
   },
   "outputs": [],
   "source": [
    "def Curve(x,a,b,c):\n",
    "    return (a/(b+x)**c)\n",
    "\n",
    "def Combos(Model,L,factor=None):\n",
    "    Models=list()\n",
    "    for c in combinations(Model,L):\n",
    "        c = list(c)\n",
    "        if factor is None:\n",
    "            Models.append(c)\n",
    "        else:\n",
    "            for f in factor:\n",
    "                f = f.split('+')\n",
    "                if set(f).issubset(set(c)) and c not in Models:\n",
    "                    Models.append(c)\n",
    "    return(Models)\n",
    "\n",
    "def TTV_Split(iteration,Memory,X,y,params,X_fill):\n",
    "    X_train,X_test,y_train,y_test=train_test_split(X,y, test_size=0.1, random_state=iteration)\n",
    "    X_train,X_val,y_train,y_val=train_test_split(X_train,y_train, test_size=0.11, random_state=iteration)\n",
    "    return(Dense.Train_Steps(params['epochs'],params['N'],X_train,X_test,X_val,y_train,y_test,\n",
    "                            y_val,iteration,X_fill = X_fill,Memory=Memory),y_val)\n",
    "\n",
    "def RunReps(Model,params,pool = None,plot=False,FullReturn=False):\n",
    "    RST = RSTF.ReadStandardTimeFill(Path)\n",
    "    offset = 5/params['proc']\n",
    "    Memory = (math.floor(100/params['proc'])- offset) * .01\n",
    "    MSE = []\n",
    "    RST.Scale(params['Y'],Model)\n",
    "    if params['T'] >0:\n",
    "        RST.TimeShape(params['T'])\n",
    "    y = RST.y*1.0\n",
    "    X = RST.X*1.0\n",
    "    X_fill = RST.X_fill*1.0\n",
    "    MSE = []\n",
    "    R2 =[]\n",
    "    Y_fill = []\n",
    "    Yval = []\n",
    "    y_val= []\n",
    "    if __name__=='__main__'and params['proc'] != 1:\n",
    "        for i,results in enumerate(pool.imap(partial(TTV_Split,Memory=Memory,X=X,y=y,params=params,X_fill=X_fill),\n",
    "                                             range(params['K']))):\n",
    "            Y_fill.append(results[0][0])\n",
    "            Yval = RST.YScaled.inverse_transform(results[0][1].reshape(-1,1))\n",
    "            y_val = RST.YScaled.inverse_transform(results[1].reshape(-1,1))\n",
    "            MSE.append(metrics.mean_squared_error(Yval,y_val))\n",
    "            R2.append(metrics.r2_score(Yval,y_val))\n",
    "    else:\n",
    "        for i in range(params['K']):\n",
    "            results = TTV_Split(i,Memory,X,y,params,X_fill)\n",
    "            Y_fill.append(results[0][0])\n",
    "            Yval = RST.YScaled.inverse_transform(results[0][1].reshape(-1,1))\n",
    "            y_val = RST.YScaled.inverse_transform(results[1].reshape(-1,1))\n",
    "            MSE.append(metrics.mean_squared_error(Yval,y_val))\n",
    "            R2.append(metrics.r2_score(Yval,y_val))\n",
    "    Y_fill = np.asanyarray(Y_fill)\n",
    "    Y_fill = Y_fill.mean(axis=0) \n",
    "    FillVarName = FillVar.replace('f','F')\n",
    "    RST.Fill(Y_fill,FillVarName) \n",
    "    \n",
    "    return(MSE,R2,RST.Master['TempFill'])\n",
    "#     if FullReturn == False:\n",
    "#         return(MSE,R2,RST.Master['TempFill'])\n",
    "# #         return(MSE,RST.Master['TempFill'],R2)\n",
    "#     else:\n",
    "#         return(MSE,R2)"
   ]
  },
  {
   "cell_type": "code",
   "execution_count": 40,
   "metadata": {},
   "outputs": [
    {
     "name": "stdout",
     "output_type": "stream",
     "text": [
      "{'proc': 1, 'K': 3, 'epochs': 100, 'Y': 'fch4'}\n"
     ]
    }
   ],
   "source": [
    "FillVar = 'fch4'\n",
    "FullModel = ['H','wind_speed','air_pressure','PPFD_Avg','AirTC_Avg',\n",
    "             'VPD','Temp','VWC','Sedge','Shrub','Grass','Sparse','Out_of_Basin']\n",
    "FullModel = ['PPFD_Avg','AirTC_Avg','Sedge','VWC','Grass']\n",
    "Runs,params = Dense.Params('Test',FillVar,MP=False)\n",
    "print(params)"
   ]
  },
  {
   "cell_type": "code",
   "execution_count": 41,
   "metadata": {
    "scrolled": false
   },
   "outputs": [
    {
     "name": "stdout",
     "output_type": "stream",
     "text": [
      "   N        MSE        R2\n",
      "0  4  86.452471 -1.376599\n",
      "1  4  88.610795 -3.372810\n",
      "2  4  88.199515 -0.599466\n",
      "    N        MSE        R2\n",
      "3  16  49.761825  0.458860\n",
      "4  16  69.944018 -1.000787\n",
      "5  16  66.244754 -0.180070\n",
      "    N        MSE        R2\n",
      "6  36  49.913740  0.462647\n",
      "7  36  61.436450 -0.703549\n",
      "8  36  63.003504 -0.035525\n",
      "     N        MSE        R2\n",
      "9   64  46.867854  0.511659\n",
      "10  64  62.196082 -0.653025\n",
      "11  64  64.211023 -0.017962\n",
      "      N        MSE        R2\n",
      "12  100  46.655984  0.504491\n",
      "13  100  63.371878 -0.796974\n",
      "14  100  65.266649 -0.092532\n"
     ]
    }
   ],
   "source": [
    "Time = time.time()\n",
    "Path = 'Data_Footprints_2018-06-12.csv'\n",
    "\n",
    "if __name__=='__main__'and params['proc'] != 1:\n",
    "    pool = Pool(processes=params['proc'],maxtasksperchild=75)\n",
    "else:pool=None\n",
    "    \n",
    "def RunLoop(Runs):\n",
    "    for N in Runs['N'].unique():\n",
    "        params['T'] = 0\n",
    "        params['N']=N\n",
    "        Results = RunReps(FullModel,params,pool,plot=True)\n",
    "        MSE = Results[0]\n",
    "        R2 = Results[1]\n",
    "        Runs.loc[Runs['N']==N,'MSE']=MSE\n",
    "        Runs.loc[Runs['N']==N,'R2']=R2\n",
    "        print(Runs.loc[Runs['N']==N])\n",
    "    return(Runs)\n",
    "\n",
    "Runs = RunLoop(Runs)"
   ]
  },
  {
   "cell_type": "markdown",
   "metadata": {},
   "source": [
    "# The \"Optimum\" Sized Model"
   ]
  },
  {
   "cell_type": "code",
   "execution_count": 42,
   "metadata": {
    "scrolled": false
   },
   "outputs": [
    {
     "name": "stdout",
     "output_type": "stream",
     "text": [
      "           MSE        R2         SD        SE\n",
      "N                                            \n",
      "4    87.754260 -1.782958   1.145984  0.661634\n",
      "16   61.983532 -0.240666  10.744708  6.203460\n",
      "36   58.117898 -0.092143   7.148082  4.126947\n",
      "64   57.758320 -0.053109   9.485076  5.476211\n",
      "100  58.431504 -0.128338  10.241811  5.913112\n"
     ]
    },
    {
     "name": "stderr",
     "output_type": "stream",
     "text": [
      "C:\\Anaconda3\\lib\\site-packages\\ipykernel_launcher.py:2: RuntimeWarning: invalid value encountered in power\n",
      "  \n"
     ]
    },
    {
     "data": {
      "image/png": "[encoded data removed]",
      "text/plain": [
       "<matplotlib.figure.Figure at 0x12294aae470>"
      ]
     },
     "metadata": {},
     "output_type": "display_data"
    },
    {
     "name": "stdout",
     "output_type": "stream",
     "text": [
      "9 63.234531146908054\n",
      "121.24847865104675\n"
     ]
    }
   ],
   "source": [
    "\n",
    "Group = Runs.groupby('N').mean()\n",
    "Group['SD'] = Runs[['N','MSE']].groupby('N').std()\n",
    "Group['SE'] = Runs[['N','MSE']].groupby('N').sem()\n",
    "\n",
    "print(Group)\n",
    "Min = Group.loc[Group['MSE']==Group['MSE'].min()]\n",
    "\n",
    "fig,ax = plt.subplots(figsize=(8,8))\n",
    "ax.scatter(Runs['N'],Runs['MSE'])\n",
    "popt, pcov = curve_fit(Curve, Runs['N'].values, Runs['MSE'].values)\n",
    "N = np.arange(Runs['N'].min(),Runs['N'].max())\n",
    "Fit = Curve(N,*popt)\n",
    "ax.plot(N,Fit,color='r')\n",
    "Max = (Min['MSE']+Min['SE']).values[0]\n",
    "ax.plot(N,N*0+Max,color = 'black')\n",
    "plt.grid()\n",
    "plt.show()\n",
    "try:\n",
    "    params['N']=N[Fit<Max].min()\n",
    "except:\n",
    "    params['N']=N[-1]\n",
    "    pass\n",
    "print(params['N'],Max)\n",
    "print(time.time()-Time)"
   ]
  },
  {
   "cell_type": "markdown",
   "metadata": {},
   "source": [
    "# Feature Identification"
   ]
  },
  {
   "cell_type": "code",
   "execution_count": 45,
   "metadata": {},
   "outputs": [
    {
     "name": "stdout",
     "output_type": "stream",
     "text": [
      "         MSE        R2  Level  Key                               Model\n",
      "0  58.816132  0.270730      5  5_0  PPFD_Avg+AirTC_Avg+Sedge+VWC+Grass\n",
      "1  71.619531 -1.015699      5  5_0  PPFD_Avg+AirTC_Avg+Sedge+VWC+Grass\n",
      "2  71.250657 -0.316879      5  5_0  PPFD_Avg+AirTC_Avg+Sedge+VWC+Grass\n"
     ]
    }
   ],
   "source": [
    "Scores = Runs[['MSE','R2']].reset_index(drop=True)\n",
    "Scores = (Scores.iloc[0:params['K']])*0\n",
    "Scores['Level'] = len(FullModel)\n",
    "Scores['Key'] = str(Scores['Level'][0])+'_0'\n",
    "Scores['Model'] = '+'.join(FullModel)\n",
    "\n",
    "Results = RunReps(FullModel,params,pool)\n",
    "\n",
    "MSE = Results[0]\n",
    "R2 = Results[1]\n",
    "# mean,std = np.asanyarray(MSE).mean(),np.asanyarray(MSE).std()\n",
    "# CI = std/params['K']**.5*stats.t.ppf(1-0.05, params['K']-1)\n",
    "Scores['MSE']=Results[0]#MSE#mean\n",
    "Scores['R2']=Results[1]#R2#.mean()\n",
    "\n",
    "ModelRuns = Results[2]\n",
    "ModelRuns = ModelRuns.to_frame()\n",
    "ModelRuns['Model: '+'+'.join(FullModel)]=ModelRuns['TempFill']\n",
    "ModelRuns=ModelRuns.drop('TempFill',axis=1)\n",
    "print(Scores)"
   ]
  },
  {
   "cell_type": "code",
   "execution_count": 46,
   "metadata": {
    "scrolled": false
   },
   "outputs": [
    {
     "name": "stdout",
     "output_type": "stream",
     "text": [
      "Level:  1\n"
     ]
    },
    {
     "name": "stderr",
     "output_type": "stream",
     "text": [
      "C:\\Anaconda3\\lib\\site-packages\\pandas\\core\\frame.py:6211: FutureWarning: Sorting because non-concatenation axis is not aligned. A future version\n",
      "of pandas will change to not sort by default.\n",
      "\n",
      "To accept the future behavior, pass 'sort=False'.\n",
      "\n",
      "To retain the current behavior and silence the warning, pass 'sort=True'.\n",
      "\n",
      "  sort=sort)\n"
     ]
    },
    {
     "name": "stdout",
     "output_type": "stream",
     "text": [
      "   Key  Level         MSE     Model          R2\n",
      "3  1_0      1  156.903099  PPFD_Avg  -24.267957\n",
      "4  1_0      1  117.461079  PPFD_Avg  -56.068982\n",
      "5  1_0      1  127.915747  PPFD_Avg -171.707000\n",
      "   Key  Level         MSE      Model         R2\n",
      "6  1_1      1  144.494171  AirTC_Avg -17.904157\n",
      "7  1_1      1  111.042951  AirTC_Avg -17.526503\n",
      "8  1_1      1  125.052150  AirTC_Avg -17.714071\n",
      "    Key  Level         MSE  Model        R2\n",
      "9   1_2      1  131.587189  Sedge -6.929600\n",
      "10  1_2      1  109.695472  Sedge -7.277758\n",
      "11  1_2      1  117.477821  Sedge -6.332558\n",
      "    Key  Level         MSE Model         R2\n",
      "12  1_3      1  145.152068   VWC -38.794673\n",
      "13  1_3      1  117.304628   VWC -20.014713\n",
      "14  1_3      1  117.212661   VWC -25.933860\n",
      "    Key  Level         MSE  Model         R2\n",
      "15  1_4      1  150.503377  Grass -22.384490\n",
      "16  1_4      1  114.574116  Grass -24.212856\n",
      "17  1_4      1  116.243146  Grass -15.318489\n",
      "['Sedge']\n",
      "Level:  2\n",
      "    Key  Level         MSE           Model        R2\n",
      "18  2_0      2  113.292688  PPFD_Avg+Sedge -3.772199\n",
      "19  2_0      2  106.486516  PPFD_Avg+Sedge -6.989202\n",
      "20  2_0      2  107.322862  PPFD_Avg+Sedge -5.531499\n",
      "    Key  Level         MSE            Model        R2\n",
      "21  2_1      2  126.705070  AirTC_Avg+Sedge -5.912901\n",
      "22  2_1      2  108.619249  AirTC_Avg+Sedge -4.779665\n",
      "23  2_1      2  107.458709  AirTC_Avg+Sedge -5.413771\n",
      "    Key  Level        MSE      Model        R2\n",
      "24  2_2      2  72.195277  Sedge+VWC -0.117032\n",
      "25  2_2      2  85.997833  Sedge+VWC -2.574539\n",
      "26  2_2      2  76.028507  Sedge+VWC -1.332819\n",
      "    Key  Level         MSE        Model        R2\n",
      "27  2_3      2  133.200572  Sedge+Grass -7.241180\n",
      "28  2_3      2  106.274775  Sedge+Grass -7.371172\n",
      "29  2_3      2  113.100703  Sedge+Grass -6.867485\n",
      "['Sedge+VWC']\n",
      "Level:  3\n",
      "    Key  Level        MSE               Model        R2\n",
      "30  3_0      3  68.753504  PPFD_Avg+Sedge+VWC  0.071613\n",
      "31  3_0      3  85.643962  PPFD_Avg+Sedge+VWC -2.336872\n",
      "32  3_0      3  84.228608  PPFD_Avg+Sedge+VWC -1.565829\n",
      "    Key  Level        MSE                Model        R2\n",
      "33  3_1      3  70.647820  AirTC_Avg+Sedge+VWC -0.054742\n",
      "34  3_1      3  79.245040  AirTC_Avg+Sedge+VWC -1.852402\n",
      "35  3_1      3  68.933304  AirTC_Avg+Sedge+VWC -0.582614\n",
      "    Key  Level        MSE            Model        R2\n",
      "36  3_2      3  65.640312  Sedge+VWC+Grass  0.053374\n",
      "37  3_2      3  75.932155  Sedge+VWC+Grass -1.047336\n",
      "38  3_2      3  74.376976  Sedge+VWC+Grass -0.972606\n",
      "['Sedge+VWC+Grass']\n",
      "Level:  4\n",
      "    Key  Level        MSE                     Model        R2\n",
      "39  4_0      4  67.396304  PPFD_Avg+Sedge+VWC+Grass  0.128443\n",
      "40  4_0      4  77.163629  PPFD_Avg+Sedge+VWC+Grass -1.650459\n",
      "41  4_0      4  82.453577  PPFD_Avg+Sedge+VWC+Grass -1.176408\n",
      "    Key  Level        MSE                      Model        R2\n",
      "42  4_1      4  72.680891  AirTC_Avg+Sedge+VWC+Grass -0.088399\n",
      "43  4_1      4  74.858559  AirTC_Avg+Sedge+VWC+Grass -1.173796\n",
      "44  4_1      4  76.206978  AirTC_Avg+Sedge+VWC+Grass -0.814523\n",
      "['AirTC_Avg+Sedge+VWC+Grass']\n"
     ]
    }
   ],
   "source": [
    "for i in range(1,len(FullModel)):\n",
    "    print('Level: ',i)\n",
    "    if i == 1:\n",
    "        Models = Combos(FullModel,i)\n",
    "    else:\n",
    "        Models = Combos(FullModel,i,factor = Best)\n",
    "    Values = []\n",
    "    Names = []\n",
    "    for i,model in enumerate(Models):\n",
    "        level = len(model)\n",
    "        key = str(level)+'_'+str(i)\n",
    "        Name = '+'.join(model)\n",
    "        NewRow = Scores.iloc[-1].copy()\n",
    "        NewRow['Model'] = 'Model: '+Name\n",
    "        Results = RunReps(model,params,pool)\n",
    "        MSE = Results[0]\n",
    "        R2 = Results[1]\n",
    "        d = {'Model':'+'.join(model),'MSE':MSE,'Key':key,'R2':R2,'Level':level}#,'Best':'N'\n",
    "        score = pd.DataFrame(index=[x for x in range(params['K'])],data=d)\n",
    "        Scores = Scores.append(score,ignore_index=True)\n",
    "        print(Scores.loc[Scores['Key']==key])\n",
    "        ModelRuns['Model: '+'+'.join(model)] = Results[2]    \n",
    "    Group = Scores.groupby('Key').agg({'Model': 'first', \n",
    "                                            'Level': 'first', \n",
    "                                            'MSE': 'mean', \n",
    "                                            'R2': 'mean'})#.reset_index()#mean()  \n",
    "    Group['SD'] = Scores[['Key','MSE']].groupby('Key').std()\n",
    "    Group['SE'] = Scores[['Key','MSE']].groupby('Key').sem()\n",
    "    Min = Group.loc[Group['Level']==level]\n",
    "    Best = Min.loc[Min['MSE'] == Min['MSE'].min(),'Model'].values\n",
    "    print(Best)\n",
    "    "
   ]
  },
  {
   "cell_type": "code",
   "execution_count": 47,
   "metadata": {
    "scrolled": false
   },
   "outputs": [
    {
     "name": "stdout",
     "output_type": "stream",
     "text": [
      "                                  Model  Level         MSE        R2  \\\n",
      "Key                                                                    \n",
      "1_2                               Sedge      1  119.586828 -6.846639   \n",
      "2_2                           Sedge+VWC      2   78.073872 -1.341464   \n",
      "3_2                     Sedge+VWC+Grass      3   71.983148 -0.655523   \n",
      "4_1           AirTC_Avg+Sedge+VWC+Grass      4   74.582143 -0.692239   \n",
      "5_0  PPFD_Avg+AirTC_Avg+Sedge+VWC+Grass      5   67.228773 -0.353949   \n",
      "\n",
      "            SD        SE  \n",
      "Key                       \n",
      "1_2  11.097195  6.406969  \n",
      "2_2   7.124975  4.113606  \n",
      "3_2   5.547821  3.203036  \n",
      "4_1   1.779221  1.027234  \n",
      "5_0   7.287895  4.207668  \n",
      "                                Model  Level        MSE        R2        SD  \\\n",
      "4  PPFD_Avg+AirTC_Avg+Sedge+VWC+Grass      5  67.228773 -0.353949  7.287895   \n",
      "\n",
      "         SE  \n",
      "4  4.207668  \n"
     ]
    },
    {
     "name": "stderr",
     "output_type": "stream",
     "text": [
      "C:\\Anaconda3\\lib\\site-packages\\ipykernel_launcher.py:12: SettingWithCopyWarning: \n",
      "A value is trying to be set on a copy of a slice from a DataFrame\n",
      "\n",
      "See the caveats in the documentation: http://pandas.pydata.org/pandas-docs/stable/indexing.html#indexing-view-versus-copy\n",
      "  if sys.path[0] == '':\n"
     ]
    },
    {
     "name": "stdout",
     "output_type": "stream",
     "text": [
      "   N        MSE        R2\n",
      "0  4  86.455403 -1.376928\n",
      "1  4  88.603614 -3.370912\n",
      "2  4  88.246206 -0.597332\n",
      "    N        MSE        R2\n",
      "3  16  49.767541  0.459424\n",
      "4  16  69.923231 -0.998003\n",
      "5  16  66.244239 -0.180005\n",
      "    N        MSE        R2\n",
      "6  36  49.865133  0.463606\n",
      "7  36  61.888802 -0.734880\n",
      "8  36  63.026459 -0.035682\n",
      "     N        MSE        R2\n",
      "9   64  46.857750  0.511789\n",
      "10  64  62.180826 -0.650891\n",
      "11  64  64.240284 -0.019291\n",
      "      N        MSE        R2\n",
      "12  100  46.554862  0.502895\n",
      "13  100  63.342358 -0.798377\n",
      "14  100  65.267063 -0.092265\n",
      "           MSE        R2         SD        SE\n",
      "N                                            \n",
      "4    87.754260 -1.782958   1.145984  0.661634\n",
      "16   61.983532 -0.240666  10.744708  6.203460\n",
      "36   58.117898 -0.092143   7.148082  4.126947\n",
      "64   57.758320 -0.053109   9.485076  5.476211\n",
      "100  58.431504 -0.128338  10.241811  5.913112\n",
      "9\n"
     ]
    },
    {
     "name": "stderr",
     "output_type": "stream",
     "text": [
      "C:\\Anaconda3\\lib\\site-packages\\ipykernel_launcher.py:22: RuntimeWarning: invalid value encountered in power\n"
     ]
    },
    {
     "data": {
      "image/png": "[encoded data removed]",
      "text/plain": [
       "<matplotlib.figure.Figure at 0x122a160dd30>"
      ]
     },
     "metadata": {},
     "output_type": "display_data"
    },
    {
     "name": "stdout",
     "output_type": "stream",
     "text": [
      "9\n"
     ]
    }
   ],
   "source": [
    "Group = Scores.groupby('Key').agg({'Model': 'first', \n",
    "                                        'Level': 'first', \n",
    "                                        'MSE': 'mean', \n",
    "                                        'R2': 'mean'})#.reset_index()#mean()  \n",
    "Group['SD'] = Scores[['Key','MSE']].groupby('Key').std()\n",
    "Group['SE'] = Scores[['Key','MSE']].groupby('Key').sem()\n",
    "Min = Group.loc[Group['Level']==level]\n",
    "\n",
    "Levels = Group.groupby('Level').min()\n",
    "Sub=Group[Group['MSE'].isin(Levels['MSE'].values)]\n",
    "print(Sub)\n",
    "Sub.sort_values('Level',inplace=True)\n",
    "Sub = Sub.loc[Sub['Level']>=1]\n",
    "Sub.reset_index(inplace=True,drop=True)\n",
    "Min = Sub.loc[Sub['MSE']==Sub['MSE'].min()]\n",
    "Parsimony = (Sub.loc[Sub['MSE']<(Min['MSE'].values+Min['SE'].values)[0]])\n",
    "Parsimony = Parsimony.loc[Parsimony['Level']==Parsimony['Level'].min()]\n",
    "print(Parsimony)\n",
    "Best = Parsimony['Model'].values\n",
    "\n",
    "def Curve(x,a,b,c):\n",
    "    return (a/(b+x)**c)\n",
    "\n",
    "N = Runs['N']\n",
    "NRuns = Runs*0\n",
    "NRuns['N']=N\n",
    "\n",
    "model = Best[0].split('+')\n",
    "NRuns = RunLoop(NRuns)\n",
    "Group = Runs.groupby('N').mean()\n",
    "Group['SD'] = Runs[['N','MSE']].groupby('N').std()\n",
    "Group['SE'] = Runs[['N','MSE']].groupby('N').sem()\n",
    "\n",
    "print(Group)\n",
    "Min = Group.loc[Group['MSE']==Group['MSE'].min()]\n",
    "\n",
    "fig,ax = plt.subplots(figsize=(8,8))\n",
    "ax.scatter(Runs['N'],Runs['MSE'])\n",
    "popt, pcov = curve_fit(Curve, NRuns['N'].values, NRuns['MSE'].values)\n",
    "\n",
    "N = np.arange(NRuns['N'].min(),NRuns['N'].max())\n",
    "Fit = Curve(N,*popt)\n",
    "ax.plot(N,Fit,color='r')\n",
    "Max = (Min['MSE']+Min['SE']).values[0]\n",
    "ax.plot(N,N*0+Max,color = 'black')\n",
    "try:\n",
    "    params['N']=N[Fit<Max].min()\n",
    "except:\n",
    "    params['N']=N[-1]\n",
    "    pass\n",
    "print(params['N'])\n",
    "plt.grid()\n",
    "plt.show()\n",
    "print(params['N'])"
   ]
  },
  {
   "cell_type": "code",
   "execution_count": 49,
   "metadata": {},
   "outputs": [
    {
     "name": "stdout",
     "output_type": "stream",
     "text": [
      "['PPFD_Avg+AirTC_Avg+Sedge+VWC+Grass']\n",
      "9\n"
     ]
    },
    {
     "name": "stderr",
     "output_type": "stream",
     "text": [
      "C:\\Anaconda3\\lib\\site-packages\\pandas\\core\\frame.py:6211: FutureWarning: Sorting because non-concatenation axis is not aligned. A future version\n",
      "of pandas will change to not sort by default.\n",
      "\n",
      "To accept the future behavior, pass 'sort=False'.\n",
      "\n",
      "To retain the current behavior and silence the warning, pass 'sort=True'.\n",
      "\n",
      "  sort=sort)\n"
     ]
    }
   ],
   "source": [
    "level = 0#len(Best)\n",
    "print(Best)\n",
    "key = '0_'+str(params['N'])\n",
    "Name = '+'.join(Best)\n",
    "NewRow = Scores.iloc[-1].copy()\n",
    "NewRow['Model'] = 'BestModel: '+Name\n",
    "Results = RunReps(model,params,pool)\n",
    "MSE = Results[0]\n",
    "# for mse in MSE:\n",
    "#     Names.append(Name)\n",
    "#     Values.append(mse)\n",
    "# mean,std = MSE.mean(),MSE.std()\n",
    "# CI = std/params['K']**.5*stats.t.ppf(1-0.05, params['K']-1)\n",
    "R2 = Results[1]\n",
    "d = {'Model':'+'.join(model),'MSE':MSE,'Key':key,'R2':R2,'Level':level}#,'Best':'N'\n",
    "score = pd.DataFrame(index=[x for x in range(params['K'])],data=d)\n",
    "Scores = Scores.append(score,ignore_index=True)\n",
    "Scores = Scores.append(score,ignore_index=True)\n",
    "ModelRuns['BestModel: '+'+'.join(model)] = Results[2] \n",
    "print(params['N'])"
   ]
  },
  {
   "cell_type": "code",
   "execution_count": 20,
   "metadata": {},
   "outputs": [
    {
     "name": "stdout",
     "output_type": "stream",
     "text": [
      "504.90875220298767\n"
     ]
    }
   ],
   "source": [
    "Scores.to_csv('GapFillingSummary'+FillVar+'.csv')\n",
    "ModelRuns.to_csv('GapFilled'+FillVar+'.csv')\n",
    "\n",
    "if __name__=='__main__'and params['proc'] != 1:\n",
    "    pool.close()\n",
    "\n",
    "print(time.time()-Time)"
   ]
  }
 ],
 "metadata": {
  "kernelspec": {
   "display_name": "Python 3",
   "language": "python",
   "name": "python3"
  },
  "language_info": {
   "codemirror_mode": {
    "name": "ipython",
    "version": 3
   },
   "file_extension": ".py",
   "mimetype": "text/x-python",
   "name": "python",
   "nbconvert_exporter": "python",
   "pygments_lexer": "ipython3",
   "version": "3.6.2"
  }
 },
 "nbformat": 4,
 "nbformat_minor": 2
}
